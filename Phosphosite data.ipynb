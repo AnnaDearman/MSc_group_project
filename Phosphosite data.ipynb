{
 "cells": [
  {
   "cell_type": "markdown",
   "metadata": {},
   "source": [
    "# Editing Phosphosite Data Tables in Python"
   ]
  },
  {
   "cell_type": "markdown",
   "metadata": {},
   "source": [
    "Three phosphosite data tables have been downloaded as tab-delimited files from https://www.phosphosite.org/staticDownloads:\n",
    "\n",
    "- Phosphorylation_site_dataset\n",
    "    - The full list of phosphosites available on the website (371,203 rows long on 2020_01_11)\n",
    "  \n",
    "- Kinase_Substrate_Dataset\n",
    "    - A list of known kinase-phosphosite relationships (18,455 rows long on 2020_01_11)\n",
    "    \n",
    "- Disease-associated_sites\n",
    "    - A list of phosphosites with known links to disease (1,363 rows on on 2020_01_11)\n",
    "   \n",
    "They will be imported as pandas dataframes, and will have the following changes made to them, in this Jupyter notebook:\n",
    "   - Remove any rows with information about non-human proteins (targets and kinases).\n",
    "   - Remove any rows where \"gene\" is blank (this field is essential for creating phosphosite and kinase IDs that will enable different tables to be linked).\n",
    "   - Remove any rows in the diseases table where \"disease\" is blank.\n",
    "   - For tables with a \"modified residue\" column that includes a flag at the end to denote the type of post-translational modification (PTM), remove any that are not \"-p\" for \"phosphorylation\".\n",
    "   - Generate \"phosphosite ID\" columns, using information in other columns, to match the format in user-submitted quantitative phosphoproteomics files, and to allow the tables to be linked in the SQL database.\n",
    "   - For the kinase-substrate table, generate a new column for the kinase name that will match the kinase table in the SQL database.\n",
    "   - Ensure all genes listed are in uppercase.\n",
    "   - Remove the unnecessary \"-p\" from the \"modified residue\" column in the phosphosite table, as our web app will only specialise in phosphosites.\n",
    "   - Drop any other unnecessary columns.\n",
    "   - Add a primary keys column.\n",
    "   - Add a binary column to the phosphosites table to indicate whether the row is for an isoform (1) or not (0).\n",
    "\n",
    "Finally, they will be exported as .csv files."
   ]
  },
  {
   "cell_type": "markdown",
   "metadata": {},
   "source": [
    "Import required packages"
   ]
  },
  {
   "cell_type": "code",
   "execution_count": 39,
   "metadata": {},
   "outputs": [],
   "source": [
    "import pandas as pd\n",
    "import re"
   ]
  },
  {
   "cell_type": "markdown",
   "metadata": {},
   "source": [
    "Read in data files"
   ]
  },
  {
   "cell_type": "code",
   "execution_count": 40,
   "metadata": {},
   "outputs": [],
   "source": [
    "phosphosite_df = pd.read_table(\"Phosphorylation_site_dataset\", error_bad_lines = False)"
   ]
  },
  {
   "cell_type": "code",
   "execution_count": 41,
   "metadata": {},
   "outputs": [],
   "source": [
    "kin_sub_df = pd.read_table(\"Kinase_Substrate_Dataset\", error_bad_lines = False)"
   ]
  },
  {
   "cell_type": "code",
   "execution_count": 42,
   "metadata": {},
   "outputs": [],
   "source": [
    "disease_df = pd.read_table(\"Disease-associated_sites\", error_bad_lines = False)\n",
    "\n",
    "# A strange column \"Unnamed: 19\" is created upon import: drop this\n",
    "disease_df = disease_df.drop(['Unnamed: 19'], axis=1)"
   ]
  },
  {
   "cell_type": "markdown",
   "metadata": {},
   "source": [
    "Remove any rows where ORGANISM is not human"
   ]
  },
  {
   "cell_type": "code",
   "execution_count": 43,
   "metadata": {},
   "outputs": [],
   "source": [
    "phosphosite_df = phosphosite_df.drop(phosphosite_df[phosphosite_df.ORGANISM != \"human\"].index)"
   ]
  },
  {
   "cell_type": "code",
   "execution_count": 44,
   "metadata": {},
   "outputs": [],
   "source": [
    "# kin_sub_df contains a substrate / target / phosphosite organism and a kinase organism\n",
    "\n",
    "kin_sub_df = kin_sub_df.drop(kin_sub_df[kin_sub_df.SUB_ORGANISM != \"human\"].index)\n",
    "kin_sub_df = kin_sub_df.drop(kin_sub_df[kin_sub_df.KIN_ORGANISM != \"human\"].index)"
   ]
  },
  {
   "cell_type": "code",
   "execution_count": 45,
   "metadata": {},
   "outputs": [],
   "source": [
    "disease_df = disease_df.drop(disease_df[disease_df.ORGANISM != \"human\"].index)"
   ]
  },
  {
   "cell_type": "markdown",
   "metadata": {},
   "source": [
    "Remove any rows where GENE is blank"
   ]
  },
  {
   "cell_type": "code",
   "execution_count": 46,
   "metadata": {},
   "outputs": [],
   "source": [
    "phosphosite_df = phosphosite_df.dropna(subset=[\"GENE\"])\n",
    "phosphosite_df = phosphosite_df.reset_index(drop=True)"
   ]
  },
  {
   "cell_type": "code",
   "execution_count": 47,
   "metadata": {},
   "outputs": [],
   "source": [
    "# kin_sub_df has a kinase gene and a substrate gene\n",
    "\n",
    "kin_sub_df = kin_sub_df.dropna(subset=[\"GENE\"])\n",
    "kin_sub_df = kin_sub_df.dropna(subset=[\"SUB_GENE\"])\n",
    "kin_sub_df = kin_sub_df.reset_index(drop=True)"
   ]
  },
  {
   "cell_type": "code",
   "execution_count": 48,
   "metadata": {},
   "outputs": [],
   "source": [
    "disease_df = disease_df.dropna(subset=[\"GENE\"])\n",
    "disease_df = disease_df.reset_index(drop=True)"
   ]
  },
  {
   "cell_type": "markdown",
   "metadata": {},
   "source": [
    "Remove any rows where DISEASE is blank"
   ]
  },
  {
   "cell_type": "code",
   "execution_count": 49,
   "metadata": {},
   "outputs": [],
   "source": [
    "disease_df = disease_df.dropna(subset=[\"DISEASE\"])\n",
    "disease_df = disease_df.reset_index(drop=True)"
   ]
  },
  {
   "cell_type": "markdown",
   "metadata": {},
   "source": [
    "Remove any rows where PTM is not \"phosphorylation\" (indicated as \"-p\" appended to MOD_RSD). N.B. kin_sub_df is not included here because its MOD_RSD column does not contain modification type, just AA and residue no."
   ]
  },
  {
   "cell_type": "code",
   "execution_count": 50,
   "metadata": {},
   "outputs": [],
   "source": [
    "# This takes around five minutes to run, and should not be necessary as\n",
    "# the file just contains phosphosites, but is included in case of error\n",
    "\n",
    "regex = r'\\w{1}\\d+-p'\n",
    "\n",
    "indices = []\n",
    "\n",
    "for n,i in enumerate(phosphosite_df.iterrows()):\n",
    "    if re.findall(regex,str(i[1])):\n",
    "        continue\n",
    "    else:\n",
    "        indices.append(n)\n",
    "\n",
    "phosphosite_df = phosphosite_df.drop(indices)\n",
    "phosphosite_df = phosphosite_df.reset_index(drop=True)"
   ]
  },
  {
   "cell_type": "code",
   "execution_count": 51,
   "metadata": {},
   "outputs": [],
   "source": [
    "regex = r'\\w{1}\\d+-p'\n",
    "\n",
    "indices = []\n",
    "\n",
    "for n,i in enumerate(disease_df.iterrows()):\n",
    "    if re.findall(regex,str(i[1])):\n",
    "        continue\n",
    "    else:\n",
    "        indices.append(n)\n",
    "\n",
    "disease_df = disease_df.drop(indices)\n",
    "disease_df = disease_df.reset_index(drop=True)"
   ]
  },
  {
   "cell_type": "markdown",
   "metadata": {},
   "source": [
    "Make a column of phosphosite IDs in a standardised format:\n",
    "- to enable tables to be linked in the SQL database\n",
    "- to match the format in the user-submitted quantitative phosphoproteomics files"
   ]
  },
  {
   "cell_type": "code",
   "execution_count": 52,
   "metadata": {},
   "outputs": [],
   "source": [
    "# This takes a minute to run\n",
    "\n",
    "phos_id = []\n",
    "\n",
    "for n,i in enumerate(phosphosite_df.iterrows()):\n",
    "    phos_id.append(phosphosite_df.GENE[n].upper()+\"_\"+phosphosite_df.ORGANISM[n].upper()+\"(\"+phosphosite_df.MOD_RSD[n][0:-2].upper()+\")\")\n",
    "\n",
    "phos_id = pd.Series(phos_id)\n",
    "\n",
    "phosphosite_df = phosphosite_df.assign(PHOS_ID = phos_id)"
   ]
  },
  {
   "cell_type": "code",
   "execution_count": 53,
   "metadata": {},
   "outputs": [],
   "source": [
    "phos_id = []\n",
    "\n",
    "for n,i in enumerate(kin_sub_df.iterrows()):\n",
    "    phos_id.append(kin_sub_df.SUB_GENE[n].upper()+\"_\"+kin_sub_df.SUB_ORGANISM[n].upper()+\"(\"+kin_sub_df.SUB_MOD_RSD[n].upper()+\")\")\n",
    "\n",
    "phos_id = pd.Series(phos_id)\n",
    "\n",
    "kin_sub_df = kin_sub_df.assign(PHOS_ID = phos_id)"
   ]
  },
  {
   "cell_type": "code",
   "execution_count": 54,
   "metadata": {},
   "outputs": [],
   "source": [
    "phos_id = []\n",
    "\n",
    "for n,i in enumerate(disease_df.iterrows()):\n",
    "    phos_id.append(disease_df.GENE[n].upper()+\"_\"+disease_df.ORGANISM[n].upper()+\"(\"+disease_df.MOD_RSD[n][0:-2].upper()+\")\")\n",
    "\n",
    "phos_id = pd.Series(phos_id)\n",
    "\n",
    "disease_df = disease_df.assign(PHOS_ID = phos_id)"
   ]
  },
  {
   "cell_type": "markdown",
   "metadata": {},
   "source": [
    "Make a new kinase column in uppercase, with \"_HUMAN\" appended, to match the ID in the kinase table"
   ]
  },
  {
   "cell_type": "code",
   "execution_count": 55,
   "metadata": {},
   "outputs": [],
   "source": [
    "uppercase_kinase = []\n",
    "\n",
    "for n,i in enumerate(kin_sub_df.iterrows()):\n",
    "    uppercase_kinase.append(kin_sub_df.GENE[n].upper()+\"_\"+kin_sub_df.SUB_ORGANISM[n].upper())\n",
    "\n",
    "uppercase_kinase = pd.Series(uppercase_kinase)\n",
    "\n",
    "kin_sub_df = kin_sub_df.assign(HUMAN_KINASE = uppercase_kinase)"
   ]
  },
  {
   "cell_type": "markdown",
   "metadata": {},
   "source": [
    "Make GENE entries uppercase"
   ]
  },
  {
   "cell_type": "code",
   "execution_count": 56,
   "metadata": {},
   "outputs": [],
   "source": [
    "# This takes a minute to run\n",
    "\n",
    "uppercase_kinase = []\n",
    "\n",
    "for n,i in enumerate(phosphosite_df.iterrows()):\n",
    "    uppercase_kinase.append(phosphosite_df.GENE[n].upper())\n",
    "\n",
    "uppercase_kinase = pd.Series(uppercase_kinase)\n",
    "\n",
    "phosphosite_df = phosphosite_df.assign(GENE = uppercase_kinase)"
   ]
  },
  {
   "cell_type": "code",
   "execution_count": 57,
   "metadata": {},
   "outputs": [],
   "source": [
    "uppercase_kinase = []\n",
    "\n",
    "for n,i in enumerate(kin_sub_df.iterrows()):\n",
    "    uppercase_kinase.append(kin_sub_df.GENE[n].upper())\n",
    "\n",
    "uppercase_kinase = pd.Series(uppercase_kinase)\n",
    "\n",
    "kin_sub_df = kin_sub_df.assign(GENE = uppercase_kinase)"
   ]
  },
  {
   "cell_type": "markdown",
   "metadata": {},
   "source": [
    "Remove -p from MOD_RSD in phosphosite_df"
   ]
  },
  {
   "cell_type": "code",
   "execution_count": 58,
   "metadata": {},
   "outputs": [],
   "source": [
    "# This takes a minute to run\n",
    "\n",
    "mod_rsd = []\n",
    "\n",
    "for n,i in enumerate(phosphosite_df.iterrows()):\n",
    "    if phosphosite_df.MOD_RSD[n][-2:] == \"-p\":\n",
    "        mod_rsd.append(phosphosite_df.MOD_RSD[n][0:-2])\n",
    "    else:\n",
    "        mod_rsd.append(phosphosite_df.MOD_RSD[n])\n",
    "\n",
    "mod_rsd = pd.Series(mod_rsd)\n",
    "\n",
    "phosphosite_df = phosphosite_df.assign(MOD_RSD = mod_rsd)"
   ]
  },
  {
   "cell_type": "markdown",
   "metadata": {},
   "source": [
    "Drop any unnecessary columns"
   ]
  },
  {
   "cell_type": "code",
   "execution_count": 59,
   "metadata": {},
   "outputs": [],
   "source": [
    "# PROTEIN is an unnecessary extra alias\n",
    "# ORGANISM is not required as the web app will be human-specific\n",
    "# and we have already ensured that only human targets are included\n",
    "\n",
    "phosphosite_df = phosphosite_df.drop(['PROTEIN', 'ORGANISM'], axis=1)"
   ]
  },
  {
   "cell_type": "code",
   "execution_count": 60,
   "metadata": {},
   "outputs": [],
   "source": [
    "# KIN_ACC_ID and SUB_ACC_ID will be available in kinase table\n",
    "# KINASE, KIN_ORGANISM, SUBSTRATE, SUB_ORGANISM, SUB_GENE_ID, \n",
    "# SUB_MOD_RSD are not required\n",
    "# SUB_GENE will be in phosphosite_df as GENE\n",
    "# SITE_GRP_ID, SITE_+/-7_AA and DOMAIN will be available in phosphosite_df\n",
    "\n",
    "kin_sub_df = kin_sub_df.drop(['KIN_ACC_ID', 'SUB_ACC_ID', 'KINASE',\n",
    "                              'KIN_ORGANISM', 'SUBSTRATE', 'SUB_ORGANISM', \n",
    "                              'SUB_GENE_ID', 'SUB_MOD_RSD',\n",
    "                              'SUB_GENE', 'SITE_GRP_ID', 'SITE_+/-7_AA',\n",
    "                              'DOMAIN'], axis=1)"
   ]
  },
  {
   "cell_type": "code",
   "execution_count": 61,
   "metadata": {},
   "outputs": [],
   "source": [
    "# PROTEIN, ACC_ID and GENE_ID will be available in the kinase table\n",
    "# ORGANISM is not required\n",
    "# GENE, HU_CHR_LOC, MW_kD, SITE_GRP_ID, MOD_RSD, DOMAIN, and SITE_+/-7_AA\n",
    "# will be available in phosphosite_df\n",
    "\n",
    "disease_df = disease_df.drop(['PROTEIN', 'ACC_ID', 'GENE_ID',  \n",
    "                              'ORGANISM', 'GENE', 'HU_CHR_LOC', 'MW_kD',\n",
    "                              'SITE_GRP_ID', 'MOD_RSD', 'DOMAIN', \n",
    "                               'SITE_+/-7_AA'], axis=1)"
   ]
  },
  {
   "cell_type": "markdown",
   "metadata": {},
   "source": [
    "Add primary key columns"
   ]
  },
  {
   "cell_type": "code",
   "execution_count": 62,
   "metadata": {},
   "outputs": [],
   "source": [
    "prim_key = []\n",
    "\n",
    "count = 1\n",
    "\n",
    "for i in phosphosite_df.PHOS_ID:\n",
    "    key = \"PH\"+\"{:07d}\".format(count)\n",
    "    prim_key.append(key)\n",
    "    count += 1\n",
    "\n",
    "prim_key = pd.Series(prim_key)\n",
    "\n",
    "phosphosite_df = phosphosite_df.assign(PRIMARY_KEY = prim_key)"
   ]
  },
  {
   "cell_type": "code",
   "execution_count": 63,
   "metadata": {},
   "outputs": [],
   "source": [
    "prim_key = []\n",
    "\n",
    "count = 1\n",
    "\n",
    "for i in kin_sub_df.PHOS_ID:\n",
    "    key = \"KS\"+\"{:07d}\".format(count)\n",
    "    prim_key.append(key)\n",
    "    count += 1\n",
    "\n",
    "prim_key = pd.Series(prim_key)\n",
    "\n",
    "kin_sub_df = kin_sub_df.assign(PRIMARY_KEY = prim_key)"
   ]
  },
  {
   "cell_type": "code",
   "execution_count": 64,
   "metadata": {},
   "outputs": [],
   "source": [
    "prim_key = []\n",
    "\n",
    "count = 1\n",
    "\n",
    "for i in disease_df.PHOS_ID:\n",
    "    key = \"DP\"+\"{:07d}\".format(count)\n",
    "    prim_key.append(key)\n",
    "    count += 1\n",
    "\n",
    "prim_key = pd.Series(prim_key)\n",
    "\n",
    "disease_df = disease_df.assign(PRIMARY_KEY = prim_key)"
   ]
  },
  {
   "cell_type": "markdown",
   "metadata": {},
   "source": [
    "Add a column ISOFORM to the phosphosite_df table to indicate whether the row is for an isoform (1) or not (0)"
   ]
  },
  {
   "cell_type": "code",
   "execution_count": null,
   "metadata": {},
   "outputs": [],
   "source": [
    "yes_no_isoform = []\n",
    "\n",
    "for i in phosphosite_df.ACC_ID:\n",
    "    if \"-\" in i:\n",
    "        yes_no_isoform.append(1)\n",
    "    else:\n",
    "        yes_no_isoform.append(0)\n",
    "\n",
    "yes_no_isoform = pd.Series(yes_no_isoform)\n",
    "\n",
    "phosphosite_df = phosphosite_df.assign(ISOFORM = yes_no_isoform)"
   ]
  },
  {
   "cell_type": "markdown",
   "metadata": {},
   "source": [
    "Make csv files"
   ]
  },
  {
   "cell_type": "code",
   "execution_count": 66,
   "metadata": {},
   "outputs": [],
   "source": [
    "phosphosite_df.to_csv(\"phosphosites.csv\", index = False)"
   ]
  },
  {
   "cell_type": "code",
   "execution_count": 67,
   "metadata": {},
   "outputs": [],
   "source": [
    "kin_sub_df.to_csv(\"kinases_phosphosites.csv\", index = False)"
   ]
  },
  {
   "cell_type": "code",
   "execution_count": 68,
   "metadata": {},
   "outputs": [],
   "source": [
    "disease_df.to_csv(\"phosphosites_diseases.csv\", index = False)"
   ]
  },
  {
   "cell_type": "code",
   "execution_count": null,
   "metadata": {},
   "outputs": [],
   "source": []
  }
 ],
 "metadata": {
  "kernelspec": {
   "display_name": "Python 3",
   "language": "python",
   "name": "python3"
  },
  "language_info": {
   "codemirror_mode": {
    "name": "ipython",
    "version": 3
   },
   "file_extension": ".py",
   "mimetype": "text/x-python",
   "name": "python",
   "nbconvert_exporter": "python",
   "pygments_lexer": "ipython3",
   "version": "3.7.4"
  }
 },
 "nbformat": 4,
 "nbformat_minor": 2
}
