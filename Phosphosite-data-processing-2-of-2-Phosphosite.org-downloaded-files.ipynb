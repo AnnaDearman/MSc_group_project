{
 "cells": [
  {
   "cell_type": "markdown",
   "metadata": {},
   "source": [
    "# Phosphosite Data Processing, 2 of 2.\n",
    "## Combining Phosphosite.org and Phospho.ELM Data."
   ]
  },
  {
   "cell_type": "markdown",
   "metadata": {},
   "source": [
    "Three phosphosite data tables have been downloaded as tab-delimited files from https://www.phosphosite.org/staticDownloads:\n",
    "\n",
    "- Phosphorylation_site_dataset\n",
    "    - The full list of phosphosites available on the website (371,203 rows long on 2020_01_11)\n",
    "  \n",
    "- Kinase_Substrate_Dataset\n",
    "    - A list of known kinase-phosphosite relationships (18,455 rows long on 2020_01_11)\n",
    "    \n",
    "- Disease-associated_sites\n",
    "    - A list of phosphosites with known links to disease (1,363 rows on on 2020_01_11)\n",
    "\n",
    "We also have a partially-processed data file from http://phospho.elm.eu.org/dataset.html:\n",
    "\n",
    "- phosphosites_2.csv\n",
    "    - The full list of human phosphosites available on the website (37,145 rows long on 2020_01_17)\n",
    "    \n",
    "Before running this Jupyter notebook, \"Phosphosite-data-processing-1-of-2-Phospho.ELM-downloaded-file.ipynb\" needs to have been run to generate phosphosites_2.csv.\n",
    "\n",
    "In this Jupyter notebook, the three phosphosite.org files will be imported as pandas dataframes, and will have the following changes made to them:\n",
    "\n",
    "   - Remove any rows with information about non-human proteins (targets and kinases).\n",
    "   - Remove any rows where \"gene\" is blank.\n",
    "   - Remove any rows in the diseases table where \"disease\" is blank.\n",
    "   - For tables with a \"modified residue\" column that includes a flag at the end to denote the type of post-translational modification (PTM), remove any that are not \"-p\" for \"phosphorylation\".\n",
    "   - Generate \"phosphosite ID\" columns, using information in other columns, to match the format in user-submitted quantitative phosphoproteomics files, and to allow the tables to be linked in the SQL database.\n",
    "   - Generate \"source\" column to direct the user to the phosphosite.org page for that substrate protein\n",
    "   - Add \"sequence\" and \"PMID\" columns to capture interesting information from phospho.ELM\n",
    "   - Add rows to the phosphosites table for any missing phosphosites that appear in the other tables, to allow them to be linked, and to include phosphosites only found in phospho.ELM.\n",
    "   - Add rows to kin_sub_df for any missing phosphosites that appear in the phospho.ELM table\n",
    "   - Ensure all genes listed are in uppercase.\n",
    "   - Remove the unnecessary \"-p\" from the \"modified residue\" column in the phosphosite table, as our web app will only specialise in phosphosites.\n",
    "   - Drop any other unnecessary columns.\n",
    "   - Add a binary column to the phosphosites table to indicate whether the row is for an isoform (1) or not (0).\n",
    "   - In the phosphosites table, remove duplicated rows.\n",
    "   - Add a primary keys column to each table.\n",
    "\n",
    "Finally, they will be exported as .csv files."
   ]
  },
  {
   "cell_type": "markdown",
   "metadata": {},
   "source": [
    "Import required packages"
   ]
  },
  {
   "cell_type": "code",
   "execution_count": null,
   "metadata": {},
   "outputs": [],
   "source": [
    "import pandas as pd\n",
    "import re"
   ]
  },
  {
   "cell_type": "markdown",
   "metadata": {},
   "source": [
    "Read in data files"
   ]
  },
  {
   "cell_type": "code",
   "execution_count": null,
   "metadata": {},
   "outputs": [],
   "source": [
    "phosphosite_df = pd.read_table( \"Phosphorylation_site_dataset\", error_bad_lines = False )"
   ]
  },
  {
   "cell_type": "code",
   "execution_count": null,
   "metadata": {},
   "outputs": [],
   "source": [
    "kin_sub_df = pd.read_table( \"Kinase_Substrate_Dataset\", error_bad_lines = False )"
   ]
  },
  {
   "cell_type": "code",
   "execution_count": null,
   "metadata": {},
   "outputs": [],
   "source": [
    "disease_df = pd.read_table( \"Disease-associated_sites\", error_bad_lines = False )\n",
    "\n",
    "# A strange column \"Unnamed: 19\" is created upon import: drop this\n",
    "\n",
    "disease_df = disease_df.drop( [ 'Unnamed: 19' ], axis = 1 )"
   ]
  },
  {
   "cell_type": "code",
   "execution_count": null,
   "metadata": {},
   "outputs": [],
   "source": [
    "# Read in partially-processed phospho.ELM data file\n",
    "\n",
    "phosphosites_2_df = pd.read_csv( \"phosphosites_2.csv\" )"
   ]
  },
  {
   "cell_type": "markdown",
   "metadata": {},
   "source": [
    "Remove any rows where ORGANISM is not \"human\""
   ]
  },
  {
   "cell_type": "code",
   "execution_count": null,
   "metadata": {},
   "outputs": [],
   "source": [
    "phosphosite_df = phosphosite_df.drop( phosphosite_df[ phosphosite_df.ORGANISM != \"human\" ].index )"
   ]
  },
  {
   "cell_type": "code",
   "execution_count": null,
   "metadata": {},
   "outputs": [],
   "source": [
    "# kin_sub_df contains a substrate organism and a kinase organism\n",
    "\n",
    "kin_sub_df = kin_sub_df.drop( kin_sub_df[ kin_sub_df.SUB_ORGANISM != \"human\" ].index )\n",
    "kin_sub_df = kin_sub_df.drop( kin_sub_df[ kin_sub_df.KIN_ORGANISM != \"human\" ].index )"
   ]
  },
  {
   "cell_type": "code",
   "execution_count": null,
   "metadata": {},
   "outputs": [],
   "source": [
    "disease_df = disease_df.drop( disease_df[ disease_df.ORGANISM != \"human\" ].index )"
   ]
  },
  {
   "cell_type": "markdown",
   "metadata": {},
   "source": [
    "Remove any rows where GENE is blank"
   ]
  },
  {
   "cell_type": "code",
   "execution_count": null,
   "metadata": {},
   "outputs": [],
   "source": [
    "phosphosite_df = phosphosite_df.dropna( subset = [ \"GENE\" ]  )\n",
    "phosphosite_df = phosphosite_df.reset_index( drop = True )"
   ]
  },
  {
   "cell_type": "code",
   "execution_count": null,
   "metadata": {},
   "outputs": [],
   "source": [
    "# kin_sub_df has a kinase gene and a substrate gene\n",
    "\n",
    "kin_sub_df = kin_sub_df.dropna( subset = [ \"GENE\" ] )\n",
    "kin_sub_df = kin_sub_df.dropna( subset = [ \"SUB_GENE\" ] )\n",
    "kin_sub_df = kin_sub_df.reset_index( drop = True )"
   ]
  },
  {
   "cell_type": "code",
   "execution_count": null,
   "metadata": {},
   "outputs": [],
   "source": [
    "disease_df = disease_df.dropna( subset = [ \"GENE\" ] )\n",
    "disease_df = disease_df.reset_index( drop = True )"
   ]
  },
  {
   "cell_type": "markdown",
   "metadata": {},
   "source": [
    "Remove any rows where DISEASE is blank"
   ]
  },
  {
   "cell_type": "code",
   "execution_count": null,
   "metadata": {},
   "outputs": [],
   "source": [
    "disease_df = disease_df.dropna( subset = [ \"DISEASE\" ] )\n",
    "disease_df = disease_df.reset_index( drop = True )"
   ]
  },
  {
   "cell_type": "markdown",
   "metadata": {},
   "source": [
    "Remove any rows where PTM is not \"phosphorylation\" (indicated as \"-p\" appended to MOD_RSD). N.B. kin_sub_df is not included here because its MOD_RSD column does not contain modification type, just AA and residue no."
   ]
  },
  {
   "cell_type": "code",
   "execution_count": null,
   "metadata": {},
   "outputs": [],
   "source": [
    "# This takes around five minutes to run, and should not be necessary as\n",
    "# the file just contains phosphosites, but is included in case of error\n",
    "\n",
    "regex = r'\\w{1}\\d+-p'\n",
    "\n",
    "indices = []\n",
    "\n",
    "for n, i in enumerate( phosphosite_df.iterrows() ):\n",
    "    if re.findall( regex, str( i[ 1 ]) ):\n",
    "        continue\n",
    "    else:\n",
    "        indices.append( n )\n",
    "\n",
    "phosphosite_df = phosphosite_df.drop( indices )\n",
    "phosphosite_df = phosphosite_df.reset_index( drop = True )"
   ]
  },
  {
   "cell_type": "code",
   "execution_count": null,
   "metadata": {},
   "outputs": [],
   "source": [
    "regex = r'\\w{1}\\d+-p'\n",
    "\n",
    "indices = []\n",
    "\n",
    "for n, i in enumerate( disease_df.iterrows() ):\n",
    "    if re.findall( regex, str( i[ 1 ]) ):\n",
    "        continue\n",
    "    else:\n",
    "        indices.append( n )\n",
    "\n",
    "disease_df = disease_df.drop( indices )\n",
    "disease_df = disease_df.reset_index( drop = True )"
   ]
  },
  {
   "cell_type": "markdown",
   "metadata": {},
   "source": [
    "Make a column of phosphosite IDs in a standardised format:\n",
    "- to enable tables to be linked in the SQL database \n",
    "- to match the format in the user-submitted quantitative phosphoproteomics files\n",
    "- The diseases table only needs to be linked to the phosphosites table and thus does not require multiple PHOS_ID columns\n",
    "\n",
    "Different gene / protein aliases will be combined with the residue information in each column"
   ]
  },
  {
   "cell_type": "code",
   "execution_count": null,
   "metadata": {},
   "outputs": [],
   "source": [
    "phos_id = []\n",
    "phos_id2 = []\n",
    "phos_id3 = []\n",
    "phos_id4 = []\n",
    "phos_id5 = [] # This will use the UniProt ID and will be used as \n",
    "              # a foreign key\n",
    "\n",
    "for n, i in enumerate( kin_sub_df.iterrows() ):\n",
    "    phos_id.append( kin_sub_df.SUB_GENE[ n ].upper() + \"_\" + kin_sub_df.SUB_ORGANISM[ n ].upper() + \"(\" + kin_sub_df.SUB_MOD_RSD[ n ].upper() + \")\" )\n",
    "    phos_id2.append( kin_sub_df.SUBSTRATE[ n ].upper() + \"(\" + kin_sub_df.SUB_MOD_RSD[ n ].upper() + \")\")\n",
    "    phos_id3.append( kin_sub_df.SUBSTRATE[ n ].upper() + \"_\" + kin_sub_df.SUB_ORGANISM[ n ].upper() + \"(\" + kin_sub_df.SUB_MOD_RSD[ n ].upper() + \")\" )\n",
    "    phos_id4.append( kin_sub_df.SUB_GENE[ n ].upper() + \"(\" + kin_sub_df.SUB_MOD_RSD[ n ].upper() + \")\" )\n",
    "    phos_id5.append( kin_sub_df.SUB_ACC_ID[ n ].upper() + \"(\" + kin_sub_df.SUB_MOD_RSD[ n ].upper() + \")\" )\n",
    "    \n",
    "phos_id = pd.Series( phos_id )\n",
    "phos_id2 = pd.Series( phos_id2 )\n",
    "phos_id3 = pd.Series( phos_id3 )\n",
    "phos_id4 = pd.Series( phos_id4 )\n",
    "phos_id5 = pd.Series( phos_id5 )\n",
    "\n",
    "kin_sub_df = kin_sub_df.assign( PHOS_ID = phos_id )\n",
    "kin_sub_df = kin_sub_df.assign( PHOS_ID2 = phos_id2 )\n",
    "kin_sub_df = kin_sub_df.assign( PHOS_ID3 = phos_id3 )\n",
    "kin_sub_df = kin_sub_df.assign( PHOS_ID4 = phos_id4 )\n",
    "kin_sub_df = kin_sub_df.assign( PHOS_ID5 = phos_id5 )"
   ]
  },
  {
   "cell_type": "code",
   "execution_count": null,
   "metadata": {},
   "outputs": [],
   "source": [
    "# This takes around three minutes to run\n",
    "\n",
    "phos_id = []\n",
    "phos_id2 = []\n",
    "phos_id3 = []\n",
    "phos_id4 = []\n",
    "phos_id5 = [] # This will use the UniProt ID and will be used as \n",
    "              # a foreign key\n",
    "\n",
    "for n, i in enumerate( phosphosite_df.iterrows() ):\n",
    "    phos_id.append( phosphosite_df.GENE[ n ].upper() + \"_\" + phosphosite_df.ORGANISM[ n ].upper() + \"(\" + phosphosite_df.MOD_RSD[ n ][ 0:-2 ].upper() + \")\" )\n",
    "    phos_id2.append( phosphosite_df.PROTEIN[ n ].upper() + \"(\" + phosphosite_df.MOD_RSD[ n ][ 0:-2 ].upper() + \")\" )\n",
    "    phos_id3.append( phosphosite_df.PROTEIN[ n ].upper() + \"_\" + phosphosite_df.ORGANISM[ n ].upper() + \"(\" + phosphosite_df.MOD_RSD[ n ][ 0:-2 ].upper() + \")\" )\n",
    "    phos_id4.append( phosphosite_df.GENE[ n ].upper() + \"(\" + phosphosite_df.MOD_RSD[ n ][ 0:-2 ].upper() + \")\" )\n",
    "    phos_id5.append( phosphosite_df.ACC_ID[ n ].upper() + \"(\" + phosphosite_df.MOD_RSD[ n ][ 0:-2 ].upper() + \")\" )\n",
    "\n",
    "phos_id = pd.Series( phos_id )\n",
    "phos_id2 = pd.Series( phos_id2 )\n",
    "phos_id3 = pd.Series( phos_id3 )\n",
    "phos_id4 = pd.Series( phos_id4 )\n",
    "phos_id5 = pd.Series( phos_id5 )\n",
    "\n",
    "phosphosite_df = phosphosite_df.assign( PHOS_ID = phos_id )\n",
    "phosphosite_df = phosphosite_df.assign( PHOS_ID2 = phos_id2 )\n",
    "phosphosite_df = phosphosite_df.assign( PHOS_ID3 = phos_id3 )\n",
    "phosphosite_df = phosphosite_df.assign( PHOS_ID4 = phos_id4 )\n",
    "phosphosite_df = phosphosite_df.assign( PHOS_ID5 = phos_id5 )"
   ]
  },
  {
   "cell_type": "code",
   "execution_count": null,
   "metadata": {},
   "outputs": [],
   "source": [
    "phos_id = [] # This will use the UniProt ID and will be used as \n",
    "              # a foreign key\n",
    "\n",
    "for n, i in enumerate( disease_df.iterrows() ):\n",
    "    phos_id.append( disease_df.ACC_ID[ n ].upper() + \"(\" + disease_df.MOD_RSD[ n ][ 0:-2 ].upper() + \")\" )\n",
    "    \n",
    "phos_id = pd.Series( phos_id )\n",
    "\n",
    "disease_df = disease_df.assign( PHOS_ID = phos_id )"
   ]
  },
  {
   "cell_type": "markdown",
   "metadata": {},
   "source": [
    "Add a \"Source\" column to direct the user to the phosphosite.org page for that substrate protein"
   ]
  },
  {
   "cell_type": "code",
   "execution_count": null,
   "metadata": {},
   "outputs": [],
   "source": [
    "source = []\n",
    "\n",
    "for n, i in enumerate( phosphosite_df.iterrows() ):\n",
    "    source.append( \"http://www.phosphosite.org/uniprotAccAction?id=\" + str( phosphosite_df.ACC_ID[ n ] ))\n",
    "\n",
    "source = pd.Series( source )\n",
    "phosphosite_df = phosphosite_df.assign( SOURCE = source )                  "
   ]
  },
  {
   "cell_type": "code",
   "execution_count": null,
   "metadata": {},
   "outputs": [],
   "source": [
    "source = []\n",
    "\n",
    "for n, i in enumerate( kin_sub_df.iterrows() ):\n",
    "    source.append( \"http://www.phosphosite.org/uniprotAccAction?id=\" + str( kin_sub_df.SUB_ACC_ID[ n ] ))\n",
    "\n",
    "source = pd.Series( source )\n",
    "kin_sub_df = kin_sub_df.assign( SOURCE = source )  "
   ]
  },
  {
   "cell_type": "markdown",
   "metadata": {},
   "source": [
    "Add \"sequence\" and \"PMID\" columns to capture interesting information from phospho.ELM"
   ]
  },
  {
   "cell_type": "code",
   "execution_count": null,
   "metadata": {},
   "outputs": [],
   "source": [
    "column = [ None ] * len( phosphosite_df.PHOS_ID )\n",
    "\n",
    "sequence = pd.Series( column )\n",
    "PMID = pd.Series( column )\n",
    "\n",
    "phosphosite_df = phosphosite_df.assign( SEQUENCE = sequence )\n",
    "phosphosite_df = phosphosite_df.assign( PMID = PMID )"
   ]
  },
  {
   "cell_type": "markdown",
   "metadata": {},
   "source": [
    "Add rows to phosphosite_df for any missing phosphosites that appear in the other tables, including the phospho.ELM table, to allow this column to be used as the foreign key in the database"
   ]
  },
  {
   "cell_type": "code",
   "execution_count": null,
   "metadata": {},
   "outputs": [],
   "source": [
    "# Use PHOS_ID5 to cross-check whether the phosphosites in kin_sub_df\n",
    "# are already in phosphosite_df\n",
    "\n",
    "# This takes around ten minutes to run\n",
    "\n",
    "for n, i in enumerate( kin_sub_df[ 'PHOS_ID5' ] ):\n",
    "    if i not in list( phosphosite_df[ 'PHOS_ID5' ] ):\n",
    "        row = [{ 'GENE' : kin_sub_df.SUB_GENE_ID[ n ],\n",
    "                'PROTEIN' : kin_sub_df.SUBSTRATE[ n ],\n",
    "                'ACC_ID' : kin_sub_df.SUB_ACC_ID[ n ],\n",
    "                'HU_CHR_LOC' : '',\n",
    "                'MOD_RSD' : kin_sub_df.SUB_MOD_RSD[ n ] + \"-p\",\n",
    "                'SITE_GRP_ID' : kin_sub_df.SITE_GRP_ID[ n ],\n",
    "                'ORGANISM' : kin_sub_df.SUB_ORGANISM[ n ],\n",
    "                'MW_kD' : 0.00,\n",
    "                'DOMAIN' : kin_sub_df.DOMAIN[ n ],\n",
    "                'SITE_+/-7_AA' : kin_sub_df[ 'SITE_+/-7_AA' ][ n ],\n",
    "                'LT_LIT' : 0.0, 'MS_LIT' : 0.0, 'MS_CST' : 0.0,\n",
    "                'CST_CAT#' : 0.0,\n",
    "                'PHOS_ID' : kin_sub_df.PHOS_ID[ n ],\n",
    "                'PHOS_ID2' : kin_sub_df.PHOS_ID2[ n ],\n",
    "                'PHOS_ID3' : kin_sub_df.PHOS_ID3[ n ],\n",
    "                'PHOS_ID4' : kin_sub_df.PHOS_ID4[ n ],\n",
    "                'PHOS_ID5' : i,\n",
    "                'SEQUENCE' : '', 'PMID' : '',\n",
    "                'SOURCE':'http://www.phosphosite.org/uniprotAccAction?id=' + str( kin_sub_df.SUB_ACC_ID[ n ] )\n",
    "               }]\n",
    "        phosphosite_df = phosphosite_df.append( row, ignore_index = True )"
   ]
  },
  {
   "cell_type": "code",
   "execution_count": null,
   "metadata": {},
   "outputs": [],
   "source": [
    "# Cross-check whether the phosphosites in disease_df\n",
    "# are already in phosphosite_df\n",
    "\n",
    "# This takes around two minutes to run\n",
    "\n",
    "for n,i in enumerate( disease_df[ 'PHOS_ID' ] ):\n",
    "    if i not in list( phosphosite_df[ 'PHOS_ID5' ] ):\n",
    "        row = [{ 'GENE' : disease_df.GENE [ n ],\n",
    "                'PROTEIN' : disease_df.PROTEIN[ n ],\n",
    "                'ACC_ID' : disease_df.ACC_ID[ n ],\n",
    "                'HU_CHR_LOC' : disease_df.HU_CHR_LOC[ n ],\n",
    "                'MOD_RSD' : disease_df.MOD_RSD[ n ],\n",
    "                'SITE_GRP_ID' : disease_df.SITE_GRP_ID[ n ],\n",
    "                'ORGANISM' : disease_df.ORGANISM[ n ],\n",
    "                'MW_kD' : disease_df.MW_kD[ n ],\n",
    "                'DOMAIN' : disease_df.DOMAIN[ n ],\n",
    "                'SITE_+/-7_AA' : disease_df[ 'SITE_+/-7_AA' ][ n ],\n",
    "                'LT_LIT' : disease_df.LT_LIT[ n ],\n",
    "                'MS_LIT' : disease_df.MS_LIT[ n ],\n",
    "                'MS_CST' : disease_df.MS_CST[ n ],\n",
    "                'CST_CAT#' : disease_df[ 'CST_CAT#' ][ n ],\n",
    "                'PHOS_ID' : '',\n",
    "                'PHOS_ID2' : '',\n",
    "                'PHOS_ID3' : '',\n",
    "                'PHOS_ID4' : '',\n",
    "                'PHOS_ID5' : i,\n",
    "                'SEQUENCE' : '',\n",
    "                'PMID' : disease_df.PMIDs[ n ],\n",
    "                'SOURCE' : 'http://www.phosphosite.org/uniprotAccAction?id=' + str( disease_df.ACC_ID[ n ])\n",
    "               }]\n",
    "        phosphosite_df = phosphosite_df.append( row, ignore_index = True )"
   ]
  },
  {
   "cell_type": "code",
   "execution_count": null,
   "metadata": {},
   "outputs": [],
   "source": [
    "# Cross-check whether the phosphosites in phospho.ELM\n",
    "# are already in phosphosite_df\n",
    "\n",
    "# This takes over half an hour to run\n",
    "\n",
    "for n, i in enumerate( phosphosites_2_df.PHOS_ID ):\n",
    "    if i not in list( phosphosite_df[ 'PHOS_ID5' ] ):\n",
    "        row = [{ 'GENE' : '',\n",
    "                'PROTEIN' : '',\n",
    "                'ACC_ID' : phosphosites_2_df.acc[ n ],\n",
    "                'HU_CHR_LOC' : '',\n",
    "                'MOD_RSD' : phosphosites_2_df.code[ n ] + str( phosphosites_2_df.position[ n ]) + '-p',\n",
    "                'SITE_GRP_ID' : '',\n",
    "                'ORGANISM':phosphosites_2_df.species[n],\n",
    "                'MW_kD' : '',\n",
    "                'DOMAIN' : '',\n",
    "                'SITE_+/-7_AA' : '',\n",
    "                'LT_LIT': '',\n",
    "                'MS_LIT' : '',\n",
    "                'MS_CST' : '',\n",
    "                'CST_CAT#' : '',\n",
    "                'PHOS_ID' : '',\n",
    "                'PHOS_ID2' : '',\n",
    "                'PHOS_ID3' : '',\n",
    "                'PHOS_ID4' : '',\n",
    "                'PHOS_ID5' : i,\n",
    "                'SEQUENCE' : phosphosites_2_df.sequence[ n ],\n",
    "                'PMID' : phosphosites_2_df.pmids[ n ],\n",
    "                'SOURCE' : 'phospho.ELM' }]\n",
    "        phosphosite_df = phosphosite_df.append( row, ignore_index = True )"
   ]
  },
  {
   "cell_type": "markdown",
   "metadata": {},
   "source": [
    "Add rows to kin_sub_df for any missing phosphosites that appear in the phospho.ELM table"
   ]
  },
  {
   "cell_type": "code",
   "execution_count": null,
   "metadata": {},
   "outputs": [],
   "source": [
    "# As before, add \"SEQUENCE\" and \"PMID\" columns to capture\n",
    "# additional information from phospho.ELM\n",
    "\n",
    "column = [ None ] * len( kin_sub_df.PHOS_ID )\n",
    "\n",
    "sequence = pd.Series( column )\n",
    "PMID = pd.Series( column )\n",
    "\n",
    "kin_sub_df = kin_sub_df.assign(SEQUENCE = sequence)\n",
    "kin_sub_df = kin_sub_df.assign(PMID = PMID)"
   ]
  },
  {
   "cell_type": "code",
   "execution_count": null,
   "metadata": {},
   "outputs": [],
   "source": [
    "# Do not add any rows with empty kinase accession numbers as this\n",
    "# will be a foreign key in the database\n",
    "\n",
    "# This takes around fifteen minutes to run\n",
    "\n",
    "for n, i in enumerate( phosphosites_2_df.PHOS_ID ):\n",
    "    if str( phosphosites_2_df.ACC_ID[ n ]).upper()  != \"NAN\" and i not in list( kin_sub_df[ 'PHOS_ID5' ] ):\n",
    "        row = [{ 'GENE' : phosphosites_2_df.kinases[ n ],\n",
    "                'KINASE' : '',\n",
    "                'KIN_ACC_ID' : phosphosites_2_df.ACC_ID[ n ],\n",
    "                'KIN_ORGANISM' : phosphosites_2_df.species[ n ],\n",
    "                'SUBSTRATE' : '',\n",
    "                'SUB_GENE_ID' : '',\n",
    "                'SUB_ACC_ID' : phosphosites_2_df.acc[ n ], \n",
    "                'SUB_GENE' : '', \n",
    "                'SUB_ORGANISM' : '',\n",
    "                'SUB_MOD_RSD' : 0.0, 'SITE_GRP_ID' : '', \n",
    "                'SITE_+/-7_AA' : '', 'DOMAIN' : '',\n",
    "                'IN_VIVO_RXN' : '', 'IN_VITRO_RXN' : '',\n",
    "                'CST_CAT#' : 0.0, 'PHOS_ID' : '', 'PHOS_ID2': '', \n",
    "                'PHOS_ID3' : '','PHOS_ID4' : '', \n",
    "                'PHOS_ID5' : i,\n",
    "                'SEQUENCE' : phosphosites_2_df.sequence[ n ], \n",
    "                'PMID' : phosphosites_2_df.pmids[ n ], \n",
    "                'SOURCE' : 'phospho.ELM'}]\n",
    "        kin_sub_df = kin_sub_df.append( row, ignore_index = True )"
   ]
  },
  {
   "cell_type": "markdown",
   "metadata": {},
   "source": [
    "Make GENE entries uppercase"
   ]
  },
  {
   "cell_type": "code",
   "execution_count": null,
   "metadata": {},
   "outputs": [],
   "source": [
    "# This takes a minute to run\n",
    "\n",
    "uppercase_kinase = []\n",
    "\n",
    "for n, i in enumerate( phosphosite_df.iterrows() ):\n",
    "    uppercase_kinase.append( str(phosphosite_df.GENE[ n ]).upper() )\n",
    "\n",
    "uppercase_kinase = pd.Series( uppercase_kinase )\n",
    "\n",
    "phosphosite_df = phosphosite_df.assign( GENE = uppercase_kinase )"
   ]
  },
  {
   "cell_type": "code",
   "execution_count": null,
   "metadata": {},
   "outputs": [],
   "source": [
    "uppercase_kinase = []\n",
    "\n",
    "for n, i in enumerate( kin_sub_df.iterrows() ):\n",
    "    uppercase_kinase.append( kin_sub_df.GENE[ n ].upper() )\n",
    "\n",
    "uppercase_kinase = pd.Series( uppercase_kinase )\n",
    "\n",
    "kin_sub_df = kin_sub_df.assign( GENE = uppercase_kinase )"
   ]
  },
  {
   "cell_type": "markdown",
   "metadata": {},
   "source": [
    "Remove -p from MOD_RSD in phosphosite_df"
   ]
  },
  {
   "cell_type": "code",
   "execution_count": null,
   "metadata": {},
   "outputs": [],
   "source": [
    "# This takes a minute to run\n",
    "\n",
    "mod_rsd = []\n",
    "\n",
    "for n, i in enumerate( phosphosite_df.iterrows() ):\n",
    "    if phosphosite_df.MOD_RSD[ n ][ -2: ] == \"-p\":\n",
    "        mod_rsd.append( phosphosite_df.MOD_RSD[ n ][ 0:-2 ] )\n",
    "    else:\n",
    "        mod_rsd.append( phosphosite_df.MOD_RSD[ n ] )\n",
    "\n",
    "mod_rsd = pd.Series( mod_rsd )\n",
    "\n",
    "phosphosite_df = phosphosite_df.assign( MOD_RSD = mod_rsd )"
   ]
  },
  {
   "cell_type": "markdown",
   "metadata": {},
   "source": [
    "Drop any unnecessary columns"
   ]
  },
  {
   "cell_type": "code",
   "execution_count": null,
   "metadata": {},
   "outputs": [],
   "source": [
    "# ORGANISM is not required as the web app will be human-specific\n",
    "# and we have already ensured that only human targets are included\n",
    "\n",
    "phosphosite_df = phosphosite_df.drop( [ 'ORGANISM' ], axis = 1 )\n",
    "phosphosite_df = phosphosite_df.reset_index( drop = True )"
   ]
  },
  {
   "cell_type": "code",
   "execution_count": null,
   "metadata": {},
   "outputs": [],
   "source": [
    "# KIN_ORGANISM and SUB_ORGANISM are not required as the web app will be\n",
    "# human-specific and we have already ensured that only human proteins \n",
    "# are included\n",
    "# KINASE,  SUBSTRATE,  SUB_GENE_ID, SUB_MOD_RSD and SUB_GENE \n",
    "# are not required as we have KIN_ACC_ID, SUB_ACC_ID and\n",
    "# various PHOS_IDs\n",
    "# SITE_GRP_ID, SITE_+/-7_AA and DOMAIN will be available in \n",
    "# phosphosite_df\n",
    "\n",
    "kin_sub_df = kin_sub_df.drop( [ 'KIN_ORGANISM', 'SUB_ORGANISM',\n",
    "                               'KINASE', 'SUBSTRATE', \n",
    "                               'SUB_GENE_ID', 'SUB_MOD_RSD',\n",
    "                               'SUB_GENE', 'SITE_GRP_ID',\n",
    "                               'SITE_+/-7_AA', 'DOMAIN' ],\n",
    "                             axis = 1 )\n",
    "\n",
    "kin_sub_df = kin_sub_df.reset_index( drop = True)"
   ]
  },
  {
   "cell_type": "code",
   "execution_count": null,
   "metadata": {},
   "outputs": [],
   "source": [
    "# PROTEIN and GENE_ID are unnecessary as we have ACC_ID\n",
    "# ORGANISM is not required as the web app will be human-specific\n",
    "# GENE, HU_CHR_LOC, MW_kD, SITE_GRP_ID, MOD_RSD, DOMAIN, and SITE_+/-7_AA\n",
    "# will be available in phosphosite_df\n",
    "\n",
    "disease_df = disease_df.drop( [ 'PROTEIN', 'GENE_ID',\n",
    "                               'ORGANISM', 'GENE', 'HU_CHR_LOC',\n",
    "                               'MW_kD', 'SITE_GRP_ID', 'MOD_RSD',\n",
    "                               'DOMAIN', 'SITE_+/-7_AA' ],\n",
    "                             axis = 1 )\n",
    "\n",
    "disease_df = disease_df.reset_index( drop = True )"
   ]
  },
  {
   "cell_type": "markdown",
   "metadata": {},
   "source": [
    "Add a column ISOFORM to the phosphosite_df table to indicate whether the row is for an isoform (1) or not (0)"
   ]
  },
  {
   "cell_type": "code",
   "execution_count": null,
   "metadata": {},
   "outputs": [],
   "source": [
    "yes_no_isoform = []\n",
    "\n",
    "for n, i in enumerate( phosphosite_df.ACC_ID ):\n",
    "    if \"-\" in i: # In a UniProt ID, \"-\" signifies an isoform\n",
    "        \n",
    "        yes_no_isoform.append( 1 )\n",
    "        \n",
    "    elif \"iso\" in phosphosite_df.PROTEIN[ n]: # For some records,\n",
    "        # the presence of \"iso\" in this field is the only way \n",
    "        # the isoform is indicated\n",
    "        \n",
    "        yes_no_isoform.append( 1 )\n",
    "        \n",
    "    else:\n",
    "        yes_no_isoform.append( 0 )\n",
    "\n",
    "yes_no_isoform = pd.Series( yes_no_isoform )\n",
    "\n",
    "phosphosite_df = phosphosite_df.assign( ISOFORM = yes_no_isoform )"
   ]
  },
  {
   "cell_type": "markdown",
   "metadata": {},
   "source": [
    "Remove any duplicated rows"
   ]
  },
  {
   "cell_type": "code",
   "execution_count": null,
   "metadata": {},
   "outputs": [],
   "source": [
    "# This only removes one row upon testing\n",
    "\n",
    "phosphosite_df = phosphosite_df.drop_duplicates( subset = 'PHOS_ID5', keep = 'first' )\n",
    "phosphosite_df = phosphosite_df.reset_index( drop = True )"
   ]
  },
  {
   "cell_type": "markdown",
   "metadata": {},
   "source": [
    "Add primary key columns"
   ]
  },
  {
   "cell_type": "code",
   "execution_count": null,
   "metadata": {},
   "outputs": [],
   "source": [
    "prim_key = []\n",
    "\n",
    "count = 1\n",
    "\n",
    "for i in phosphosite_df.PHOS_ID:\n",
    "    key = \"PH\" + \"{:07d}\".format( count )\n",
    "    prim_key.append( key )\n",
    "    count += 1\n",
    "\n",
    "prim_key = pd.Series( prim_key )\n",
    "\n",
    "phosphosite_df = phosphosite_df.assign( ID_PH = prim_key )"
   ]
  },
  {
   "cell_type": "code",
   "execution_count": null,
   "metadata": {},
   "outputs": [],
   "source": [
    "prim_key = []\n",
    "\n",
    "count = 1\n",
    "\n",
    "for i in kin_sub_df.PHOS_ID:\n",
    "    key = \"KS\" + \"{:07d}\".format( count )\n",
    "    prim_key.append(key)\n",
    "    count += 1\n",
    "\n",
    "prim_key = pd.Series( prim_key )\n",
    "\n",
    "kin_sub_df = kin_sub_df.assign( ID_KS = prim_key )"
   ]
  },
  {
   "cell_type": "code",
   "execution_count": null,
   "metadata": {},
   "outputs": [],
   "source": [
    "prim_key = []\n",
    "\n",
    "count = 1\n",
    "\n",
    "for i in disease_df.PHOS_ID:\n",
    "    key = \"DP\" + \"{:07d}\".format( count )\n",
    "    prim_key.append( key )\n",
    "    count += 1\n",
    "\n",
    "prim_key = pd.Series( prim_key )\n",
    "\n",
    "disease_df = disease_df.assign( ID_DP = prim_key )"
   ]
  },
  {
   "cell_type": "markdown",
   "metadata": {},
   "source": [
    "Make csv files"
   ]
  },
  {
   "cell_type": "code",
   "execution_count": null,
   "metadata": {},
   "outputs": [],
   "source": [
    "phosphosite_df.to_csv( \"phosphosites.csv\", index = False )"
   ]
  },
  {
   "cell_type": "code",
   "execution_count": null,
   "metadata": {},
   "outputs": [],
   "source": [
    "kin_sub_df.to_csv( \"kinases_phosphosites.csv\", index = False )"
   ]
  },
  {
   "cell_type": "code",
   "execution_count": null,
   "metadata": {},
   "outputs": [],
   "source": [
    "disease_df.to_csv( \"phosphosites_diseases.csv\", index = False )"
   ]
  }
 ],
 "metadata": {
  "kernelspec": {
   "display_name": "Python 3",
   "language": "python",
   "name": "python3"
  },
  "language_info": {
   "codemirror_mode": {
    "name": "ipython",
    "version": 3
   },
   "file_extension": ".py",
   "mimetype": "text/x-python",
   "name": "python",
   "nbconvert_exporter": "python",
   "pygments_lexer": "ipython3",
   "version": "3.7.4"
  }
 },
 "nbformat": 4,
 "nbformat_minor": 2
}
