{
 "cells": [
  {
   "cell_type": "markdown",
   "metadata": {},
   "source": [
    "### BIO727P - Bioinformatics Software Development Group Project (2019/20)"
   ]
  },
  {
   "cell_type": "markdown",
   "metadata": {},
   "source": [
    "#### AIM: To populate all the databases using SQLAlchemy"
   ]
  },
  {
   "cell_type": "code",
   "execution_count": 1,
   "metadata": {},
   "outputs": [],
   "source": [
    "# Python version: Python 3.7.4\n",
    "\n",
    "# import the required packages\n",
    "\n",
    "# !pip install sqlalchemy\n",
    "# !pip install pandas\n",
    "\n",
    "from sqlalchemy import Column, Integer, String, ForeignKey\n",
    "from sqlalchemy import create_engine\n",
    "from sqlalchemy.ext.declarative import declarative_base\n",
    "from sqlalchemy.orm import relationship\n",
    "from sqlalchemy.orm import sessionmaker\n",
    "import pandas as pd"
   ]
  },
  {
   "cell_type": "code",
   "execution_count": 2,
   "metadata": {},
   "outputs": [],
   "source": [
    "# create engine that will allow us to communicate with the database\n",
    "engine = create_engine('sqlite:///c:\\\\sqlite\\\\kinases.db', echo=True)\n",
    "\n",
    "# create a session which is the middle ground to talk to our engine\n",
    "Session = sessionmaker(bind=engine)\n",
    "session = Session()"
   ]
  },
  {
   "cell_type": "code",
   "execution_count": 3,
   "metadata": {},
   "outputs": [],
   "source": [
    "Base = declarative_base()"
   ]
  },
  {
   "cell_type": "code",
   "execution_count": 4,
   "metadata": {},
   "outputs": [],
   "source": [
    "# define the structure of our database \n",
    "class HumanKinases(Base):\n",
    "    __tablename__ = 'human_kinases'\n",
    "    Entry_name = Column(String(15))\n",
    "    UniProt_ID = Column(String(15), primary_key=True)\n",
    "    Primary_Protein_Name = Column (String(100))\n",
    "    Alternative_Protein_Name = Column(String(350)) \n",
    "    Gene_Symbol = Column(String(15))\n",
    "    Alternative_Gene_Name = Column(String(60)) \n",
    "    Families = Column(String(175))\n",
    "    AA_Seq = Column(String(34400))\n",
    "    Molecular_Mass = Column(String(10))\n",
    "    Subcellular_Location = Column(String(350))"
   ]
  },
  {
   "cell_type": "code",
   "execution_count": 5,
   "metadata": {},
   "outputs": [],
   "source": [
    "class Phosphosites(Base):\n",
    "    __tablename__ = 'phosphosites'\n",
    "    GENE = Column(String(20))\n",
    "    PROTEIN = Column(String(20))\n",
    "    ACC_ID = Column(String(19))\n",
    "    HU_CHR_LOC = Column(String(26))\n",
    "    MOD_RSD = Column(String(6))\n",
    "    SITE_GRP_ID = Column(String(10))\n",
    "    MW_kD = Column(Integer)\n",
    "    DOMAIN = Column(String(30)) \n",
    "    SITE_7_AA = Column(String(15))\n",
    "    LT_LIT = Column(Integer)\n",
    "    MS_LIT = Column(Integer)\n",
    "    MS_CST = Column(Integer)\n",
    "    CST_CAT = Column(String(141))\n",
    "    PHOS_ID = Column(String(31))\n",
    "    PHOS_ID2 = Column(String(26))\n",
    "    PHOS_ID3 = Column(String(32))\n",
    "    PHOS_ID4 = Column(String(25))\n",
    "    PHOS_ID5 = Column(String(24), primary_key=True)\n",
    "    SOURCE = Column (String(66))\n",
    "    SEQUENCE = Column(String(3500)) # NOT INCLUDED THE LENGTH IN THE FILE\n",
    "    PMID = Column(String(8))\n",
    "    ISOFORM = Column(Integer)\n",
    "    ID_PH = Column(String(9))"
   ]
  },
  {
   "cell_type": "code",
   "execution_count": 6,
   "metadata": {},
   "outputs": [],
   "source": [
    "class Inhibitors(Base):\n",
    "    __tablename__ = 'inhibitors'\n",
    "    Inhibitor = Column (String(150), primary_key=True)\n",
    "    Ki_nM = Column (Integer) # does entry n/a affect?\n",
    "    IC50_nM = Column (Integer) # does entry n/a affect?\n",
    "    Kd_nM = Column (Integer) # does entry n/a affect?\n",
    "    EC50_nM = Column (Integer) # does entry n/a affect?\n",
    "    POC = Column (Integer) # does entry n/a affect?\n",
    "    Source = Column (String(15))\n",
    "    IMG_URL = Column (String(100))\n",
    "    ID_IN = Column (String(10))\n",
    "    \n",
    "#     inhibitors = relationship(\"Inhibitors\", backref=\"human_kinases\")"
   ]
  },
  {
   "cell_type": "code",
   "execution_count": 7,
   "metadata": {},
   "outputs": [],
   "source": [
    "class KinasesPhosphosites(Base):\n",
    "    __tablename__ = 'kinases_phosphosites'\n",
    "    GENE = Column(String(13))\n",
    "    KIN_ACC_ID = Column (String(9), ForeignKey('human_kinases.UniProt_ID') )\n",
    "    SUB_ACC_ID = Column (String(17))\n",
    "    IN_VIVO_RXN = Column(String(1))\n",
    "    IN_VITRO_RXN = Column(String(1))\n",
    "    CST_CAT = Column(String(141))\n",
    "    PHOS_ID = Column(String(31)) # ForeignKey('phosphosites.PHOS_ID5'))\n",
    "    PHOS_ID2 = Column(String(23))\n",
    "    PHOS_ID3 = Column(String(29))\n",
    "    PHOS_ID4 = Column(String(25))\n",
    "    PHOS_ID5 = Column(String(23), ForeignKey('phosphosites.PHOS_ID5'))\n",
    "    SOURCE = Column (String(64))\n",
    "    SEQUENCE = Column (String(8797))\n",
    "    PMID = Column (String(8))\n",
    "    KIN_ACC_ID_2 = Column(String (10),ForeignKey('human_kinases.UniProt_ID'))\n",
    "    ID_KS = Column(String(9), primary_key=True)\n",
    "    \n",
    "#     kinases_phosphosites = relationship(\"KinasesPhosphosites\", backref=\"human_kinases\")\n",
    "#     kinases_phosphosites = relationship(\"KinasesPhosphosites\", backref=\"phosphosites\")"
   ]
  },
  {
   "cell_type": "code",
   "execution_count": 8,
   "metadata": {},
   "outputs": [],
   "source": [
    "class PhosphositesDiseases(Base):\n",
    "    __tablename__ = 'phosphosites_diseases'\n",
    "    DISEASE = Column(String(92))\n",
    "    ALTERATION = Column(String(32)) # sometimes multiples separated by \";\" ERROR in sql\n",
    "    ACC_ID = Column(String(16))\n",
    "    PMIDs = Column(String(8))\n",
    "    LT_LIT = Column(Integer)\n",
    "    MS_LIT = Column(Integer)\n",
    "    MS_CST = Column(Integer)\n",
    "    CST_CAT = Column(String(141)) # sometimes multiples separated by \";\" ERROR in sql\n",
    "    NOTES = Column(String(314))\n",
    "    PHOS_ID = Column(String(22), ForeignKey('phosphosites.PHOS_ID5'))  # duplicates\n",
    "    ID_PD = Column(String(9), primary_key=True)\n",
    "    \n",
    "#     kinases_phosphosites = relationship(\"PhosphositesDiseases\", backref=\"phosphosites\")"
   ]
  },
  {
   "cell_type": "code",
   "execution_count": 9,
   "metadata": {},
   "outputs": [],
   "source": [
    "# class InhibKin(Base):\n",
    "#     __tablename__ = 'inhib_kin'\n",
    "#     Kinase = Column(String(30), ForeignKey('human_kinases.UniProt_ID')) # this record MUST to have _HUMAN to match\n",
    "#     Inhibitor = Column (String(150), ForeignKey('inhibitors.Inhibitor'))\n",
    "#     ID_KI = Column (String(10), primary_key=True)\n",
    "    \n",
    "class InhibKin(Base):\n",
    "    __tablename__ = 'inhib_kin'\n",
    "    Kinase = Column(String(8)) \n",
    "    Inhibitor = Column (String(134), ForeignKey('inhibitors.Inhibitor'))\n",
    "    UniProt_ID = Column (String(6), ForeignKey('human_kinases.UniProt_ID'))\n",
    "    ID_KI = Column (String(9), primary_key=True)\n",
    "    \n",
    "#     inhib_kin = relationship(\"InhibKin\", backref=\"inhibitors\")"
   ]
  },
  {
   "cell_type": "code",
   "execution_count": 10,
   "metadata": {},
   "outputs": [],
   "source": [
    "# define all the relationships between tables\n",
    "\n",
    "kinases_phosphosites = relationship(\"KinasesPhosphosites\", backref=\"human_kinases\")\n",
    "inhibitors = relationship(\"Inhibitors\", backref=\"human_kinases\")\n",
    "\n",
    "kinases_phosphosites = relationship(\"KinasesPhosphosites\", backref=\"phosphosites\")\n",
    "kinases_phosphosites = relationship(\"PhosphositesDiseases\", backref=\"phosphosites\")\n",
    "\n",
    "inhib_kin = relationship(\"InhibKin\", backref=\"inhibitors\")"
   ]
  },
  {
   "cell_type": "code",
   "execution_count": 11,
   "metadata": {},
   "outputs": [
    {
     "name": "stdout",
     "output_type": "stream",
     "text": [
      "2020-01-23 16:46:47,970 INFO sqlalchemy.engine.base.Engine SELECT CAST('test plain returns' AS VARCHAR(60)) AS anon_1\n",
      "2020-01-23 16:46:47,972 INFO sqlalchemy.engine.base.Engine ()\n",
      "2020-01-23 16:46:47,975 INFO sqlalchemy.engine.base.Engine SELECT CAST('test unicode returns' AS VARCHAR(60)) AS anon_1\n",
      "2020-01-23 16:46:47,980 INFO sqlalchemy.engine.base.Engine ()\n",
      "2020-01-23 16:46:47,983 INFO sqlalchemy.engine.base.Engine PRAGMA main.table_info(\"human_kinases\")\n",
      "2020-01-23 16:46:47,986 INFO sqlalchemy.engine.base.Engine ()\n",
      "2020-01-23 16:46:47,989 INFO sqlalchemy.engine.base.Engine PRAGMA temp.table_info(\"human_kinases\")\n",
      "2020-01-23 16:46:47,990 INFO sqlalchemy.engine.base.Engine ()\n",
      "2020-01-23 16:46:47,993 INFO sqlalchemy.engine.base.Engine PRAGMA main.table_info(\"phosphosites\")\n",
      "2020-01-23 16:46:47,995 INFO sqlalchemy.engine.base.Engine ()\n",
      "2020-01-23 16:46:47,997 INFO sqlalchemy.engine.base.Engine PRAGMA temp.table_info(\"phosphosites\")\n",
      "2020-01-23 16:46:48,002 INFO sqlalchemy.engine.base.Engine ()\n",
      "2020-01-23 16:46:48,005 INFO sqlalchemy.engine.base.Engine PRAGMA main.table_info(\"inhibitors\")\n",
      "2020-01-23 16:46:48,010 INFO sqlalchemy.engine.base.Engine ()\n",
      "2020-01-23 16:46:48,014 INFO sqlalchemy.engine.base.Engine PRAGMA temp.table_info(\"inhibitors\")\n",
      "2020-01-23 16:46:48,016 INFO sqlalchemy.engine.base.Engine ()\n",
      "2020-01-23 16:46:48,019 INFO sqlalchemy.engine.base.Engine PRAGMA main.table_info(\"kinases_phosphosites\")\n",
      "2020-01-23 16:46:48,021 INFO sqlalchemy.engine.base.Engine ()\n",
      "2020-01-23 16:46:48,025 INFO sqlalchemy.engine.base.Engine PRAGMA temp.table_info(\"kinases_phosphosites\")\n",
      "2020-01-23 16:46:48,030 INFO sqlalchemy.engine.base.Engine ()\n",
      "2020-01-23 16:46:48,034 INFO sqlalchemy.engine.base.Engine PRAGMA main.table_info(\"phosphosites_diseases\")\n",
      "2020-01-23 16:46:48,036 INFO sqlalchemy.engine.base.Engine ()\n",
      "2020-01-23 16:46:48,038 INFO sqlalchemy.engine.base.Engine PRAGMA temp.table_info(\"phosphosites_diseases\")\n",
      "2020-01-23 16:46:48,040 INFO sqlalchemy.engine.base.Engine ()\n",
      "2020-01-23 16:46:48,045 INFO sqlalchemy.engine.base.Engine PRAGMA main.table_info(\"inhib_kin\")\n",
      "2020-01-23 16:46:48,046 INFO sqlalchemy.engine.base.Engine ()\n",
      "2020-01-23 16:46:48,048 INFO sqlalchemy.engine.base.Engine PRAGMA temp.table_info(\"inhib_kin\")\n",
      "2020-01-23 16:46:48,051 INFO sqlalchemy.engine.base.Engine ()\n",
      "2020-01-23 16:46:48,058 INFO sqlalchemy.engine.base.Engine \n",
      "CREATE TABLE human_kinases (\n",
      "\t\"Entry_name\" VARCHAR(15), \n",
      "\t\"UniProt_ID\" VARCHAR(15) NOT NULL, \n",
      "\t\"Primary_Protein_Name\" VARCHAR(100), \n",
      "\t\"Alternative_Protein_Name\" VARCHAR(350), \n",
      "\t\"Gene_Symbol\" VARCHAR(15), \n",
      "\t\"Alternative_Gene_Name\" VARCHAR(60), \n",
      "\t\"Families\" VARCHAR(175), \n",
      "\t\"AA_Seq\" VARCHAR(34400), \n",
      "\t\"Molecular_Mass\" VARCHAR(10), \n",
      "\t\"Subcellular_Location\" VARCHAR(350), \n",
      "\tPRIMARY KEY (\"UniProt_ID\")\n",
      ")\n",
      "\n",
      "\n",
      "2020-01-23 16:46:48,061 INFO sqlalchemy.engine.base.Engine ()\n",
      "2020-01-23 16:46:48,074 INFO sqlalchemy.engine.base.Engine COMMIT\n",
      "2020-01-23 16:46:48,077 INFO sqlalchemy.engine.base.Engine \n",
      "CREATE TABLE phosphosites (\n",
      "\t\"GENE\" VARCHAR(20), \n",
      "\t\"PROTEIN\" VARCHAR(20), \n",
      "\t\"ACC_ID\" VARCHAR(19), \n",
      "\t\"HU_CHR_LOC\" VARCHAR(26), \n",
      "\t\"MOD_RSD\" VARCHAR(6), \n",
      "\t\"SITE_GRP_ID\" VARCHAR(10), \n",
      "\t\"MW_kD\" INTEGER, \n",
      "\t\"DOMAIN\" VARCHAR(30), \n",
      "\t\"SITE_7_AA\" VARCHAR(15), \n",
      "\t\"LT_LIT\" INTEGER, \n",
      "\t\"MS_LIT\" INTEGER, \n",
      "\t\"MS_CST\" INTEGER, \n",
      "\t\"CST_CAT\" VARCHAR(141), \n",
      "\t\"PHOS_ID\" VARCHAR(31), \n",
      "\t\"PHOS_ID2\" VARCHAR(26), \n",
      "\t\"PHOS_ID3\" VARCHAR(32), \n",
      "\t\"PHOS_ID4\" VARCHAR(25), \n",
      "\t\"PHOS_ID5\" VARCHAR(24) NOT NULL, \n",
      "\t\"SOURCE\" VARCHAR(66), \n",
      "\t\"SEQUENCE\" VARCHAR(3500), \n",
      "\t\"PMID\" VARCHAR(8), \n",
      "\t\"ISOFORM\" INTEGER, \n",
      "\t\"ID_PH\" VARCHAR(9), \n",
      "\tPRIMARY KEY (\"PHOS_ID5\")\n",
      ")\n",
      "\n",
      "\n",
      "2020-01-23 16:46:48,079 INFO sqlalchemy.engine.base.Engine ()\n",
      "2020-01-23 16:46:48,091 INFO sqlalchemy.engine.base.Engine COMMIT\n",
      "2020-01-23 16:46:48,093 INFO sqlalchemy.engine.base.Engine \n",
      "CREATE TABLE inhibitors (\n",
      "\t\"Inhibitor\" VARCHAR(150) NOT NULL, \n",
      "\t\"Ki_nM\" INTEGER, \n",
      "\t\"IC50_nM\" INTEGER, \n",
      "\t\"Kd_nM\" INTEGER, \n",
      "\t\"EC50_nM\" INTEGER, \n",
      "\t\"POC\" INTEGER, \n",
      "\t\"Source\" VARCHAR(15), \n",
      "\t\"IMG_URL\" VARCHAR(100), \n",
      "\t\"ID_IN\" VARCHAR(10), \n",
      "\tPRIMARY KEY (\"Inhibitor\")\n",
      ")\n",
      "\n",
      "\n",
      "2020-01-23 16:46:48,095 INFO sqlalchemy.engine.base.Engine ()\n",
      "2020-01-23 16:46:48,108 INFO sqlalchemy.engine.base.Engine COMMIT\n",
      "2020-01-23 16:46:48,110 INFO sqlalchemy.engine.base.Engine \n",
      "CREATE TABLE kinases_phosphosites (\n",
      "\t\"GENE\" VARCHAR(13), \n",
      "\t\"KIN_ACC_ID\" VARCHAR(9), \n",
      "\t\"SUB_ACC_ID\" VARCHAR(17), \n",
      "\t\"IN_VIVO_RXN\" VARCHAR(1), \n",
      "\t\"IN_VITRO_RXN\" VARCHAR(1), \n",
      "\t\"CST_CAT\" VARCHAR(141), \n",
      "\t\"PHOS_ID\" VARCHAR(31), \n",
      "\t\"PHOS_ID2\" VARCHAR(23), \n",
      "\t\"PHOS_ID3\" VARCHAR(29), \n",
      "\t\"PHOS_ID4\" VARCHAR(25), \n",
      "\t\"PHOS_ID5\" VARCHAR(23), \n",
      "\t\"SOURCE\" VARCHAR(64), \n",
      "\t\"SEQUENCE\" VARCHAR(8797), \n",
      "\t\"PMID\" VARCHAR(8), \n",
      "\t\"KIN_ACC_ID_2\" VARCHAR(10), \n",
      "\t\"ID_KS\" VARCHAR(9) NOT NULL, \n",
      "\tPRIMARY KEY (\"ID_KS\"), \n",
      "\tFOREIGN KEY(\"KIN_ACC_ID\") REFERENCES human_kinases (\"UniProt_ID\"), \n",
      "\tFOREIGN KEY(\"PHOS_ID5\") REFERENCES phosphosites (\"PHOS_ID5\"), \n",
      "\tFOREIGN KEY(\"KIN_ACC_ID_2\") REFERENCES human_kinases (\"UniProt_ID\")\n",
      ")\n",
      "\n",
      "\n",
      "2020-01-23 16:46:48,112 INFO sqlalchemy.engine.base.Engine ()\n",
      "2020-01-23 16:46:48,122 INFO sqlalchemy.engine.base.Engine COMMIT\n",
      "2020-01-23 16:46:48,124 INFO sqlalchemy.engine.base.Engine \n",
      "CREATE TABLE phosphosites_diseases (\n",
      "\t\"DISEASE\" VARCHAR(92), \n",
      "\t\"ALTERATION\" VARCHAR(32), \n",
      "\t\"ACC_ID\" VARCHAR(16), \n",
      "\t\"PMIDs\" VARCHAR(8), \n",
      "\t\"LT_LIT\" INTEGER, \n",
      "\t\"MS_LIT\" INTEGER, \n",
      "\t\"MS_CST\" INTEGER, \n",
      "\t\"CST_CAT\" VARCHAR(141), \n",
      "\t\"NOTES\" VARCHAR(314), \n",
      "\t\"PHOS_ID\" VARCHAR(22), \n",
      "\t\"ID_PD\" VARCHAR(9) NOT NULL, \n",
      "\tPRIMARY KEY (\"ID_PD\"), \n",
      "\tFOREIGN KEY(\"PHOS_ID\") REFERENCES phosphosites (\"PHOS_ID5\")\n",
      ")\n",
      "\n",
      "\n",
      "2020-01-23 16:46:48,127 INFO sqlalchemy.engine.base.Engine ()\n",
      "2020-01-23 16:46:48,139 INFO sqlalchemy.engine.base.Engine COMMIT\n",
      "2020-01-23 16:46:48,140 INFO sqlalchemy.engine.base.Engine \n",
      "CREATE TABLE inhib_kin (\n",
      "\t\"Kinase\" VARCHAR(8), \n",
      "\t\"Inhibitor\" VARCHAR(134), \n",
      "\t\"UniProt_ID\" VARCHAR(6), \n",
      "\t\"ID_KI\" VARCHAR(9) NOT NULL, \n",
      "\tPRIMARY KEY (\"ID_KI\"), \n",
      "\tFOREIGN KEY(\"Inhibitor\") REFERENCES inhibitors (\"Inhibitor\"), \n",
      "\tFOREIGN KEY(\"UniProt_ID\") REFERENCES human_kinases (\"UniProt_ID\")\n",
      ")\n",
      "\n",
      "\n",
      "2020-01-23 16:46:48,142 INFO sqlalchemy.engine.base.Engine ()\n",
      "2020-01-23 16:46:48,155 INFO sqlalchemy.engine.base.Engine COMMIT\n"
     ]
    }
   ],
   "source": [
    "Base.metadata.create_all(engine)"
   ]
  },
  {
   "cell_type": "code",
   "execution_count": 12,
   "metadata": {},
   "outputs": [
    {
     "name": "stderr",
     "output_type": "stream",
     "text": [
      "/home/kt0198/anaconda3/lib/python3.7/site-packages/IPython/core/interactiveshell.py:3058: DtypeWarning: Columns (19) have mixed types. Specify dtype option on import or set low_memory=False.\n",
      "  interactivity=interactivity, compiler=compiler, result=result)\n"
     ]
    }
   ],
   "source": [
    "kinases=pd.read_csv(\"human_kinase_dataframe.csv\")\n",
    "\n",
    "phosphosites=pd.read_csv(\"phosphosites.csv\")\n",
    "\n",
    "inhibs=pd.read_csv(\"inhibitors.csv\")\n",
    "\n",
    "phospho_kinases=pd.read_csv(\"kinases_phosphosites.csv\")\n",
    "\n",
    "phospho_diseases=pd.read_csv(\"phosphosites_diseases.csv\")\n",
    "\n",
    "inhib_kinases=pd.read_csv(\"inhib_kin.csv\")"
   ]
  },
  {
   "cell_type": "code",
   "execution_count": 13,
   "metadata": {
    "scrolled": true
   },
   "outputs": [],
   "source": [
    "# print (inhib_kinases.iloc[0])"
   ]
  },
  {
   "cell_type": "code",
   "execution_count": 14,
   "metadata": {},
   "outputs": [
    {
     "name": "stdout",
     "output_type": "stream",
     "text": [
      "2020-01-23 16:46:52,163 INFO sqlalchemy.engine.base.Engine BEGIN (implicit)\n",
      "2020-01-23 16:46:52,213 INFO sqlalchemy.engine.base.Engine INSERT INTO human_kinases (\"Entry_name\", \"UniProt_ID\", \"Primary_Protein_Name\", \"Alternative_Protein_Name\", \"Gene_Symbol\", \"Alternative_Gene_Name\", \"Families\", \"AA_Seq\", \"Molecular_Mass\", \"Subcellular_Location\") VALUES (?, ?, ?, ?, ?, ?, ?, ?, ?, ?)\n",
      "2020-01-23 16:46:52,216 INFO sqlalchemy.engine.base.Engine (('AKT1_HUMAN', 'P31749', 'RAC-alpha serine/threonine-protein kinase       ', 'Protein kinase B, PKB, Protein kinase B alpha, PKB alpha, Proto-oncogene c-Akt, RAC-PK-alpha', 'AKT1', 'PKB, RAC', 'Protein kinase superfamily, AGC Ser/Thr protein kinase family, RAC subfamily', 'MSDVAIVKEGWLHKRGEYIKTWRPRYFLLKNDGTFIGYKERPQDVDQREAPLNNFSVAQCQLMKTERPRPNTFIIRCLQWTTVIERTFHVETPEEREEWTTAIQTVADGLKKQEEEEMDFRSGSPSDNSGAEEMEVSLAKPKHRVTMNE ... (182 characters truncated) ... WWGLGVVMYEMMCGRLPFYNQDHEKLFELILMEEIRFPRTLGPEAKSLLSGLLKKDPKQRLGGGSEDAKEIMQHRFFAGIVWQHVYEKKLSPPFKPQVTSETDTRYFDEEFTAQMITITPPDQDDSMECVDSERRPHFPQFSYSASGTA', '55,686', 'Cell membrane, Cytoplasm, Nucleus'), ('AKT2_HUMAN', 'P31751', 'RAC-beta serine/threonine-protein kinase     ', 'Protein kinase Akt-2, Protein kinase B beta, PKB beta, RAC-PK-beta', 'AKT2', nan, 'Protein kinase superfamily, AGC Ser/Thr protein kinase family, RAC subfamily', 'MNEVSVIKEGWLHKRGEYIKTWRPRYFLLKSDGSFIGYKERPEAPDQTLPPLNNFSVAECQLMKTERPRPNTFVIRCLQWTTVIERTFHVDSPDEREEWMRAIQMVANSLKQRAPGEDPMDYKCGSPSDSSTTEEMEVAVSKARAKVTM ... (183 characters truncated) ... WWGLGVVMYEMMCGRLPFYNQDHERLFELILMEEIRFPRTLSPEAKSLLAGLLKKDPKQRLGGGPSDAKEVMEHRFFLSINWQDVVQKKLLPPFKPQVTSEVDTRYFDDEFTAQSITITPPDRYDSLGLLELDQRTHFPQFSYSASIRE', '55,769', 'Cell membrane, Cytoplasm, Early endosome, Nucleus, Peripheral membrane protein'), ('AKT3_HUMAN', 'Q9Y243', 'RAC-gamma serine/threonine-protein kinase      ', 'Protein kinase Akt-3, Protein kinase B gamma, PKB gamma, RAC-PK-gamma, STK-2', 'AKT3', 'PKBG', 'Protein kinase superfamily, AGC Ser/Thr protein kinase family, RAC subfamily', 'MSDVTIVKEGWVQKRGEYIKNWRPRYFLLKTDGSFIGYKEKPQDVDLPYPLNNFSVAKCQLMKTERPKPNTFIIRCLQWTTVIERTFHVDTPEEREEWTEAIQAVADRLQRQEEERMNCSPTSQIDNIGEEEMDASTTHHKRKTMNDFD ... (181 characters truncated) ... GLGVVMYEMMCGRLPFYNQDHEKLFELILMEDIKFPRTLSSDAKSLLSGLLIKDPNKRLGGGPDDAKEIMRHSFFSGVNWQDVYDKKLVPPFKPQVTSETDTRYFDEEFTAQTITITPPEKYDEDGMDCMDNERRPHFPQFSYSASGRE', '55,775', 'Cytoplasm, Membrane, Nucleus, Peripheral membrane protein'), ('MRCKA_HUMAN', 'Q5VT25', 'Serine/threonine-protein kinase MRCK alpha      ', 'CDC42-binding protein kinase alpha, DMPK-like alpha, Myotonic dystrophy kinase-related CDC42-binding kinase alpha, MRCK alpha, Myotonic dystrophy protein kinase-like alpha', 'CDC42BPA', 'KIAA0451', 'Protein kinase superfamily, AGC Ser/Thr protein kinase family, DMPK subfamily', 'MSGEVRLRQLEQFILDGPAQTNGQCFSVETLLDILICLYDECNNSPLRREKNILEYLEWAKPFTSKVKQMRLHREDFEILKVIGRGAFGEVAVVKLKNADKVFAMKILNKWEMLKRAETACFREERDVLVNGDNKWITTLHYAFQDDNN ... (1434 characters truncated) ... GPGDGIQILKDLPMNPRPQESRTVFSGSVSIPSITKSRPEPGRSMSASSGLSARSSAQNGSALKREFSGGSYSAKRQPMPSPSEGSLSSGGMDQGSDAPARDFDGEDSDSPRHSTASNSSNLSSPPSPASPRKTKSLSLESTDRGSWDP', '197,307', 'Cell projection, Cytoplasm, lamellipodium'), ('MRCKB_HUMAN', 'Q9Y5S2', 'Serine/threonine-protein kinase MRCK beta       ', 'CDC42-binding protein kinase beta, CDC42BP-beta, DMPK-like beta, Myotonic dystrophy kinase-related CDC42-binding kinase beta, MRCK beta, Myotonic dystrophy protein kinase-like beta', 'CDC42BPB', 'KIAA1124', 'Protein kinase superfamily, AGC Ser/Thr protein kinase family, DMPK subfamily', 'MSAKVRLKKLEQLLLDGPWRNESALSVETLLDVLVCLYTECSHSALRRDKYVAEFLEWAKPFTQLVKEMQLHREDFEIIKVIGRGAFGEVAVVKMKNTERIYAMKILNKWEMLKRAETACFREERDVLVNGDCQWITALHYAFQDENHL ... (1413 characters truncated) ... EERLQQRREMLRDPELRSKMISNPTNFNHVAHMGPGDGMQVLMDLPLSAVPPSQEERPGPAPTNLARQPPSRNKPYISWPSSGGSEPSVTVPLRSMSDPDQDFDKEPDSDSTKHSTPSNSSNPSGPPSPNSPHRSQLPLEGLEQPACDT', '194,315', 'Cell junction, Cell membrane, Cell projection, Cytoplasm, Cytoplasmic side, lamellipodium, Peripheral membrane protein'), ('MRCKG_HUMAN', 'Q6DT37', 'Serine/threonine-protein kinase MRCK gamma        ', 'CDC42-binding protein kinase gamma, DMPK-like gamma, Myotonic dystrophy kinase-related CDC42-binding kinase gamma, MRCK gamma, MRCKG, Myotonic dystrophy protein kinase-like gamma, Myotonic dystrophy protein kinase-like alpha', 'CDC42BPG', 'DMPK2', 'Protein kinase superfamily, AGC Ser/Thr protein kinase family, DMPK subfamily', 'MERRLRALEQLARGEAGGCPGLDGLLDLLLALHHELSSGPLRRERSVAQFLSWASPFVSKVKELRLQRDDFEILKVIGRGAFGEVTVVRQRDTGQIFAMKMLHKWEMLKRAETACFREERDVLVKGDSRWVTTLHYAFQDEEYLYLVMD ... (1253 characters truncated) ... RTKSKRRFFFRVSEEQQKQQRREMLKDPFVRSKLISPPTNFNHLVHVGPANGRPGARDKSPAPEEKGRVARGSGPQRPHSFSEALRRPASMGSEGLGGDADPMKRKPWTSLSSESVSCPQGSLSPATSLMQVSERPRSLPLSPELESSP', '172,459', 'Cytoplasm'), ('CTRO_HUMAN', 'O14578', 'Citron Rho-interacting kinase   ', 'CRIK, Serine/threonine-protein kinase 21', 'CIT', 'CRIK, KIAA0949, STK21', 'Protein kinase superfamily, AGC Ser/Thr protein kinase family', 'MLKFKYGARNPLDAGAAEPIASRASRLNLFFQGKPPFMTQQQMSPLSREGILDALFVLFEECSQPALMKIKHVSNFVRKYSDTIAELQELQPSAKDFEVRSLVGCGHFAEVQVVREKATGDIYAMKVMKKKALLAQEQVSFFEEERNIL ... (1729 characters truncated) ... SSGAIYLASSYQDKLRVICCKGNLVKESGTEHHRGPSTSRSSPNKRGPPTYNEHITKRVASSPAPPEGPSHPREPSTPHRYREGRTELRRDKSPGRPLEREKSPGRMLSTRRERSPGRLFEDSSRGRLPAGAVRTPLSQVNKVWDQSSV', '231,431', 'Cytoplasm'), ('DMPK_HUMAN', 'Q09013', 'Myotonin-protein kinase       ', 'MT-PK, DM-kinase, DMK, DM1 protein kinase, DMPK, Myotonic dystrophy protein kinase', 'DMPK', 'DM1PK, MDPK', 'Protein kinase superfamily, AGC Ser/Thr protein kinase family, DMPK subfamily', 'MSAEVRLRRLQQLVLDPGFLGLEPLLDLLLGVHQELGASELAQDKYVADFLQWAEPIVVRLKEVRLQRDDFEILKVIGRGAFSEVAVVKMKQTGQVYAMKIMNKWDMLKRGEVSCFREERDVLVNGDRRWITQLHFAFQDENYLYLVME ... (331 characters truncated) ... TRQSLSREMEAIRTDNQNFASQLREAEARNRDLEAHVRQLQERMELLQAEGATAVTGVPSPRATDPPSHLDGPPAVAVGQCPLVGPGPMHRRHLLLPARVPRPGLSEALSLLLFAVVLSRAAALGCIGLVAHAGQLTAVWRRPGAARAP', '69,385', 'Cell membrane, Cytoplasm, Cytoplasmic side, cytosol, Endoplasmic reticulum, Endoplasmic reticulum membrane, Mitochondrion, Mitochondrion outer membrane, Nucleus, Nucleus outer membrane, Sarcoplasmic reticulum, Sarcoplasmic reticulum membrane, Single-pass type IV membrane protein')  ... displaying 10 of 535 total bound parameter sets ...  ('AAKG2_HUMAN', 'Q9UGJ0', \"5'-AMP-activated protein kinase subunit gamma-2   \", 'AMPK gamma2, AMPK subunit gamma-2, H91620p', 'PRKAG2', nan, \"5'-AMP-activated protein kinase gamma subunit family\", 'MGSAVMDTKKKKDVSSPGGSGGKKNASQKRRSLRVHIPDLSSFAMPLLDGDLEGSGKHSSRKVDSPFGPGSPSKGFFSRGPQPRPSSPMSAPVRPKTSPGSPKTVFPFSYQESPPRSPRRMSFSGIFRSSSKESSPNSNPATSPGGIRF ... (271 characters truncated) ... MKQNLDELGIGTYHNIAFIHPDTPIIKALNIFVERRISALPVVDESGKVVDIYSKFDVINLAAEKTYNNLDITVTQALQHRSQYFEGVVKCNKLEILETIVDRIVRAEVHRLVVVNEADSIVGIISLSDILQALILTPAGAKQKETETE', '63,066', nan), ('FYV1_HUMAN', 'Q9Y2I7', '1-phosphatidylinositol 3-phosphate 5-kinase       ', 'Phosphatidylinositol 3-phosphate 5-kinase, FYVE finger-containing phosphoinositide kinase, PIKfyve, Phosphatidylinositol 3-phosphate 5-kinase type III, PIPkin-III, Type III PIP kinase', 'PIKFYVE', 'KIAA0981, PIP5K3', nan, 'MATDDKTSPTLDSANDLPRSPTSPSHLTHFKPLTPDQDEPPFKSAYSSFVNLFRFNKERAEGGQGEQQPLSGSWTSPQLPSRTQSVRSPTPYKKQLNEELQRRSSALDTRRKAEPTFGGHDPRTAVQLRSLSTVLKRLKEIMEGKSQDS ... (1800 characters truncated) ... FDLKGSLRNRNVKTDTGKESCDVVLLDENLLKMVRDNPLYIRSHSKAVLRTSIHSDSHFLSSHLIIDYSLLVGRDDTSNELVVGIIDYIRTFTWDKKLEMVVKSTGILGGQGKMPTVVSPELYRTRFCEAMDKYFLMVPDHWTGLGLNC', '237,136', 'Endosome, Endosome membrane'))\n",
      "2020-01-23 16:46:52,250 INFO sqlalchemy.engine.base.Engine COMMIT\n",
      "Finished\n"
     ]
    }
   ],
   "source": [
    "for k in range(len(kinases)):\n",
    "    record = HumanKinases(**{\n",
    "        \"Entry_name\" : kinases.iloc[k, 0],\n",
    "        \"UniProt_ID\" : kinases.iloc[k, 1],\n",
    "        \"Primary_Protein_Name\" : kinases.iloc[k, 2],\n",
    "        \"Alternative_Protein_Name\" : kinases.iloc[k, 3],\n",
    "        \"Gene_Symbol\" : kinases.iloc[k, 4],\n",
    "        \"Alternative_Gene_Name\" : kinases.iloc[k, 5],\n",
    "        \"Families\" : kinases.iloc[k, 6],\n",
    "        \"AA_Seq\" : kinases.iloc[k, 7],\n",
    "        \"Molecular_Mass\" : kinases.iloc[k, 8],\n",
    "        \"Subcellular_Location\" : kinases.iloc[k, 9]\n",
    "    })\n",
    "    session.add(record) # add all the records\n",
    "\n",
    "session.commit() # commit all the records\n",
    "\n",
    "session.close() # close the connection\n",
    "\n",
    "print (\"Finished\")"
   ]
  },
  {
   "cell_type": "code",
   "execution_count": 15,
   "metadata": {},
   "outputs": [
    {
     "name": "stdout",
     "output_type": "stream",
     "text": [
      "2020-01-23 16:49:10,928 INFO sqlalchemy.engine.base.Engine BEGIN (implicit)\n",
      "2020-01-23 16:49:33,262 INFO sqlalchemy.engine.base.Engine INSERT INTO phosphosites (\"GENE\", \"PROTEIN\", \"ACC_ID\", \"HU_CHR_LOC\", \"MOD_RSD\", \"SITE_GRP_ID\", \"MW_kD\", \"DOMAIN\", \"SITE_7_AA\", \"LT_LIT\", \"MS_LIT\", \"MS_CST\", \"CST_CAT\", \"PHOS_ID\", \"PHOS_ID2\", \"PHOS_ID3\", \"PHOS_ID4\", \"PHOS_ID5\", \"SOURCE\", \"SEQUENCE\", \"PMID\", \"ISOFORM\", \"ID_PH\") VALUES (?, ?, ?, ?, ?, ?, ?, ?, ?, ?, ?, ?, ?, ?, ?, ?, ?, ?, ?, ?, ?, ?, ?)\n",
      "2020-01-23 16:49:33,263 INFO sqlalchemy.engine.base.Engine (('YWHAB', '14-3-3 beta', 'P31946', '20q13.12', 'T2', 15718712.0, 28.08, nan, '______MtMDksELV', nan, 3.0, 1.0, nan, 'YWHAB_HUMAN(T2)', '14-3-3 BETA(T2)', '14-3-3 BETA_HUMAN(T2)', 'YWHAB(T2)', 'P31946(T2)', 'http://www.phosphosite.org/uniprotAccAction?id=P31946', nan, nan, 0, 'PH0000001'), ('YWHAB', '14-3-3 beta', 'P31946', '20q13.12', 'S6', 15718709.0, 28.08, nan, '__MtMDksELVQkAk', nan, 8.0, nan, nan, 'YWHAB_HUMAN(S6)', '14-3-3 BETA(S6)', '14-3-3 BETA_HUMAN(S6)', 'YWHAB(S6)', 'P31946(S6)', 'http://www.phosphosite.org/uniprotAccAction?id=P31946', nan, nan, 0, 'PH0000002'), ('YWHAB', '14-3-3 beta', 'P31946', '20q13.12', 'Y21', 3426383.0, 28.08, '14-3-3', 'LAEQAERyDDMAAAM', nan, nan, 4.0, nan, 'YWHAB_HUMAN(Y21)', '14-3-3 BETA(Y21)', '14-3-3 BETA_HUMAN(Y21)', 'YWHAB(Y21)', 'P31946(Y21)', 'http://www.phosphosite.org/uniprotAccAction?id=P31946', nan, nan, 0, 'PH0000003'), ('YWHAB', '14-3-3 beta', 'P31946', '20q13.12', 'T32', 23077803.0, 28.08, '14-3-3', 'AAAMkAVtEQGHELs', nan, nan, 1.0, nan, 'YWHAB_HUMAN(T32)', '14-3-3 BETA(T32)', '14-3-3 BETA_HUMAN(T32)', 'YWHAB(T32)', 'P31946(T32)', 'http://www.phosphosite.org/uniprotAccAction?id=P31946', nan, nan, 0, 'PH0000004'), ('YWHAB', '14-3-3 beta', 'P31946', '20q13.12', 'S39', 27442700.0, 28.08, '14-3-3', 'tEQGHELsNEERNLL', nan, 4.0, nan, nan, 'YWHAB_HUMAN(S39)', '14-3-3 BETA(S39)', '14-3-3 BETA_HUMAN(S39)', 'YWHAB(S39)', 'P31946(S39)', 'http://www.phosphosite.org/uniprotAccAction?id=P31946', nan, nan, 0, 'PH0000005'), ('YWHAB', '14-3-3 beta', 'P31946', '20q13.12', 'S47', 4773271.0, 28.08, '14-3-3', 'NEERNLLsVAykNVV', nan, 18.0, nan, nan, 'YWHAB_HUMAN(S47)', '14-3-3 BETA(S47)', '14-3-3 BETA_HUMAN(S47)', 'YWHAB(S47)', 'P31946(S47)', 'http://www.phosphosite.org/uniprotAccAction?id=P31946', nan, nan, 0, 'PH0000006'), ('YWHAB', '14-3-3 beta', 'P31946', '20q13.12', 'Y50', 12432961.0, 28.08, '14-3-3', 'RNLLsVAykNVVGAR', nan, 3.0, 9.0, nan, 'YWHAB_HUMAN(Y50)', '14-3-3 BETA(Y50)', '14-3-3 BETA_HUMAN(Y50)', 'YWHAB(Y50)', 'P31946(Y50)', 'http://www.phosphosite.org/uniprotAccAction?id=P31946', nan, nan, 0, 'PH0000007'), ('YWHAB', '14-3-3 beta', 'P31946', '20q13.12', 'S59', 4935095.0, 28.08, '14-3-3', 'NVVGARRssWRVISs', nan, nan, 1.0, nan, 'YWHAB_HUMAN(S59)', '14-3-3 BETA(S59)', '14-3-3 BETA_HUMAN(S59)', 'YWHAB(S59)', 'P31946(S59)', 'http://www.phosphosite.org/uniprotAccAction?id=P31946', nan, nan, 0, 'PH0000008')  ... displaying 10 of 243369 total bound parameter sets ...  (nan, nan, 'Q96SB8', nan, 'S695', nan, nan, nan, nan, nan, nan, nan, nan, nan, nan, nan, nan, 'Q96SB8(S695)', 'phospho.ELM', 'MAKRKEENFSSPKNAKRPRQEELEDFDKDGDEDECKGTTLTAAEVGIIESIHLKNFMCHSMLGPFKFGSNVNFVVGNNGSWSAVVRSRLNATSASQVQAILLFQPCGKSAVLTALIVGLGGRAVATNRGSSLKGFVKDGQNSADISITL ... (819 characters truncated) ... LYFDNLLSQRAYCGKMNFDHKNETLSISVQPGEGNKAAFNDMRALSGGERSFSTVCFILSLWSIAESPFRCLDEFDVYMDMVNRRIAMDLILKMADSQRFRQFILLTPQSMSSLPSSKLIRILRMSDPERGQTTLPFRPVTQEEDDDQR', 22067460.0, 0, 'PH0243368'), (nan, nan, 'Q96SB8', nan, 'S291', nan, nan, nan, nan, nan, nan, nan, nan, nan, nan, nan, nan, 'Q96SB8(S291)', 'phospho.ELM', 'MAKRKEENFSSPKNAKRPRQEELEDFDKDGDEDECKGTTLTAAEVGIIESIHLKNFMCHSMLGPFKFGSNVNFVVGNNGSWSAVVRSRLNATSASQVQAILLFQPCGKSAVLTALIVGLGGRAVATNRGSSLKGFVKDGQNSADISITL ... (819 characters truncated) ... LYFDNLLSQRAYCGKMNFDHKNETLSISVQPGEGNKAAFNDMRALSGGERSFSTVCFILSLWSIAESPFRCLDEFDVYMDMVNRRIAMDLILKMADSQRFRQFILLTPQSMSSLPSSKLIRILRMSDPERGQTTLPFRPVTQEEDDDQR', 22067460.0, 0, 'PH0243369'))\n",
      "2020-01-23 16:49:49,205 INFO sqlalchemy.engine.base.Engine COMMIT\n",
      "Finished\n"
     ]
    }
   ],
   "source": [
    "for p in range(len(phosphosites)):\n",
    "    record = Phosphosites(**{\n",
    "        \"GENE\" : phosphosites.iloc[p, 0],\n",
    "        \"PROTEIN\" : phosphosites.iloc[p, 1],\n",
    "        \"ACC_ID\" : phosphosites.iloc[p, 2],\n",
    "        \"HU_CHR_LOC\" : phosphosites.iloc[p, 3],\n",
    "        \"MOD_RSD\" : phosphosites.iloc[p, 4],\n",
    "        \"SITE_GRP_ID\" : phosphosites.iloc[p, 5],\n",
    "        \"MW_kD\" : phosphosites.iloc[p, 6],\n",
    "        \"DOMAIN\" : phosphosites.iloc[p, 7],\n",
    "        \"SITE_7_AA\" : phosphosites.iloc[p, 8],\n",
    "        \"LT_LIT\" : phosphosites.iloc[p, 9],\n",
    "        \"MS_LIT\" : phosphosites.iloc[p, 10],\n",
    "        \"MS_CST\" : phosphosites.iloc[p, 11],\n",
    "        \"CST_CAT\" : phosphosites.iloc[p, 12],\n",
    "        \"PHOS_ID\" : phosphosites.iloc[p, 13],\n",
    "        \"PHOS_ID2\" : phosphosites.iloc[p, 14],\n",
    "        \"PHOS_ID3\" : phosphosites.iloc[p, 15],\n",
    "        \"PHOS_ID4\" : phosphosites.iloc[p, 16],\n",
    "        \"PHOS_ID5\" : phosphosites.iloc[p, 17],\n",
    "        \"SOURCE\" : phosphosites.iloc[p, 18],\n",
    "        \"SEQUENCE\" : phosphosites.iloc[p, 19],\n",
    "        \"PMID\" : phosphosites.iloc[p, 20],\n",
    "        \"ISOFORM\" : phosphosites.iloc[p, 21],\n",
    "        \"ID_PH\" : phosphosites.iloc[p, 22]\n",
    "    })\n",
    "    session.add(record) # add all the records\n",
    "\n",
    "session.commit() # commit all the records\n",
    "\n",
    "session.close() # close the connection\n",
    "\n",
    "print (\"Finished\")"
   ]
  },
  {
   "cell_type": "code",
   "execution_count": 16,
   "metadata": {},
   "outputs": [
    {
     "name": "stdout",
     "output_type": "stream",
     "text": [
      "2020-01-23 16:49:58,535 INFO sqlalchemy.engine.base.Engine BEGIN (implicit)\n",
      "2020-01-23 16:50:00,191 INFO sqlalchemy.engine.base.Engine INSERT INTO inhibitors (\"Inhibitor\", \"Ki_nM\", \"IC50_nM\", \"Kd_nM\", \"EC50_nM\", \"POC\", \"Source\", \"IMG_URL\", \"ID_IN\") VALUES (?, ?, ?, ?, ?, ?, ?, ?, ?)\n",
      "2020-01-23 16:50:00,192 INFO sqlalchemy.engine.base.Engine (('CHEMBL253116', nan, '1000', nan, nan, nan, 'BindingDB', 'http://gemdock.life.nctu.edu.tw/kidfammap/data/png/BindingDB/BD50196392.png', 'IN0000001'), ('CHEMBL366185', nan, '10000', nan, nan, nan, 'BindingDB', 'http://gemdock.life.nctu.edu.tw/kidfammap/data/png/BindingDB/BD50168249.png', 'IN0000002'), ('CHEMBL193172', nan, '1140', nan, nan, nan, 'BindingDB', 'http://gemdock.life.nctu.edu.tw/kidfammap/data/png/BindingDB/BD50168239.png', 'IN0000003'), ('CHEMBL193162', nan, '1280', nan, nan, nan, 'BindingDB', 'http://gemdock.life.nctu.edu.tw/kidfammap/data/png/BindingDB/BD50168236.png', 'IN0000004'), ('CHEMBL364499', nan, '1360', nan, nan, nan, 'BindingDB', 'http://gemdock.life.nctu.edu.tw/kidfammap/data/png/BindingDB/BD50168235.png', 'IN0000005'), ('CHEMBL437331', nan, '2620', nan, nan, nan, 'BindingDB', 'http://gemdock.life.nctu.edu.tw/kidfammap/data/png/BindingDB/BD50194024.png', 'IN0000006'), ('CHEMBL426445', nan, '40', nan, nan, nan, 'BindingDB', 'http://gemdock.life.nctu.edu.tw/kidfammap/data/png/BindingDB/BD50168247.png', 'IN0000007'), ('CHEMBL190143', nan, '6130', nan, nan, nan, 'BindingDB', 'http://gemdock.life.nctu.edu.tw/kidfammap/data/png/BindingDB/BD50168243.png', 'IN0000008')  ... displaying 10 of 30016 total bound parameter sets ...  ('ITI', nan, nan, nan, nan, nan, 'PDB', 'http://gemdock.life.nctu.edu.tw/kidfammap/data/png/PDB/ITI.png', 'IN0030015'), ('POX', nan, nan, nan, nan, nan, 'PDB', 'http://gemdock.life.nctu.edu.tw/kidfammap/data/png/PDB/POX.png', 'IN0030016'))\n",
      "2020-01-23 16:50:01,525 INFO sqlalchemy.engine.base.Engine COMMIT\n",
      "Finished\n"
     ]
    }
   ],
   "source": [
    "for i in range(len(inhibs)):\n",
    "    record = Inhibitors(**{\n",
    "        \"Inhibitor\" : inhibs.iloc[i, 0],\n",
    "        \"Ki_nM\" : inhibs.iloc[i, 1],\n",
    "        \"IC50_nM\" : inhibs.iloc[i, 2],\n",
    "        \"Kd_nM\" : inhibs.iloc[i, 3],\n",
    "        \"EC50_nM\" : inhibs.iloc[i, 4],\n",
    "        \"POC\" : inhibs.iloc[i, 5],\n",
    "        \"Source\" : inhibs.iloc[i, 6],\n",
    "        \"IMG_URL\" : inhibs.iloc[i, 7],\n",
    "        \"ID_IN\" : inhibs.iloc[i, 8]\n",
    "    })\n",
    "    session.add(record) # add all the records\n",
    "    \n",
    "session.commit() # commit all the records\n",
    "\n",
    "session.close() # close the connection\n",
    "\n",
    "print (\"Finished\")"
   ]
  },
  {
   "cell_type": "code",
   "execution_count": 17,
   "metadata": {},
   "outputs": [
    {
     "name": "stdout",
     "output_type": "stream",
     "text": [
      "2020-01-23 16:50:06,875 INFO sqlalchemy.engine.base.Engine BEGIN (implicit)\n",
      "2020-01-23 16:50:07,649 INFO sqlalchemy.engine.base.Engine INSERT INTO kinases_phosphosites (\"GENE\", \"KIN_ACC_ID\", \"SUB_ACC_ID\", \"IN_VIVO_RXN\", \"IN_VITRO_RXN\", \"CST_CAT\", \"PHOS_ID\", \"PHOS_ID2\", \"PHOS_ID3\", \"PHOS_ID4\", \"PHOS_ID5\", \"SOURCE\", \"SEQUENCE\", \"PMID\", \"KIN_ACC_ID_2\", \"ID_KS\") VALUES (?, ?, ?, ?, ?, ?, ?, ?, ?, ?, ?, ?, ?, ?, ?, ?)\n",
      "2020-01-23 16:50:07,651 INFO sqlalchemy.engine.base.Engine (('EIF2AK1', 'Q9BQI3', 'P05198', ' ', 'X', '3597; 9721; 3398; 5199', 'EIF2S1_HUMAN(S52)', 'EIF2-ALPHA(S52)', 'EIF2-ALPHA_HUMAN(S52)', 'EIF2S1(S52)', 'P05198(S52)', 'http://www.phosphosite.org/uniprotAccAction?id=P05198', nan, nan, 'Q9BQI3', 'KS0000001'), ('EIF2AK1', 'Q9BQI3', 'P05198', ' ', 'X', nan, 'EIF2S1_HUMAN(S49)', 'EIF2-ALPHA(S49)', 'EIF2-ALPHA_HUMAN(S49)', 'EIF2S1(S49)', 'P05198(S49)', 'http://www.phosphosite.org/uniprotAccAction?id=P05198', nan, nan, 'Q9BQI3', 'KS0000002'), ('PRKCD', 'Q05655', 'Q9UQL6', ' ', 'X', '3443', 'HDAC5_HUMAN(S259)', 'HDAC5(S259)', 'HDAC5_HUMAN(S259)', 'HDAC5(S259)', 'Q9UQL6(S259)', 'http://www.phosphosite.org/uniprotAccAction?id=Q9UQL6', nan, nan, 'Q05655', 'KS0000003'), ('PRKCD', 'Q05655', 'P18433-2', 'X', ' ', nan, 'PTPRA_HUMAN(S204)', 'PTPRA ISO2(S204)', 'PTPRA ISO2_HUMAN(S204)', 'PTPRA(S204)', 'P18433-2(S204)', 'http://www.phosphosite.org/uniprotAccAction?id=P18433-2', nan, nan, 'Q05655', 'KS0000004'), ('PRKCD', 'Q05655', 'P61978', 'X', 'X', nan, 'HNRNPK_HUMAN(S302)', 'HNRNP K(S302)', 'HNRNP K_HUMAN(S302)', 'HNRNPK(S302)', 'P61978(S302)', 'http://www.phosphosite.org/uniprotAccAction?id=P61978', nan, nan, 'Q05655', 'KS0000005'), ('PRKCD', 'Q05655', 'Q9UQ13', ' ', 'X', nan, 'SHOC2_HUMAN(T71)', 'SHOC2(T71)', 'SHOC2_HUMAN(T71)', 'SHOC2(T71)', 'Q9UQ13(T71)', 'http://www.phosphosite.org/uniprotAccAction?id=Q9UQ13', nan, nan, 'Q05655', 'KS0000006'), ('PRKCD', 'Q05655', 'P53004', ' ', 'X', nan, 'BLVRA_HUMAN(S237)', 'BVR(S237)', 'BVR_HUMAN(S237)', 'BLVRA(S237)', 'P53004(S237)', 'http://www.phosphosite.org/uniprotAccAction?id=P53004', nan, nan, 'Q05655', 'KS0000007'), ('PRKCD', 'Q05655', 'P15941', 'X', 'X', nan, 'MUC1_HUMAN(T1224)', 'MUC1(T1224)', 'MUC1_HUMAN(T1224)', 'MUC1(T1224)', 'P15941(T1224)', 'http://www.phosphosite.org/uniprotAccAction?id=P15941', nan, nan, 'Q05655', 'KS0000008')  ... displaying 10 of 11255 total bound parameter sets ...  ('CDK2', 'P24941', 'P33981-1', nan, nan, '0.0', nan, nan, nan, nan, 'P33981-1(T468)', 'phospho.ELM', 'MESEDLSGRELTIDSIMNKVRDIKNKFKNEDLTDELSLNKISADTTDNSGTVNQIMMMANNPEDWLSLLLKLEKNSVPLSDALLNKLIGRYSQAIEALPPDKYGQNESFARIQVRFAELKAIQEPDDARDYFQMARANCKKFAFVHISF ... (559 characters truncated) ... SKISPKSDVWSLGCILYYMTYGKTPFQQIINQISKLHAIIDPNHEIEFPDIPEKDLQDVLKCCLKRDPKQRISIPELLAHPYVQIQTHPVNQMAKGTTEEMKYVLGQLVGLNSPNSILKAAKTLYEHYSGGESHNSSSSKTFEKKRGKK', 17804818.0, 'P24941', 'KS0011254'), ('TTK', 'P33981', 'P33981-1', nan, nan, '0.0', nan, nan, nan, nan, 'P33981-1(T686)', 'phospho.ELM', 'MESEDLSGRELTIDSIMNKVRDIKNKFKNEDLTDELSLNKISADTTDNSGTVNQIMMMANNPEDWLSLLLKLEKNSVPLSDALLNKLIGRYSQAIEALPPDKYGQNESFARIQVRFAELKAIQEPDDARDYFQMARANCKKFAFVHISF ... (559 characters truncated) ... SKISPKSDVWSLGCILYYMTYGKTPFQQIINQISKLHAIIDPNHEIEFPDIPEKDLQDVLKCCLKRDPKQRISIPELLAHPYVQIQTHPVNQMAKGTTEEMKYVLGQLVGLNSPNSILKAAKTLYEHYSGGESHNSSSSKTFEKKRGKK', 19120698.0, 'P33981', 'KS0011255'))\n",
      "2020-01-23 16:50:08,092 INFO sqlalchemy.engine.base.Engine COMMIT\n",
      "Finished\n"
     ]
    }
   ],
   "source": [
    "for kp in range(len(phospho_kinases)):\n",
    "    record = KinasesPhosphosites(**{\n",
    "        \"GENE\" : phospho_kinases.iloc[kp, 0],\n",
    "        \"KIN_ACC_ID\" : phospho_kinases.iloc[kp, 1],\n",
    "        \"SUB_ACC_ID\" : phospho_kinases.iloc[kp, 2],\n",
    "        \"IN_VIVO_RXN\" : phospho_kinases.iloc[kp, 3],\n",
    "        \"IN_VITRO_RXN\" : phospho_kinases.iloc[kp, 4],\n",
    "        \"CST_CAT\" : phospho_kinases.iloc[kp, 5],\n",
    "        \"PHOS_ID\" : phospho_kinases.iloc[kp, 6],\n",
    "        \"PHOS_ID2\" : phospho_kinases.iloc[kp, 7],\n",
    "        \"PHOS_ID3\" : phospho_kinases.iloc[kp, 8],\n",
    "        \"PHOS_ID4\" : phospho_kinases.iloc[kp, 9],\n",
    "        \"PHOS_ID5\" : phospho_kinases.iloc[kp, 10],\n",
    "        \"SOURCE\" : phospho_kinases.iloc[kp, 11],\n",
    "        \"SEQUENCE\" : phospho_kinases.iloc[kp, 12],\n",
    "        \"PMID\" : phospho_kinases.iloc[kp, 13],\n",
    "        \"KIN_ACC_ID_2\" : phospho_kinases.iloc[kp, 14],\n",
    "        \"ID_KS\" : phospho_kinases.iloc[kp, 15]\n",
    "    })\n",
    "    session.add(record) # add all the records\n",
    "    \n",
    "session.commit() # commit all the records\n",
    "\n",
    "session.close() # close the connection\n",
    "\n",
    "print (\"Finished\")"
   ]
  },
  {
   "cell_type": "code",
   "execution_count": 18,
   "metadata": {},
   "outputs": [
    {
     "name": "stdout",
     "output_type": "stream",
     "text": [
      "2020-01-23 16:50:08,573 INFO sqlalchemy.engine.base.Engine BEGIN (implicit)\n",
      "2020-01-23 16:50:08,640 INFO sqlalchemy.engine.base.Engine INSERT INTO phosphosites_diseases (\"DISEASE\", \"ALTERATION\", \"ACC_ID\", \"PMIDs\", \"LT_LIT\", \"MS_LIT\", \"MS_CST\", \"CST_CAT\", \"NOTES\", \"PHOS_ID\", \"ID_PD\") VALUES (?, ?, ?, ?, ?, ?, ?, ?, ?, ?, ?)\n",
      "2020-01-23 16:50:08,643 INFO sqlalchemy.engine.base.Engine ((\"Alzheimer's disease\", 'mutation of site', 'P05067-4', 16554819, 36, 5, 3, '6986; 3823', 'Pin1 binds to the pT668-Pro motif but not when mutated to Ala. ', 'P05067-4(T668)', 'DP0000001'), ('breast cancer', 'increased', 'P31749', 12244301, 1404, 19, 44, '88106; 9271; 3787; 4060; 5315; 9563; 4070; 9018; 15116; 4051; 5102; 4075; 5012; 4071; 4054; 4058; 11962; 2336; 2337; 12694', 'Expression of phosphorylated S473 in invasive breast carcinomas correlates with cytosolic p27.  ', 'P31749(S473)', 'DP0000002'), (\"Alzheimer's disease\", 'increased', 'P05067-4', 14970211, 36, 5, 3, '6986; 3823', nan, 'P05067-4(T668)', 'DP0000003'), (\"Alzheimer's disease\", 'increased', 'Q06481', 14970211, 3, 2, 1, nan, nan, 'Q06481(T736)', 'DP0000004'), ('prostate cancer', 'increased', 'P10275', 12015328, 4, 1, 0, nan, nan, 'P10275(S16)', 'DP0000005'), ('prostate cancer', 'increased', 'P10275', 12015328, 10, 3, 0, nan, nan, 'P10275(S651)', 'DP0000006'), ('prostate cancer', 'increased', 'P10275', 12015328, 3, 1, 0, nan, nan, 'P10275(S426)', 'DP0000007'), ('prostate cancer', 'increased', 'P10275', 12015328, 10, 5, 0, nan, nan, 'P10275(S310)', 'DP0000008')  ... displaying 10 of 1061 total bound parameter sets ...  (\"Alzheimer's disease\", 'increased', 'P10636-8', 24757378, 86, 38, 14, nan, nan, 'P10636-8(T231)', 'DP0001060'), ('cancer, squamous cell carcinoma', 'decreased', 'P05787', 22114688, 26, 8, 23, nan, nan, 'P05787(S432)', 'DP0001061'))\n",
      "2020-01-23 16:50:08,701 INFO sqlalchemy.engine.base.Engine COMMIT\n",
      "Finished\n"
     ]
    }
   ],
   "source": [
    "for dp in range(len(phospho_diseases)):\n",
    "    record = PhosphositesDiseases(**{\n",
    "        \"DISEASE\" : phospho_diseases.iloc[dp, 0],\n",
    "        \"ALTERATION\" : phospho_diseases.iloc[dp, 1],\n",
    "        \"ACC_ID\" : phospho_diseases.iloc[dp, 2],\n",
    "        \"PMIDs\" : phospho_diseases.iloc[dp, 3],\n",
    "        \"LT_LIT\" : phospho_diseases.iloc[dp, 4],\n",
    "        \"MS_LIT\" : phospho_diseases.iloc[dp, 5],\n",
    "        \"MS_CST\" : phospho_diseases.iloc[dp, 6],\n",
    "        \"CST_CAT\" : phospho_diseases.iloc[dp, 7],\n",
    "        \"NOTES\" : phospho_diseases.iloc[dp, 8],\n",
    "        \"PHOS_ID\" : phospho_diseases.iloc[dp, 9],\n",
    "        \"ID_PD\" : phospho_diseases.iloc[dp, 10]\n",
    "    })\n",
    "    session.add(record) # add all the records\n",
    "    \n",
    "session.commit() # commit all the records\n",
    "\n",
    "session.close() # close the connection\n",
    "\n",
    "print (\"Finished\")"
   ]
  },
  {
   "cell_type": "code",
   "execution_count": 20,
   "metadata": {},
   "outputs": [
    {
     "name": "stdout",
     "output_type": "stream",
     "text": [
      "2020-01-23 16:50:30,205 INFO sqlalchemy.engine.base.Engine BEGIN (implicit)\n",
      "2020-01-23 16:50:32,014 INFO sqlalchemy.engine.base.Engine INSERT INTO inhib_kin (\"Kinase\", \"Inhibitor\", \"UniProt_ID\", \"ID_KI\") VALUES (?, ?, ?, ?)\n",
      "2020-01-23 16:50:32,016 INFO sqlalchemy.engine.base.Engine (('RPS6KB2', 'CHEMBL253116', 'Q9UBS0', 'KI0000001'), ('RPS6KB2', 'CHEMBL366185', 'Q9UBS0', 'KI0000002'), ('RPS6KB2', 'CHEMBL193172', 'Q9UBS0', 'KI0000003'), ('RPS6KB2', 'CHEMBL193162', 'Q9UBS0', 'KI0000004'), ('RPS6KB2', 'CHEMBL364499', 'Q9UBS0', 'KI0000005'), ('RPS6KB2', 'CHEMBL437331', 'Q9UBS0', 'KI0000006'), ('RPS6KB2', 'CHEMBL426445', 'Q9UBS0', 'KI0000007'), ('RPS6KB2', 'CHEMBL190143', 'Q9UBS0', 'KI0000008')  ... displaying 10 of 58978 total bound parameter sets ...  ('EGFR', 'POX', 'P00533', 'KI0058977'), ('EGFR', 'STU', 'P00533', 'KI0058978'))\n",
      "2020-01-23 16:50:33,934 INFO sqlalchemy.engine.base.Engine COMMIT\n",
      "Finished\n"
     ]
    }
   ],
   "source": [
    "for ik in range(len(inhib_kinases)):\n",
    "    record = InhibKin(**{\n",
    "        \"Kinase\" : inhib_kinases.iloc[ik, 0],\n",
    "        \"Inhibitor\" : inhib_kinases.iloc[ik, 1],\n",
    "        \"UniProt_ID\" : inhib_kinases.iloc[ik, 2],\n",
    "        \"ID_KI\" : inhib_kinases.iloc[ik, 3]\n",
    "    })\n",
    "    session.add(record) # add all the records\n",
    "    \n",
    "session.commit() # commit all the records\n",
    "\n",
    "session.close() # close the connection\n",
    "\n",
    "print (\"Finished\")"
   ]
  },
  {
   "cell_type": "code",
   "execution_count": null,
   "metadata": {},
   "outputs": [],
   "source": [
    "# engine.execute(\"SELECT * FROM phosphosites\").fetchall()\n",
    "engine.execute(\"SELECT * FROM human_kinases WHERE Subcellular_Location LIKE '%Nucleus%'\").fetchall()\n",
    "# engine.execute(\"SELECT * FROM human_kinases WHERE Subcellular_Location LIKE 'Nucleus'\").fetchall()"
   ]
  },
  {
   "cell_type": "code",
   "execution_count": null,
   "metadata": {},
   "outputs": [],
   "source": []
  }
 ],
 "metadata": {
  "kernelspec": {
   "display_name": "Python 3",
   "language": "python",
   "name": "python3"
  },
  "language_info": {
   "codemirror_mode": {
    "name": "ipython",
    "version": 3
   },
   "file_extension": ".py",
   "mimetype": "text/x-python",
   "name": "python",
   "nbconvert_exporter": "python",
   "pygments_lexer": "ipython3",
   "version": "3.7.4"
  }
 },
 "nbformat": 4,
 "nbformat_minor": 2
}
