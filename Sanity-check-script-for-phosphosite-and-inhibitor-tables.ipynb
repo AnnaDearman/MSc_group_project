{
 "cells": [
  {
   "cell_type": "markdown",
   "metadata": {},
   "source": [
    "# Sanity Checking csv Files for Database"
   ]
  },
  {
   "cell_type": "markdown",
   "metadata": {},
   "source": [
    "Import required packages"
   ]
  },
  {
   "cell_type": "code",
   "execution_count": null,
   "metadata": {},
   "outputs": [],
   "source": [
    "import pandas as pd"
   ]
  },
  {
   "cell_type": "markdown",
   "metadata": {},
   "source": [
    "Read in data files"
   ]
  },
  {
   "cell_type": "code",
   "execution_count": null,
   "metadata": {},
   "outputs": [],
   "source": [
    "# Include human kinase dataframe\n",
    "\n",
    "human_kinases = pd.read_csv( \"human_kinase_dataframe.csv\" )\n",
    "phosphosites = pd.read_csv( \"phosphosites.csv\" )\n",
    "kinases_phosphosites = pd.read_csv( \"kinases_phosphosites.csv\" )\n",
    "phosphosites_diseases = pd.read_csv( \"phosphosites_diseases.csv\" )"
   ]
  },
  {
   "cell_type": "markdown",
   "metadata": {},
   "source": [
    "Ensure foreign keys in child tables are all present in parent tables"
   ]
  },
  {
   "cell_type": "code",
   "execution_count": null,
   "metadata": {},
   "outputs": [],
   "source": [
    "# Parent:\n",
    "parent_phos = list( phosphosites.PHOS_ID5 )\n",
    "\n",
    "# Children:\n",
    "child_phos_k = list( kinases_phosphosites.PHOS_ID5 )\n",
    "child_phos_d = list( phosphosites_diseases.PHOS_ID )"
   ]
  },
  {
   "cell_type": "code",
   "execution_count": null,
   "metadata": {},
   "outputs": [],
   "source": [
    "# Parent:\n",
    "parent_kin = list( human_kinases.UniProt_ID )\n",
    "\n",
    "# Child:\n",
    "child_kin = list( kinases_phosphosites.KIN_ACC_ID_2 )"
   ]
  },
  {
   "cell_type": "code",
   "execution_count": null,
   "metadata": {},
   "outputs": [],
   "source": [
    "yes = 0\n",
    "no = 0\n",
    "missing = []\n",
    "\n",
    "for i in child_phos_k:\n",
    "    if i in parent_phos:\n",
    "        yes += 1\n",
    "    else:\n",
    "        no += 1\n",
    "        missing.append( i )\n",
    "\n",
    "print( \"Kinase-phosphosite table contains \" + str( len( child_phos_k ) ) + \" phosphosite IDs, \"\n",
    "     + str( yes ) + \" of which are in the phosphosite table, \" + str( no ) + \" of which are not.\")\n",
    "\n",
    "print( missing )"
   ]
  },
  {
   "cell_type": "code",
   "execution_count": null,
   "metadata": {},
   "outputs": [],
   "source": [
    "yes = 0\n",
    "no = 0\n",
    "missing = []\n",
    "\n",
    "for i in child_phos_d:\n",
    "    if i in parent_phos:\n",
    "        yes += 1\n",
    "    else:\n",
    "        no += 1\n",
    "        missing.append( i )\n",
    "\n",
    "print( \"Disease-phosphosite table contains \" + str( len( child_phos_d ) ) + \" phosphosite IDs, \"\n",
    "     + str( yes ) + \" of which are in the phosphosite table, \" + str( no ) + \" of which are not.\")\n",
    "\n",
    "print( missing )"
   ]
  },
  {
   "cell_type": "code",
   "execution_count": null,
   "metadata": {},
   "outputs": [],
   "source": [
    "yes = 0\n",
    "no = 0\n",
    "missing_kinases = []\n",
    "\n",
    "for i in child_kin:\n",
    "    if i in parent_kin:\n",
    "        yes += 1\n",
    "    else:\n",
    "        no += 1\n",
    "        if i not in missing_kinases:\n",
    "            missing_kinases.append(i)\n",
    "\n",
    "print( \"Kinase-phosphosite table contains \" + str( len( child_kin ) ) + \" kinase IDs, \"\n",
    "     + str( yes ) + \" of which are in the kinase table, \" + str( no ) + \" of which are not.\")\n",
    "\n",
    "print( \"No. of unique missing kinases: \" + str( len( missing_kinases ) ) )\n",
    "\n",
    "print( missing_kinases )"
   ]
  },
  {
   "cell_type": "markdown",
   "metadata": {},
   "source": []
  }
 ],
 "metadata": {
  "kernelspec": {
   "display_name": "Python 3",
   "language": "python",
   "name": "python3"
  },
  "language_info": {
   "codemirror_mode": {
    "name": "ipython",
    "version": 3
   },
   "file_extension": ".py",
   "mimetype": "text/x-python",
   "name": "python",
   "nbconvert_exporter": "python",
   "pygments_lexer": "ipython3",
   "version": "3.7.4"
  }
 },
 "nbformat": 4,
 "nbformat_minor": 2
}
