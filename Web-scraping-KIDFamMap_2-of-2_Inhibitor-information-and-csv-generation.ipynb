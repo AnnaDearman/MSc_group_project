{
 "cells": [
  {
   "cell_type": "markdown",
   "metadata": {},
   "source": [
    "# Web scraping KIDFamMap 2 of 2:\n",
    "\n",
    "## Inhibitor csv File Generation by Web Scraping and Parsing KIDFamMap Data"
   ]
  },
  {
   "cell_type": "markdown",
   "metadata": {},
   "source": [
    "After running Web-scraping-KIDFamMap_1-of-2_Kinase-IDs.ipynb, we have a list of URLs to paste into our second KIDFamMap-scraping spider.\n",
    "\n",
    "Here we define and run this spider to extract the UniProt IDs and inhibitor data for each of the 340 kinases which have inhibitor data available.\n",
    "\n",
    "Once the data has been extracted from the website, it is cleaned and inserted into a Pandas data frame.\n",
    "\n",
    "After that, the following steps take place:\n",
    "- Using information in the data frame, we generate a column of URLs that our web app can use to display images of the inhibitors' chemical structures.\n",
    "- Convert kinases and inhibitors to uppercase.\n",
    "- Translate kinase names to match \"Entry name\" (UniProt ID) in kinase table.\n",
    "- Remove duplicate rows.\n",
    "- Remove unnecessary columns.\n",
    "- Use this data frame to make two data frames: one listing the kinase-inhibitor pairs, and one listing each inhibitor alongside all of its information. These two data sets can then be linked via the inhibitor name in our relational database.\n",
    "- Make primary key columns.\n",
    "- Export as csv files."
   ]
  },
  {
   "cell_type": "markdown",
   "metadata": {},
   "source": [
    "Import packages"
   ]
  },
  {
   "cell_type": "code",
   "execution_count": null,
   "metadata": {},
   "outputs": [],
   "source": [
    "import pandas as pd\n",
    "import scrapy\n",
    "from scrapy.crawler import CrawlerProcess"
   ]
  },
  {
   "cell_type": "markdown",
   "metadata": {},
   "source": [
    "Make a spider"
   ]
  },
  {
   "cell_type": "code",
   "execution_count": null,
   "metadata": {},
   "outputs": [],
   "source": [
    "# Use the scrapy.Spider class to make an inhibitor-details-scraping \n",
    "# spider\n",
    "\n",
    "class InhibitorSpider( scrapy.Spider ):\n",
    "    \n",
    "    name = \"inhibitor_spider\"\n",
    "    \n",
    "    # Define the first action to take\n",
    "        \n",
    "    def start_requests( self ): \n",
    "        \n",
    "        # Define which URLs to follow\n",
    "        \n",
    "        kinase_urls = ['http://gemdock.life.nctu.edu.tw/kidfammap/show_inhibitor.php?QueryType=Protein&QueryName=ADRBK1&Query_Pid=ADRBK1',\n",
    "                       'http://gemdock.life.nctu.edu.tw/kidfammap/show_inhibitor.php?QueryType=Protein&QueryName=AKT1&Query_Pid=AKT1',\n",
    "                       'http://gemdock.life.nctu.edu.tw/kidfammap/show_inhibitor.php?QueryType=Protein&QueryName=AKT2&Query_Pid=AKT2',\n",
    "                       'http://gemdock.life.nctu.edu.tw/kidfammap/show_inhibitor.php?QueryType=Protein&QueryName=DMPK&Query_Pid=DMPK',\n",
    "                       'http://gemdock.life.nctu.edu.tw/kidfammap/show_inhibitor.php?QueryType=Protein&QueryName=GRK6&Query_Pid=GRK6',\n",
    "                       'http://gemdock.life.nctu.edu.tw/kidfammap/show_inhibitor.php?QueryType=Protein&QueryName=PDPK1&Query_Pid=PDPK1',\n",
    "                       'http://gemdock.life.nctu.edu.tw/kidfammap/show_inhibitor.php?QueryType=Protein&QueryName=PRKACA&Query_Pid=PRKACA',\n",
    "                       'http://gemdock.life.nctu.edu.tw/kidfammap/show_inhibitor.php?QueryType=Protein&QueryName=PRKCA&Query_Pid=PRKCA',\n",
    "                       'http://gemdock.life.nctu.edu.tw/kidfammap/show_inhibitor.php?QueryType=Protein&QueryName=PRKCB&Query_Pid=PRKCB',\n",
    "                       'http://gemdock.life.nctu.edu.tw/kidfammap/show_inhibitor.php?QueryType=Protein&QueryName=PRKCI&Query_Pid=PRKCI',\n",
    "                       'http://gemdock.life.nctu.edu.tw/kidfammap/show_inhibitor.php?QueryType=Protein&QueryName=PRKCQ&Query_Pid=PRKCQ',\n",
    "                       'http://gemdock.life.nctu.edu.tw/kidfammap/show_inhibitor.php?QueryType=Protein&QueryName=ROCK1&Query_Pid=ROCK1',\n",
    "                       'http://gemdock.life.nctu.edu.tw/kidfammap/show_inhibitor.php?QueryType=Protein&QueryName=RPS6KA1&Query_Pid=RPS6KA1',\n",
    "                       'http://gemdock.life.nctu.edu.tw/kidfammap/show_inhibitor.php?QueryType=Protein&QueryName=RPS6KA5&Query_Pid=RPS6KA5',\n",
    "                       'http://gemdock.life.nctu.edu.tw/kidfammap/show_inhibitor.php?QueryType=Protein&QueryName=SGK1&Query_Pid=SGK1',\n",
    "                       'http://gemdock.life.nctu.edu.tw/kidfammap/show_inhibitor.php?QueryType=Protein&QueryName=CAMK1D&Query_Pid=CAMK1D',\n",
    "                       'http://gemdock.life.nctu.edu.tw/kidfammap/show_inhibitor.php?QueryType=Protein&QueryName=CAMK1G&Query_Pid=CAMK1G',\n",
    "                       'http://gemdock.life.nctu.edu.tw/kidfammap/show_inhibitor.php?QueryType=Protein&QueryName=CAMK2A&Query_Pid=CAMK2A',\n",
    "                       'http://gemdock.life.nctu.edu.tw/kidfammap/show_inhibitor.php?QueryType=Protein&QueryName=CAMK2B&Query_Pid=CAMK2B',\n",
    "                       'http://gemdock.life.nctu.edu.tw/kidfammap/show_inhibitor.php?QueryType=Protein&QueryName=CAMK2D&Query_Pid=CAMK2D',\n",
    "                       'http://gemdock.life.nctu.edu.tw/kidfammap/show_inhibitor.php?QueryType=Protein&QueryName=CAMK2G&Query_Pid=CAMK2G',\n",
    "                       'http://gemdock.life.nctu.edu.tw/kidfammap/show_inhibitor.php?QueryType=Protein&QueryName=CAMK4&Query_Pid=CAMK4',\n",
    "                       'http://gemdock.life.nctu.edu.tw/kidfammap/show_inhibitor.php?QueryType=Protein&QueryName=CASK&Query_Pid=CASK',\n",
    "                       'http://gemdock.life.nctu.edu.tw/kidfammap/show_inhibitor.php?QueryType=Protein&QueryName=CHEK1&Query_Pid=CHEK1',\n",
    "                       'http://gemdock.life.nctu.edu.tw/kidfammap/show_inhibitor.php?QueryType=Protein&QueryName=CHEK2&Query_Pid=CHEK2',\n",
    "                       'http://gemdock.life.nctu.edu.tw/kidfammap/show_inhibitor.php?QueryType=Protein&QueryName=DAPK1&Query_Pid=DAPK1',\n",
    "                       'http://gemdock.life.nctu.edu.tw/kidfammap/show_inhibitor.php?QueryType=Protein&QueryName=DAPK2&Query_Pid=DAPK2',\n",
    "                       'http://gemdock.life.nctu.edu.tw/kidfammap/show_inhibitor.php?QueryType=Protein&QueryName=DAPK3&Query_Pid=DAPK3',\n",
    "                       'http://gemdock.life.nctu.edu.tw/kidfammap/show_inhibitor.php?QueryType=Protein&QueryName=MAPKAPK2&Query_Pid=MAPKAPK2',\n",
    "                       'http://gemdock.life.nctu.edu.tw/kidfammap/show_inhibitor.php?QueryType=Protein&QueryName=MAPKAPK3&Query_Pid=MAPKAPK3',\n",
    "                       'http://gemdock.life.nctu.edu.tw/kidfammap/show_inhibitor.php?QueryType=Protein&QueryName=MKNK2&Query_Pid=MKNK2',\n",
    "                       'http://gemdock.life.nctu.edu.tw/kidfammap/show_inhibitor.php?QueryType=Protein&QueryName=MYLK4&Query_Pid=MYLK4',\n",
    "                       'http://gemdock.life.nctu.edu.tw/kidfammap/show_inhibitor.php?QueryType=Protein&QueryName=PASK&Query_Pid=PASK',\n",
    "                       'http://gemdock.life.nctu.edu.tw/kidfammap/show_inhibitor.php?QueryType=Protein&QueryName=PIM1&Query_Pid=PIM1',\n",
    "                       'http://gemdock.life.nctu.edu.tw/kidfammap/show_inhibitor.php?QueryType=Protein&QueryName=PIM2&Query_Pid=PIM2',\n",
    "                       'http://gemdock.life.nctu.edu.tw/kidfammap/show_inhibitor.php?QueryType=Protein&QueryName=PRKAA2&Query_Pid=PRKAA2',\n",
    "                       'http://gemdock.life.nctu.edu.tw/kidfammap/show_inhibitor.php?QueryType=Protein&QueryName=STK11&Query_Pid=STK11',\n",
    "                       'http://gemdock.life.nctu.edu.tw/kidfammap/show_inhibitor.php?QueryType=Protein&QueryName=STK17B&Query_Pid=STK17B',\n",
    "                       'http://gemdock.life.nctu.edu.tw/kidfammap/show_inhibitor.php?QueryType=Protein&QueryName=CSNK1G1&Query_Pid=CSNK1G1',\n",
    "                       'http://gemdock.life.nctu.edu.tw/kidfammap/show_inhibitor.php?QueryType=Protein&QueryName=CSNK1G2&Query_Pid=CSNK1G2',\n",
    "                       'http://gemdock.life.nctu.edu.tw/kidfammap/show_inhibitor.php?QueryType=Protein&QueryName=CSNK1G3&Query_Pid=CSNK1G3',\n",
    "                       'http://gemdock.life.nctu.edu.tw/kidfammap/show_inhibitor.php?QueryType=Protein&QueryName=VRK1&Query_Pid=VRK1',\n",
    "                       'http://gemdock.life.nctu.edu.tw/kidfammap/show_inhibitor.php?QueryType=Protein&QueryName=CDK2&Query_Pid=CDK2',\n",
    "                       'http://gemdock.life.nctu.edu.tw/kidfammap/show_inhibitor.php?QueryType=Protein&QueryName=CDK5&Query_Pid=CDK5',\n",
    "                       'http://gemdock.life.nctu.edu.tw/kidfammap/show_inhibitor.php?QueryType=Protein&QueryName=CDK6&Query_Pid=CDK6',\n",
    "                       'http://gemdock.life.nctu.edu.tw/kidfammap/show_inhibitor.php?QueryType=Protein&QueryName=CDK7&Query_Pid=CDK7',\n",
    "                       'http://gemdock.life.nctu.edu.tw/kidfammap/show_inhibitor.php?QueryType=Protein&QueryName=CDK9&Query_Pid=CDK9',\n",
    "                       'http://gemdock.life.nctu.edu.tw/kidfammap/show_inhibitor.php?QueryType=Protein&QueryName=CLK1&Query_Pid=CLK1',\n",
    "                       'http://gemdock.life.nctu.edu.tw/kidfammap/show_inhibitor.php?QueryType=Protein&QueryName=CLK2&Query_Pid=CLK2',\n",
    "                       'http://gemdock.life.nctu.edu.tw/kidfammap/show_inhibitor.php?QueryType=Protein&QueryName=CLK3&Query_Pid=CLK3',\n",
    "                       'http://gemdock.life.nctu.edu.tw/kidfammap/show_inhibitor.php?QueryType=Protein&QueryName=CSNK2A1&Query_Pid=CSNK2A1',\n",
    "                       'http://gemdock.life.nctu.edu.tw/kidfammap/show_inhibitor.php?QueryType=Protein&QueryName=CSNK2A2&Query_Pid=CSNK2A2',\n",
    "                       'http://gemdock.life.nctu.edu.tw/kidfammap/show_inhibitor.php?QueryType=Protein&QueryName=DYRK1A&Query_Pid=DYRK1A',\n",
    "                       'http://gemdock.life.nctu.edu.tw/kidfammap/show_inhibitor.php?QueryType=Protein&QueryName=DYRK2&Query_Pid=DYRK2',\n",
    "                       'http://gemdock.life.nctu.edu.tw/kidfammap/show_inhibitor.php?QueryType=Protein&QueryName=GSK3B&Query_Pid=GSK3B',\n",
    "                       'http://gemdock.life.nctu.edu.tw/kidfammap/show_inhibitor.php?QueryType=Protein&QueryName=MAPK1&Query_Pid=MAPK1',\n",
    "                       'http://gemdock.life.nctu.edu.tw/kidfammap/show_inhibitor.php?QueryType=Protein&QueryName=MAPK10&Query_Pid=MAPK10',\n",
    "                       'http://gemdock.life.nctu.edu.tw/kidfammap/show_inhibitor.php?QueryType=Protein&QueryName=MAPK11&Query_Pid=MAPK11',\n",
    "                       'http://gemdock.life.nctu.edu.tw/kidfammap/show_inhibitor.php?QueryType=Protein&QueryName=MAPK12&Query_Pid=MAPK12',\n",
    "                       'http://gemdock.life.nctu.edu.tw/kidfammap/show_inhibitor.php?QueryType=Protein&QueryName=MAPK14&Query_Pid=MAPK14',\n",
    "                       'http://gemdock.life.nctu.edu.tw/kidfammap/show_inhibitor.php?QueryType=Protein&QueryName=MAPK3&Query_Pid=MAPK3',\n",
    "                       'http://gemdock.life.nctu.edu.tw/kidfammap/show_inhibitor.php?QueryType=Protein&QueryName=MAPK8&Query_Pid=MAPK8',\n",
    "                       'http://gemdock.life.nctu.edu.tw/kidfammap/show_inhibitor.php?QueryType=Protein&QueryName=MAPK9&Query_Pid=MAPK9',\n",
    "                       'http://gemdock.life.nctu.edu.tw/kidfammap/show_inhibitor.php?QueryType=Protein&QueryName=PCTK1&Query_Pid=PCTK1',\n",
    "                       'http://gemdock.life.nctu.edu.tw/kidfammap/show_inhibitor.php?QueryType=Protein&QueryName=SRPK1&Query_Pid=SRPK1',\n",
    "                       'http://gemdock.life.nctu.edu.tw/kidfammap/show_inhibitor.php?QueryType=Protein&QueryName=SRPK2&Query_Pid=SRPK2',\n",
    "                       'http://gemdock.life.nctu.edu.tw/kidfammap/show_inhibitor.php?QueryType=Protein&QueryName=AURKA&Query_Pid=AURKA',\n",
    "                       'http://gemdock.life.nctu.edu.tw/kidfammap/show_inhibitor.php?QueryType=Protein&QueryName=BUB1&Query_Pid=BUB1',\n",
    "                       'http://gemdock.life.nctu.edu.tw/kidfammap/show_inhibitor.php?QueryType=Protein&QueryName=CAMKK2&Query_Pid=CAMKK2',\n",
    "                       'http://gemdock.life.nctu.edu.tw/kidfammap/show_inhibitor.php?QueryType=Protein&QueryName=EIF2AK2&Query_Pid=EIF2AK2',\n",
    "                       'http://gemdock.life.nctu.edu.tw/kidfammap/show_inhibitor.php?QueryType=Protein&QueryName=ERN1&Query_Pid=ERN1',\n",
    "                       'http://gemdock.life.nctu.edu.tw/kidfammap/show_inhibitor.php?QueryType=Protein&QueryName=GSG2&Query_Pid=GSG2',\n",
    "                       'http://gemdock.life.nctu.edu.tw/kidfammap/show_inhibitor.php?QueryType=Protein&QueryName=NEK2&Query_Pid=NEK2',\n",
    "                       'http://gemdock.life.nctu.edu.tw/kidfammap/show_inhibitor.php?QueryType=Protein&QueryName=NEK7&Query_Pid=NEK7',\n",
    "                       'http://gemdock.life.nctu.edu.tw/kidfammap/show_inhibitor.php?QueryType=Protein&QueryName=PLK1&Query_Pid=PLK1',\n",
    "                       'http://gemdock.life.nctu.edu.tw/kidfammap/show_inhibitor.php?QueryType=Protein&QueryName=PLK4&Query_Pid=PLK4',\n",
    "                       'http://gemdock.life.nctu.edu.tw/kidfammap/show_inhibitor.php?QueryType=Protein&QueryName=STK16&Query_Pid=STK16',\n",
    "                       'http://gemdock.life.nctu.edu.tw/kidfammap/show_inhibitor.php?QueryType=Protein&QueryName=TTK&Query_Pid=TTK',\n",
    "                       'http://gemdock.life.nctu.edu.tw/kidfammap/show_inhibitor.php?QueryType=Protein&QueryName=WEE1&Query_Pid=WEE1',\n",
    "                       'http://gemdock.life.nctu.edu.tw/kidfammap/show_inhibitor.php?QueryType=Protein&QueryName=MAP2K1&Query_Pid=MAP2K1',\n",
    "                       'http://gemdock.life.nctu.edu.tw/kidfammap/show_inhibitor.php?QueryType=Protein&QueryName=MAP2K2&Query_Pid=MAP2K2',\n",
    "                       'http://gemdock.life.nctu.edu.tw/kidfammap/show_inhibitor.php?QueryType=Protein&QueryName=MAP2K4&Query_Pid=MAP2K4',\n",
    "                       'http://gemdock.life.nctu.edu.tw/kidfammap/show_inhibitor.php?QueryType=Protein&QueryName=MAP2K6&Query_Pid=MAP2K6',\n",
    "                       'http://gemdock.life.nctu.edu.tw/kidfammap/show_inhibitor.php?QueryType=Protein&QueryName=MST4&Query_Pid=MST4',\n",
    "                       'http://gemdock.life.nctu.edu.tw/kidfammap/show_inhibitor.php?QueryType=Protein&QueryName=OXSR1&Query_Pid=OXSR1',\n",
    "                       'http://gemdock.life.nctu.edu.tw/kidfammap/show_inhibitor.php?QueryType=Protein&QueryName=PAK1&Query_Pid=PAK1',\n",
    "                       'http://gemdock.life.nctu.edu.tw/kidfammap/show_inhibitor.php?QueryType=Protein&QueryName=PAK4&Query_Pid=PAK4',\n",
    "                       'http://gemdock.life.nctu.edu.tw/kidfammap/show_inhibitor.php?QueryType=Protein&QueryName=PAK7&Query_Pid=PAK7',\n",
    "                       'http://gemdock.life.nctu.edu.tw/kidfammap/show_inhibitor.php?QueryType=Protein&QueryName=SLK&Query_Pid=SLK',\n",
    "                       'http://gemdock.life.nctu.edu.tw/kidfammap/show_inhibitor.php?QueryType=Protein&QueryName=STK10&Query_Pid=STK10',\n",
    "                       'http://gemdock.life.nctu.edu.tw/kidfammap/show_inhibitor.php?QueryType=Protein&QueryName=STK24&Query_Pid=STK24',\n",
    "                       'http://gemdock.life.nctu.edu.tw/kidfammap/show_inhibitor.php?QueryType=Protein&QueryName=STK25&Query_Pid=STK25',\n",
    "                       'http://gemdock.life.nctu.edu.tw/kidfammap/show_inhibitor.php?QueryType=Protein&QueryName=STRADA&Query_Pid=STRADA',\n",
    "                       'http://gemdock.life.nctu.edu.tw/kidfammap/show_inhibitor.php?QueryType=Protein&QueryName=TNIK&Query_Pid=TNIK',\n",
    "                       'http://gemdock.life.nctu.edu.tw/kidfammap/show_inhibitor.php?QueryType=Protein&QueryName=ABL1&Query_Pid=ABL1',\n",
    "                       'http://gemdock.life.nctu.edu.tw/kidfammap/show_inhibitor.php?QueryType=Protein&QueryName=ABL2&Query_Pid=ABL2',\n",
    "                       'http://gemdock.life.nctu.edu.tw/kidfammap/show_inhibitor.php?QueryType=Protein&QueryName=ALK&Query_Pid=ALK',\n",
    "                       'http://gemdock.life.nctu.edu.tw/kidfammap/show_inhibitor.php?QueryType=Protein&QueryName=BTK&Query_Pid=BTK',\n",
    "                       'http://gemdock.life.nctu.edu.tw/kidfammap/show_inhibitor.php?QueryType=Protein&QueryName=CSF1R&Query_Pid=CSF1R',\n",
    "                       'http://gemdock.life.nctu.edu.tw/kidfammap/show_inhibitor.php?QueryType=Protein&QueryName=CSK&Query_Pid=CSK',\n",
    "                       'http://gemdock.life.nctu.edu.tw/kidfammap/show_inhibitor.php?QueryType=Protein&QueryName=EGFR&Query_Pid=EGFR',\n",
    "                       'http://gemdock.life.nctu.edu.tw/kidfammap/show_inhibitor.php?QueryType=Protein&QueryName=EPHA2&Query_Pid=EPHA2',\n",
    "                       'http://gemdock.life.nctu.edu.tw/kidfammap/show_inhibitor.php?QueryType=Protein&QueryName=EPHA3&Query_Pid=EPHA3',\n",
    "                       'http://gemdock.life.nctu.edu.tw/kidfammap/show_inhibitor.php?QueryType=Protein&QueryName=EPHA7&Query_Pid=EPHA7',\n",
    "                       'http://gemdock.life.nctu.edu.tw/kidfammap/show_inhibitor.php?QueryType=Protein&QueryName=EPHB4&Query_Pid=EPHB4',\n",
    "                       'http://gemdock.life.nctu.edu.tw/kidfammap/show_inhibitor.php?QueryType=Protein&QueryName=ERBB2&Query_Pid=ERBB2',\n",
    "                       'http://gemdock.life.nctu.edu.tw/kidfammap/show_inhibitor.php?QueryType=Protein&QueryName=ERBB3&Query_Pid=ERBB3',\n",
    "                       'http://gemdock.life.nctu.edu.tw/kidfammap/show_inhibitor.php?QueryType=Protein&QueryName=ERBB4&Query_Pid=ERBB4',\n",
    "                       'http://gemdock.life.nctu.edu.tw/kidfammap/show_inhibitor.php?QueryType=Protein&QueryName=FES&Query_Pid=FES',\n",
    "                       'http://gemdock.life.nctu.edu.tw/kidfammap/show_inhibitor.php?QueryType=Protein&QueryName=FGFR1&Query_Pid=FGFR1',\n",
    "                       'http://gemdock.life.nctu.edu.tw/kidfammap/show_inhibitor.php?QueryType=Protein&QueryName=FGFR2&Query_Pid=FGFR2',\n",
    "                       'http://gemdock.life.nctu.edu.tw/kidfammap/show_inhibitor.php?QueryType=Protein&QueryName=FLT1&Query_Pid=FLT1',\n",
    "                       'http://gemdock.life.nctu.edu.tw/kidfammap/show_inhibitor.php?QueryType=Protein&QueryName=FYN&Query_Pid=FYN',\n",
    "                       'http://gemdock.life.nctu.edu.tw/kidfammap/show_inhibitor.php?QueryType=Protein&QueryName=HCK&Query_Pid=HCK',\n",
    "                       'http://gemdock.life.nctu.edu.tw/kidfammap/show_inhibitor.php?QueryType=Protein&QueryName=IGF1R&Query_Pid=IGF1R',\n",
    "                       'http://gemdock.life.nctu.edu.tw/kidfammap/show_inhibitor.php?QueryType=Protein&QueryName=INSR&Query_Pid=INSR',\n",
    "                       'http://gemdock.life.nctu.edu.tw/kidfammap/show_inhibitor.php?QueryType=Protein&QueryName=ITK&Query_Pid=ITK',\n",
    "                       'http://gemdock.life.nctu.edu.tw/kidfammap/show_inhibitor.php?QueryType=Protein&QueryName=JAK1&Query_Pid=JAK1',\n",
    "                       'http://gemdock.life.nctu.edu.tw/kidfammap/show_inhibitor.php?QueryType=Protein&QueryName=JAK2&Query_Pid=JAK2',\n",
    "                       'http://gemdock.life.nctu.edu.tw/kidfammap/show_inhibitor.php?QueryType=Protein&QueryName=JAK3&Query_Pid=JAK3',\n",
    "                       'http://gemdock.life.nctu.edu.tw/kidfammap/show_inhibitor.php?QueryType=Protein&QueryName=KDR&Query_Pid=KDR',\n",
    "                       'http://gemdock.life.nctu.edu.tw/kidfammap/show_inhibitor.php?QueryType=Protein&QueryName=KIT&Query_Pid=KIT',\n",
    "                       'http://gemdock.life.nctu.edu.tw/kidfammap/show_inhibitor.php?QueryType=Protein&QueryName=LCK&Query_Pid=LCK',\n",
    "                       'http://gemdock.life.nctu.edu.tw/kidfammap/show_inhibitor.php?QueryType=Protein&QueryName=LYN&Query_Pid=LYN',\n",
    "                       'http://gemdock.life.nctu.edu.tw/kidfammap/show_inhibitor.php?QueryType=Protein&QueryName=MERTK&Query_Pid=MERTK',\n",
    "                       'http://gemdock.life.nctu.edu.tw/kidfammap/show_inhibitor.php?QueryType=Protein&QueryName=MET&Query_Pid=MET',\n",
    "                       'http://gemdock.life.nctu.edu.tw/kidfammap/show_inhibitor.php?QueryType=Protein&QueryName=MST1R&Query_Pid=MST1R',\n",
    "                       'http://gemdock.life.nctu.edu.tw/kidfammap/show_inhibitor.php?QueryType=Protein&QueryName=PTK2&Query_Pid=PTK2',\n",
    "                       'http://gemdock.life.nctu.edu.tw/kidfammap/show_inhibitor.php?QueryType=Protein&QueryName=PTK2B&Query_Pid=PTK2B',\n",
    "                       'http://gemdock.life.nctu.edu.tw/kidfammap/show_inhibitor.php?QueryType=Protein&QueryName=RET&Query_Pid=RET',\n",
    "                       'http://gemdock.life.nctu.edu.tw/kidfammap/show_inhibitor.php?QueryType=Protein&QueryName=SRC&Query_Pid=SRC',\n",
    "                       'http://gemdock.life.nctu.edu.tw/kidfammap/show_inhibitor.php?QueryType=Protein&QueryName=SYK&Query_Pid=SYK',\n",
    "                       'http://gemdock.life.nctu.edu.tw/kidfammap/show_inhibitor.php?QueryType=Protein&QueryName=TEK&Query_Pid=TEK',\n",
    "                       'http://gemdock.life.nctu.edu.tw/kidfammap/show_inhibitor.php?QueryType=Protein&QueryName=TNK2&Query_Pid=TNK2',\n",
    "                       'http://gemdock.life.nctu.edu.tw/kidfammap/show_inhibitor.php?QueryType=Protein&QueryName=TYK2&Query_Pid=TYK2',\n",
    "                       'http://gemdock.life.nctu.edu.tw/kidfammap/show_inhibitor.php?QueryType=Protein&QueryName=ZAP70&Query_Pid=ZAP70',\n",
    "                       'http://gemdock.life.nctu.edu.tw/kidfammap/show_inhibitor.php?QueryType=Protein&QueryName=ACVR1&Query_Pid=ACVR1',\n",
    "                       'http://gemdock.life.nctu.edu.tw/kidfammap/show_inhibitor.php?QueryType=Protein&QueryName=ACVR2A&Query_Pid=ACVR2A',\n",
    "                       'http://gemdock.life.nctu.edu.tw/kidfammap/show_inhibitor.php?QueryType=Protein&QueryName=ACVRL1&Query_Pid=ACVRL1',\n",
    "                       'http://gemdock.life.nctu.edu.tw/kidfammap/show_inhibitor.php?QueryType=Protein&QueryName=BMPR1B&Query_Pid=BMPR1B',\n",
    "                       'http://gemdock.life.nctu.edu.tw/kidfammap/show_inhibitor.php?QueryType=Protein&QueryName=BMPR2&Query_Pid=BMPR2',\n",
    "                       'http://gemdock.life.nctu.edu.tw/kidfammap/show_inhibitor.php?QueryType=Protein&QueryName=BRAF&Query_Pid=BRAF',\n",
    "                       'http://gemdock.life.nctu.edu.tw/kidfammap/show_inhibitor.php?QueryType=Protein&QueryName=ILK&Query_Pid=ILK',\n",
    "                       'http://gemdock.life.nctu.edu.tw/kidfammap/show_inhibitor.php?QueryType=Protein&QueryName=IRAK4&Query_Pid=IRAK4',\n",
    "                       'http://gemdock.life.nctu.edu.tw/kidfammap/show_inhibitor.php?QueryType=Protein&QueryName=KSR2&Query_Pid=KSR2',\n",
    "                       'http://gemdock.life.nctu.edu.tw/kidfammap/show_inhibitor.php?QueryType=Protein&QueryName=MAP3K7&Query_Pid=MAP3K7',\n",
    "                       'http://gemdock.life.nctu.edu.tw/kidfammap/show_inhibitor.php?QueryType=Protein&QueryName=MAP3K9&Query_Pid=MAP3K9',\n",
    "                       'http://gemdock.life.nctu.edu.tw/kidfammap/show_inhibitor.php?QueryType=Protein&QueryName=RAF1&Query_Pid=RAF1',\n",
    "                       'http://gemdock.life.nctu.edu.tw/kidfammap/show_inhibitor.php?QueryType=Protein&QueryName=TGFBR1&Query_Pid=TGFBR1',\n",
    "                       'http://gemdock.life.nctu.edu.tw/kidfammap/show_inhibitor.php?QueryType=Protein&QueryName=ADRBK2&Query_Pid=ADRBK2',\n",
    "                       'http://gemdock.life.nctu.edu.tw/kidfammap/show_inhibitor.php?QueryType=Protein&QueryName=AKT3&Query_Pid=AKT3',\n",
    "                       'http://gemdock.life.nctu.edu.tw/kidfammap/show_inhibitor.php?QueryType=Protein&QueryName=CDC42BPA&Query_Pid=CDC42BPA',\n",
    "                       'http://gemdock.life.nctu.edu.tw/kidfammap/show_inhibitor.php?QueryType=Protein&QueryName=CDC42BPB&Query_Pid=CDC42BPB',\n",
    "                       'http://gemdock.life.nctu.edu.tw/kidfammap/show_inhibitor.php?QueryType=Protein&QueryName=CDC42BPG&Query_Pid=CDC42BPG',\n",
    "                       'http://gemdock.life.nctu.edu.tw/kidfammap/show_inhibitor.php?QueryType=Protein&QueryName=CIT&Query_Pid=CIT',\n",
    "                       'http://gemdock.life.nctu.edu.tw/kidfammap/show_inhibitor.php?QueryType=Protein&QueryName=FLJ25006&Query_Pid=FLJ25006',\n",
    "                       'http://gemdock.life.nctu.edu.tw/kidfammap/show_inhibitor.php?QueryType=Protein&QueryName=GRK1&Query_Pid=GRK1',\n",
    "                       'http://gemdock.life.nctu.edu.tw/kidfammap/show_inhibitor.php?QueryType=Protein&QueryName=GRK4&Query_Pid=GRK4',\n",
    "                       'http://gemdock.life.nctu.edu.tw/kidfammap/show_inhibitor.php?QueryType=Protein&QueryName=GRK5&Query_Pid=GRK5',\n",
    "                       'http://gemdock.life.nctu.edu.tw/kidfammap/show_inhibitor.php?QueryType=Protein&QueryName=GRK7&Query_Pid=GRK7',\n",
    "                       'http://gemdock.life.nctu.edu.tw/kidfammap/show_inhibitor.php?QueryType=Protein&QueryName=LOC375449&Query_Pid=LOC375449',\n",
    "                       'http://gemdock.life.nctu.edu.tw/kidfammap/show_inhibitor.php?QueryType=Protein&QueryName=MAST1&Query_Pid=MAST1',\n",
    "                       'http://gemdock.life.nctu.edu.tw/kidfammap/show_inhibitor.php?QueryType=Protein&QueryName=MAST2&Query_Pid=MAST2',\n",
    "                       'http://gemdock.life.nctu.edu.tw/kidfammap/show_inhibitor.php?QueryType=Protein&QueryName=MAST3&Query_Pid=MAST3',\n",
    "                       'http://gemdock.life.nctu.edu.tw/kidfammap/show_inhibitor.php?QueryType=Protein&QueryName=PKN1&Query_Pid=PKN1',\n",
    "                       'http://gemdock.life.nctu.edu.tw/kidfammap/show_inhibitor.php?QueryType=Protein&QueryName=PKN2&Query_Pid=PKN2',\n",
    "                       'http://gemdock.life.nctu.edu.tw/kidfammap/show_inhibitor.php?QueryType=Protein&QueryName=PKN3&Query_Pid=PKN3',\n",
    "                       'http://gemdock.life.nctu.edu.tw/kidfammap/show_inhibitor.php?QueryType=Protein&QueryName=PRKACB&Query_Pid=PRKACB',\n",
    "                       'http://gemdock.life.nctu.edu.tw/kidfammap/show_inhibitor.php?QueryType=Protein&QueryName=PRKACG&Query_Pid=PRKACG',\n",
    "                       'http://gemdock.life.nctu.edu.tw/kidfammap/show_inhibitor.php?QueryType=Protein&QueryName=PRKCD&Query_Pid=PRKCD',\n",
    "                       'http://gemdock.life.nctu.edu.tw/kidfammap/show_inhibitor.php?QueryType=Protein&QueryName=PRKCE&Query_Pid=PRKCE',\n",
    "                       'http://gemdock.life.nctu.edu.tw/kidfammap/show_inhibitor.php?QueryType=Protein&QueryName=PRKCG&Query_Pid=PRKCG',\n",
    "                       'http://gemdock.life.nctu.edu.tw/kidfammap/show_inhibitor.php?QueryType=Protein&QueryName=PRKCH&Query_Pid=PRKCH',\n",
    "                       'http://gemdock.life.nctu.edu.tw/kidfammap/show_inhibitor.php?QueryType=Protein&QueryName=PRKCZ&Query_Pid=PRKCZ',\n",
    "                       'http://gemdock.life.nctu.edu.tw/kidfammap/show_inhibitor.php?QueryType=Protein&QueryName=PRKG1&Query_Pid=PRKG1',\n",
    "                       'http://gemdock.life.nctu.edu.tw/kidfammap/show_inhibitor.php?QueryType=Protein&QueryName=PRKG2&Query_Pid=PRKG2',\n",
    "                       'http://gemdock.life.nctu.edu.tw/kidfammap/show_inhibitor.php?QueryType=Protein&QueryName=PRKX&Query_Pid=PRKX',\n",
    "                       'http://gemdock.life.nctu.edu.tw/kidfammap/show_inhibitor.php?QueryType=Protein&QueryName=PRKY&Query_Pid=PRKY',\n",
    "                       'http://gemdock.life.nctu.edu.tw/kidfammap/show_inhibitor.php?QueryType=Protein&QueryName=ROCK2&Query_Pid=ROCK2',\n",
    "                       'http://gemdock.life.nctu.edu.tw/kidfammap/show_inhibitor.php?QueryType=Protein&QueryName=RPS6KA2&Query_Pid=RPS6KA2',\n",
    "                       'http://gemdock.life.nctu.edu.tw/kidfammap/show_inhibitor.php?QueryType=Protein&QueryName=RPS6KA3&Query_Pid=RPS6KA3',\n",
    "                       'http://gemdock.life.nctu.edu.tw/kidfammap/show_inhibitor.php?QueryType=Protein&QueryName=RPS6KA4&Query_Pid=RPS6KA4',\n",
    "                       'http://gemdock.life.nctu.edu.tw/kidfammap/show_inhibitor.php?QueryType=Protein&QueryName=RPS6KA6&Query_Pid=RPS6KA6',\n",
    "                       'http://gemdock.life.nctu.edu.tw/kidfammap/show_inhibitor.php?QueryType=Protein&QueryName=SGK2&Query_Pid=SGK2',\n",
    "                       'http://gemdock.life.nctu.edu.tw/kidfammap/show_inhibitor.php?QueryType=Protein&QueryName=SGK3&Query_Pid=SGK3',\n",
    "                       'http://gemdock.life.nctu.edu.tw/kidfammap/show_inhibitor.php?QueryType=Protein&QueryName=STK32A&Query_Pid=STK32A',\n",
    "                       'http://gemdock.life.nctu.edu.tw/kidfammap/show_inhibitor.php?QueryType=Protein&QueryName=STK32B&Query_Pid=STK32B',\n",
    "                       'http://gemdock.life.nctu.edu.tw/kidfammap/show_inhibitor.php?QueryType=Protein&QueryName=STK32C&Query_Pid=STK32C',\n",
    "                       'http://gemdock.life.nctu.edu.tw/kidfammap/show_inhibitor.php?QueryType=Protein&QueryName=STK38&Query_Pid=STK38',\n",
    "                       'http://gemdock.life.nctu.edu.tw/kidfammap/show_inhibitor.php?QueryType=Protein&QueryName=STK38L&Query_Pid=STK38L',\n",
    "                       'http://gemdock.life.nctu.edu.tw/kidfammap/show_inhibitor.php?QueryType=Protein&QueryName=CAMK1&Query_Pid=CAMK1',\n",
    "                       'http://gemdock.life.nctu.edu.tw/kidfammap/show_inhibitor.php?QueryType=Protein&QueryName=CAMKV&Query_Pid=CAMKV',\n",
    "                       'http://gemdock.life.nctu.edu.tw/kidfammap/show_inhibitor.php?QueryType=Protein&QueryName=DCLK1&Query_Pid=DCLK1',\n",
    "                       'http://gemdock.life.nctu.edu.tw/kidfammap/show_inhibitor.php?QueryType=Protein&QueryName=DCLK2&Query_Pid=DCLK2',\n",
    "                       'http://gemdock.life.nctu.edu.tw/kidfammap/show_inhibitor.php?QueryType=Protein&QueryName=DCLK3&Query_Pid=DCLK3',\n",
    "                       'http://gemdock.life.nctu.edu.tw/kidfammap/show_inhibitor.php?QueryType=Protein&QueryName=KALRN&Query_Pid=KALRN',\n",
    "                       'http://gemdock.life.nctu.edu.tw/kidfammap/show_inhibitor.php?QueryType=Protein&QueryName=LOC729871&Query_Pid=LOC729871',\n",
    "                       'http://gemdock.life.nctu.edu.tw/kidfammap/show_inhibitor.php?QueryType=Protein&QueryName=MELK&Query_Pid=MELK',\n",
    "                       'http://gemdock.life.nctu.edu.tw/kidfammap/show_inhibitor.php?QueryType=Protein&QueryName=MYLK&Query_Pid=MYLK',\n",
    "                       'http://gemdock.life.nctu.edu.tw/kidfammap/show_inhibitor.php?QueryType=Protein&QueryName=MYLK2&Query_Pid=MYLK2',\n",
    "                       'http://gemdock.life.nctu.edu.tw/kidfammap/show_inhibitor.php?QueryType=Protein&QueryName=MYLK3&Query_Pid=MYLK3',\n",
    "                       'http://gemdock.life.nctu.edu.tw/kidfammap/show_inhibitor.php?QueryType=Protein&QueryName=OBSCN&Query_Pid=OBSCN',\n",
    "                       'http://gemdock.life.nctu.edu.tw/kidfammap/show_inhibitor.php?QueryType=Protein&QueryName=PIM3&Query_Pid=PIM3',\n",
    "                       'http://gemdock.life.nctu.edu.tw/kidfammap/show_inhibitor.php?QueryType=Protein&QueryName=PNCK&Query_Pid=PNCK',\n",
    "                       'http://gemdock.life.nctu.edu.tw/kidfammap/show_inhibitor.php?QueryType=Protein&QueryName=PRKAA1&Query_Pid=PRKAA1',\n",
    "                       'http://gemdock.life.nctu.edu.tw/kidfammap/show_inhibitor.php?QueryType=Protein&QueryName=PRKD1&Query_Pid=PRKD1',\n",
    "                       'http://gemdock.life.nctu.edu.tw/kidfammap/show_inhibitor.php?QueryType=Protein&QueryName=PRKD2&Query_Pid=PRKD2',\n",
    "                       'http://gemdock.life.nctu.edu.tw/kidfammap/show_inhibitor.php?QueryType=Protein&QueryName=PRKD3&Query_Pid=PRKD3',\n",
    "                       'http://gemdock.life.nctu.edu.tw/kidfammap/show_inhibitor.php?QueryType=Protein&QueryName=PSKH1&Query_Pid=PSKH1',\n",
    "                       'http://gemdock.life.nctu.edu.tw/kidfammap/show_inhibitor.php?QueryType=Protein&QueryName=PSKH2&Query_Pid=PSKH2',\n",
    "                       'http://gemdock.life.nctu.edu.tw/kidfammap/show_inhibitor.php?QueryType=Protein&QueryName=STK17A&Query_Pid=STK17A',\n",
    "                       'http://gemdock.life.nctu.edu.tw/kidfammap/show_inhibitor.php?QueryType=Protein&QueryName=STK33&Query_Pid=STK33',\n",
    "                       'http://gemdock.life.nctu.edu.tw/kidfammap/show_inhibitor.php?QueryType=Protein&QueryName=TRIO&Query_Pid=TRIO',\n",
    "                       'http://gemdock.life.nctu.edu.tw/kidfammap/show_inhibitor.php?QueryType=Protein&QueryName=CSNK1A1&Query_Pid=CSNK1A1',\n",
    "                       'http://gemdock.life.nctu.edu.tw/kidfammap/show_inhibitor.php?QueryType=Protein&QueryName=CSNK1A1L&Query_Pid=CSNK1A1L',\n",
    "                       'http://gemdock.life.nctu.edu.tw/kidfammap/show_inhibitor.php?QueryType=Protein&QueryName=CSNK1D&Query_Pid=CSNK1D',\n",
    "                       'http://gemdock.life.nctu.edu.tw/kidfammap/show_inhibitor.php?QueryType=Protein&QueryName=CSNK1E&Query_Pid=CSNK1E',\n",
    "                       'http://gemdock.life.nctu.edu.tw/kidfammap/show_inhibitor.php?QueryType=Protein&QueryName=CCRK&Query_Pid=CCRK',\n",
    "                       'http://gemdock.life.nctu.edu.tw/kidfammap/show_inhibitor.php?QueryType=Protein&QueryName=CDC2&Query_Pid=CDC2',\n",
    "                       'http://gemdock.life.nctu.edu.tw/kidfammap/show_inhibitor.php?QueryType=Protein&QueryName=CDC2L5&Query_Pid=CDC2L5',\n",
    "                       'http://gemdock.life.nctu.edu.tw/kidfammap/show_inhibitor.php?QueryType=Protein&QueryName=CDC2L6&Query_Pid=CDC2L6',\n",
    "                       'http://gemdock.life.nctu.edu.tw/kidfammap/show_inhibitor.php?QueryType=Protein&QueryName=CDK10&Query_Pid=CDK10',\n",
    "                       'http://gemdock.life.nctu.edu.tw/kidfammap/show_inhibitor.php?QueryType=Protein&QueryName=CDK11A&Query_Pid=CDK11A',\n",
    "                       'http://gemdock.life.nctu.edu.tw/kidfammap/show_inhibitor.php?QueryType=Protein&QueryName=CDK15&Query_Pid=CDK15',\n",
    "                       'http://gemdock.life.nctu.edu.tw/kidfammap/show_inhibitor.php?QueryType=Protein&QueryName=CDK3&Query_Pid=CDK3',\n",
    "                       'http://gemdock.life.nctu.edu.tw/kidfammap/show_inhibitor.php?QueryType=Protein&QueryName=CDK8&Query_Pid=CDK8',\n",
    "                       'http://gemdock.life.nctu.edu.tw/kidfammap/show_inhibitor.php?QueryType=Protein&QueryName=CDKL1&Query_Pid=CDKL1',\n",
    "                       'http://gemdock.life.nctu.edu.tw/kidfammap/show_inhibitor.php?QueryType=Protein&QueryName=CDKL2&Query_Pid=CDKL2',\n",
    "                       'http://gemdock.life.nctu.edu.tw/kidfammap/show_inhibitor.php?QueryType=Protein&QueryName=CDKL3&Query_Pid=CDKL3',\n",
    "                       'http://gemdock.life.nctu.edu.tw/kidfammap/show_inhibitor.php?QueryType=Protein&QueryName=CDKL4&Query_Pid=CDKL4',\n",
    "                       'http://gemdock.life.nctu.edu.tw/kidfammap/show_inhibitor.php?QueryType=Protein&QueryName=CDKL5&Query_Pid=CDKL5',\n",
    "                       'http://gemdock.life.nctu.edu.tw/kidfammap/show_inhibitor.php?QueryType=Protein&QueryName=CLK4&Query_Pid=CLK4',\n",
    "                       'http://gemdock.life.nctu.edu.tw/kidfammap/show_inhibitor.php?QueryType=Protein&QueryName=CRKRS&Query_Pid=CRKRS',\n",
    "                       'http://gemdock.life.nctu.edu.tw/kidfammap/show_inhibitor.php?QueryType=Protein&QueryName=DYRK1B&Query_Pid=DYRK1B',\n",
    "                       'http://gemdock.life.nctu.edu.tw/kidfammap/show_inhibitor.php?QueryType=Protein&QueryName=DYRK3&Query_Pid=DYRK3',\n",
    "                       'http://gemdock.life.nctu.edu.tw/kidfammap/show_inhibitor.php?QueryType=Protein&QueryName=DYRK4&Query_Pid=DYRK4',\n",
    "                       'http://gemdock.life.nctu.edu.tw/kidfammap/show_inhibitor.php?QueryType=Protein&QueryName=GSK3A&Query_Pid=GSK3A',\n",
    "                       'http://gemdock.life.nctu.edu.tw/kidfammap/show_inhibitor.php?QueryType=Protein&QueryName=HIPK1&Query_Pid=HIPK1',\n",
    "                       'http://gemdock.life.nctu.edu.tw/kidfammap/show_inhibitor.php?QueryType=Protein&QueryName=HIPK2&Query_Pid=HIPK2',\n",
    "                       'http://gemdock.life.nctu.edu.tw/kidfammap/show_inhibitor.php?QueryType=Protein&QueryName=HIPK3&Query_Pid=HIPK3',\n",
    "                       'http://gemdock.life.nctu.edu.tw/kidfammap/show_inhibitor.php?QueryType=Protein&QueryName=HIPK4&Query_Pid=HIPK4',\n",
    "                       'http://gemdock.life.nctu.edu.tw/kidfammap/show_inhibitor.php?QueryType=Protein&QueryName=ICK&Query_Pid=ICK',\n",
    "                       'http://gemdock.life.nctu.edu.tw/kidfammap/show_inhibitor.php?QueryType=Protein&QueryName=MAK&Query_Pid=MAK',\n",
    "                       'http://gemdock.life.nctu.edu.tw/kidfammap/show_inhibitor.php?QueryType=Protein&QueryName=MAPK15&Query_Pid=MAPK15',\n",
    "                       'http://gemdock.life.nctu.edu.tw/kidfammap/show_inhibitor.php?QueryType=Protein&QueryName=MAPK7&Query_Pid=MAPK7',\n",
    "                       'http://gemdock.life.nctu.edu.tw/kidfammap/show_inhibitor.php?QueryType=Protein&QueryName=NLK&Query_Pid=NLK',\n",
    "                       'http://gemdock.life.nctu.edu.tw/kidfammap/show_inhibitor.php?QueryType=Protein&QueryName=PCTK2&Query_Pid=PCTK2',\n",
    "                       'http://gemdock.life.nctu.edu.tw/kidfammap/show_inhibitor.php?QueryType=Protein&QueryName=PCTK3&Query_Pid=PCTK3',\n",
    "                       'http://gemdock.life.nctu.edu.tw/kidfammap/show_inhibitor.php?QueryType=Protein&QueryName=PFTK1&Query_Pid=PFTK1',\n",
    "                       'http://gemdock.life.nctu.edu.tw/kidfammap/show_inhibitor.php?QueryType=Protein&QueryName=PRPF4B&Query_Pid=PRPF4B',\n",
    "                       'http://gemdock.life.nctu.edu.tw/kidfammap/show_inhibitor.php?QueryType=Protein&QueryName=RAGE&Query_Pid=RAGE',\n",
    "                       'http://gemdock.life.nctu.edu.tw/kidfammap/show_inhibitor.php?QueryType=Protein&QueryName=SRPK3&Query_Pid=SRPK3',\n",
    "                       'http://gemdock.life.nctu.edu.tw/kidfammap/show_inhibitor.php?QueryType=Protein&QueryName=AURKB&Query_Pid=AURKB',\n",
    "                       'http://gemdock.life.nctu.edu.tw/kidfammap/show_inhibitor.php?QueryType=Protein&QueryName=AURKC&Query_Pid=AURKC',\n",
    "                       'http://gemdock.life.nctu.edu.tw/kidfammap/show_inhibitor.php?QueryType=Protein&QueryName=CAMKK1&Query_Pid=CAMKK1',\n",
    "                       'http://gemdock.life.nctu.edu.tw/kidfammap/show_inhibitor.php?QueryType=Protein&QueryName=ERN2&Query_Pid=ERN2',\n",
    "                       'http://gemdock.life.nctu.edu.tw/kidfammap/show_inhibitor.php?QueryType=Protein&QueryName=NEK1&Query_Pid=NEK1',\n",
    "                       'http://gemdock.life.nctu.edu.tw/kidfammap/show_inhibitor.php?QueryType=Protein&QueryName=NEK10&Query_Pid=NEK10',\n",
    "                       'http://gemdock.life.nctu.edu.tw/kidfammap/show_inhibitor.php?QueryType=Protein&QueryName=NEK11&Query_Pid=NEK11',\n",
    "                       'http://gemdock.life.nctu.edu.tw/kidfammap/show_inhibitor.php?QueryType=Protein&QueryName=NEK3&Query_Pid=NEK3',\n",
    "                       'http://gemdock.life.nctu.edu.tw/kidfammap/show_inhibitor.php?QueryType=Protein&QueryName=NEK4&Query_Pid=NEK4',\n",
    "                       'http://gemdock.life.nctu.edu.tw/kidfammap/show_inhibitor.php?QueryType=Protein&QueryName=NEK5&Query_Pid=NEK5',\n",
    "                       'http://gemdock.life.nctu.edu.tw/kidfammap/show_inhibitor.php?QueryType=Protein&QueryName=NEK6&Query_Pid=NEK6',\n",
    "                       'http://gemdock.life.nctu.edu.tw/kidfammap/show_inhibitor.php?QueryType=Protein&QueryName=NEK8&Query_Pid=NEK8',\n",
    "                       'http://gemdock.life.nctu.edu.tw/kidfammap/show_inhibitor.php?QueryType=Protein&QueryName=NEK9&Query_Pid=NEK9',\n",
    "                       'http://gemdock.life.nctu.edu.tw/kidfammap/show_inhibitor.php?QueryType=Protein&QueryName=PLK2&Query_Pid=PLK2',\n",
    "                       'http://gemdock.life.nctu.edu.tw/kidfammap/show_inhibitor.php?QueryType=Protein&QueryName=PLK3&Query_Pid=PLK3',\n",
    "                       'http://gemdock.life.nctu.edu.tw/kidfammap/show_inhibitor.php?QueryType=Protein&QueryName=STK36&Query_Pid=STK36',\n",
    "                       'http://gemdock.life.nctu.edu.tw/kidfammap/show_inhibitor.php?QueryType=Protein&QueryName=ULK2&Query_Pid=ULK2',\n",
    "                       'http://gemdock.life.nctu.edu.tw/kidfammap/show_inhibitor.php?QueryType=Protein&QueryName=ULK3&Query_Pid=ULK3',\n",
    "                       'http://gemdock.life.nctu.edu.tw/kidfammap/show_inhibitor.php?QueryType=Protein&QueryName=WEE2&Query_Pid=WEE2',\n",
    "                       'http://gemdock.life.nctu.edu.tw/kidfammap/show_inhibitor.php?QueryType=Protein&QueryName=ALS2CR2&Query_Pid=ALS2CR2',\n",
    "                       'http://gemdock.life.nctu.edu.tw/kidfammap/show_inhibitor.php?QueryType=Protein&QueryName=MAP2K3&Query_Pid=MAP2K3',\n",
    "                       'http://gemdock.life.nctu.edu.tw/kidfammap/show_inhibitor.php?QueryType=Protein&QueryName=MAP2K5&Query_Pid=MAP2K5',\n",
    "                       'http://gemdock.life.nctu.edu.tw/kidfammap/show_inhibitor.php?QueryType=Protein&QueryName=MAP4K3&Query_Pid=MAP4K3',\n",
    "                       'http://gemdock.life.nctu.edu.tw/kidfammap/show_inhibitor.php?QueryType=Protein&QueryName=MAP4K4&Query_Pid=MAP4K4',\n",
    "                       'http://gemdock.life.nctu.edu.tw/kidfammap/show_inhibitor.php?QueryType=Protein&QueryName=MAP4K5&Query_Pid=MAP4K5',\n",
    "                       'http://gemdock.life.nctu.edu.tw/kidfammap/show_inhibitor.php?QueryType=Protein&QueryName=MINK1&Query_Pid=MINK1',\n",
    "                       'http://gemdock.life.nctu.edu.tw/kidfammap/show_inhibitor.php?QueryType=Protein&QueryName=MYO3A&Query_Pid=MYO3A',\n",
    "                       'http://gemdock.life.nctu.edu.tw/kidfammap/show_inhibitor.php?QueryType=Protein&QueryName=MYO3B&Query_Pid=MYO3B',\n",
    "                       'http://gemdock.life.nctu.edu.tw/kidfammap/show_inhibitor.php?QueryType=Protein&QueryName=NRK&Query_Pid=NRK',\n",
    "                       'http://gemdock.life.nctu.edu.tw/kidfammap/show_inhibitor.php?QueryType=Protein&QueryName=PAK2&Query_Pid=PAK2',\n",
    "                       'http://gemdock.life.nctu.edu.tw/kidfammap/show_inhibitor.php?QueryType=Protein&QueryName=PAK3&Query_Pid=PAK3',\n",
    "                       'http://gemdock.life.nctu.edu.tw/kidfammap/show_inhibitor.php?QueryType=Protein&QueryName=STK39&Query_Pid=STK39',\n",
    "                       'http://gemdock.life.nctu.edu.tw/kidfammap/show_inhibitor.php?QueryType=Protein&QueryName=AATK&Query_Pid=AATK',\n",
    "                       'http://gemdock.life.nctu.edu.tw/kidfammap/show_inhibitor.php?QueryType=Protein&QueryName=AXL&Query_Pid=AXL',\n",
    "                       'http://gemdock.life.nctu.edu.tw/kidfammap/show_inhibitor.php?QueryType=Protein&QueryName=BLK&Query_Pid=BLK',\n",
    "                       'http://gemdock.life.nctu.edu.tw/kidfammap/show_inhibitor.php?QueryType=Protein&QueryName=BMX&Query_Pid=BMX',\n",
    "                       'http://gemdock.life.nctu.edu.tw/kidfammap/show_inhibitor.php?QueryType=Protein&QueryName=DDR1&Query_Pid=DDR1',\n",
    "                       'http://gemdock.life.nctu.edu.tw/kidfammap/show_inhibitor.php?QueryType=Protein&QueryName=DDR2&Query_Pid=DDR2',\n",
    "                       'http://gemdock.life.nctu.edu.tw/kidfammap/show_inhibitor.php?QueryType=Protein&QueryName=EPHA1&Query_Pid=EPHA1',\n",
    "                       'http://gemdock.life.nctu.edu.tw/kidfammap/show_inhibitor.php?QueryType=Protein&QueryName=EPHA10&Query_Pid=EPHA10',\n",
    "                       'http://gemdock.life.nctu.edu.tw/kidfammap/show_inhibitor.php?QueryType=Protein&QueryName=EPHB1&Query_Pid=EPHB1',\n",
    "                       'http://gemdock.life.nctu.edu.tw/kidfammap/show_inhibitor.php?QueryType=Protein&QueryName=EPHB2&Query_Pid=EPHB2',\n",
    "                       'http://gemdock.life.nctu.edu.tw/kidfammap/show_inhibitor.php?QueryType=Protein&QueryName=EPHB3&Query_Pid=EPHB3',\n",
    "                       'http://gemdock.life.nctu.edu.tw/kidfammap/show_inhibitor.php?QueryType=Protein&QueryName=EPHB6&Query_Pid=EPHB6',\n",
    "                       'http://gemdock.life.nctu.edu.tw/kidfammap/show_inhibitor.php?QueryType=Protein&QueryName=FER&Query_Pid=FER',\n",
    "                       'http://gemdock.life.nctu.edu.tw/kidfammap/show_inhibitor.php?QueryType=Protein&QueryName=FGFR3&Query_Pid=FGFR3',\n",
    "                       'http://gemdock.life.nctu.edu.tw/kidfammap/show_inhibitor.php?QueryType=Protein&QueryName=FGFR4&Query_Pid=FGFR4',\n",
    "                       'http://gemdock.life.nctu.edu.tw/kidfammap/show_inhibitor.php?QueryType=Protein&QueryName=FGR&Query_Pid=FGR',\n",
    "                       'http://gemdock.life.nctu.edu.tw/kidfammap/show_inhibitor.php?QueryType=Protein&QueryName=FLT4&Query_Pid=FLT4',\n",
    "                       'http://gemdock.life.nctu.edu.tw/kidfammap/show_inhibitor.php?QueryType=Protein&QueryName=FRK&Query_Pid=FRK',\n",
    "                       'http://gemdock.life.nctu.edu.tw/kidfammap/show_inhibitor.php?QueryType=Protein&QueryName=INSRR&Query_Pid=INSRR',\n",
    "                       'http://gemdock.life.nctu.edu.tw/kidfammap/show_inhibitor.php?QueryType=Protein&QueryName=LMTK3&Query_Pid=LMTK3',\n",
    "                       'http://gemdock.life.nctu.edu.tw/kidfammap/show_inhibitor.php?QueryType=Protein&QueryName=LTK&Query_Pid=LTK',\n",
    "                       'http://gemdock.life.nctu.edu.tw/kidfammap/show_inhibitor.php?QueryType=Protein&QueryName=MATK&Query_Pid=MATK',\n",
    "                       'http://gemdock.life.nctu.edu.tw/kidfammap/show_inhibitor.php?QueryType=Protein&QueryName=MUSK&Query_Pid=MUSK',\n",
    "                       'http://gemdock.life.nctu.edu.tw/kidfammap/show_inhibitor.php?QueryType=Protein&QueryName=NTRK1&Query_Pid=NTRK1',\n",
    "                       'http://gemdock.life.nctu.edu.tw/kidfammap/show_inhibitor.php?QueryType=Protein&QueryName=NTRK2&Query_Pid=NTRK2',\n",
    "                       'http://gemdock.life.nctu.edu.tw/kidfammap/show_inhibitor.php?QueryType=Protein&QueryName=NTRK3&Query_Pid=NTRK3',\n",
    "                       'http://gemdock.life.nctu.edu.tw/kidfammap/show_inhibitor.php?QueryType=Protein&QueryName=PDGFRA&Query_Pid=PDGFRA',\n",
    "                       'http://gemdock.life.nctu.edu.tw/kidfammap/show_inhibitor.php?QueryType=Protein&QueryName=PDGFRB&Query_Pid=PDGFRB',\n",
    "                       'http://gemdock.life.nctu.edu.tw/kidfammap/show_inhibitor.php?QueryType=Protein&QueryName=PTK6&Query_Pid=PTK6',\n",
    "                       'http://gemdock.life.nctu.edu.tw/kidfammap/show_inhibitor.php?QueryType=Protein&QueryName=PTK7&Query_Pid=PTK7',\n",
    "                       'http://gemdock.life.nctu.edu.tw/kidfammap/show_inhibitor.php?QueryType=Protein&QueryName=ROR1&Query_Pid=ROR1',\n",
    "                       'http://gemdock.life.nctu.edu.tw/kidfammap/show_inhibitor.php?QueryType=Protein&QueryName=ROR2&Query_Pid=ROR2',\n",
    "                       'http://gemdock.life.nctu.edu.tw/kidfammap/show_inhibitor.php?QueryType=Protein&QueryName=ROS1&Query_Pid=ROS1',\n",
    "                       'http://gemdock.life.nctu.edu.tw/kidfammap/show_inhibitor.php?QueryType=Protein&QueryName=RYK&Query_Pid=RYK',\n",
    "                       'http://gemdock.life.nctu.edu.tw/kidfammap/show_inhibitor.php?QueryType=Protein&QueryName=SRMS&Query_Pid=SRMS',\n",
    "                       'http://gemdock.life.nctu.edu.tw/kidfammap/show_inhibitor.php?QueryType=Protein&QueryName=STYK1&Query_Pid=STYK1',\n",
    "                       'http://gemdock.life.nctu.edu.tw/kidfammap/show_inhibitor.php?QueryType=Protein&QueryName=TEC&Query_Pid=TEC',\n",
    "                       'http://gemdock.life.nctu.edu.tw/kidfammap/show_inhibitor.php?QueryType=Protein&QueryName=TIE1&Query_Pid=TIE1',\n",
    "                       'http://gemdock.life.nctu.edu.tw/kidfammap/show_inhibitor.php?QueryType=Protein&QueryName=TNK1&Query_Pid=TNK1',\n",
    "                       'http://gemdock.life.nctu.edu.tw/kidfammap/show_inhibitor.php?QueryType=Protein&QueryName=TXK&Query_Pid=TXK',\n",
    "                       'http://gemdock.life.nctu.edu.tw/kidfammap/show_inhibitor.php?QueryType=Protein&QueryName=TYRO3&Query_Pid=TYRO3',\n",
    "                       'http://gemdock.life.nctu.edu.tw/kidfammap/show_inhibitor.php?QueryType=Protein&QueryName=YES1&Query_Pid=YES1',\n",
    "                       'http://gemdock.life.nctu.edu.tw/kidfammap/show_inhibitor.php?QueryType=Protein&QueryName=ACVR1B&Query_Pid=ACVR1B',\n",
    "                       'http://gemdock.life.nctu.edu.tw/kidfammap/show_inhibitor.php?QueryType=Protein&QueryName=ACVR1C&Query_Pid=ACVR1C',\n",
    "                       'http://gemdock.life.nctu.edu.tw/kidfammap/show_inhibitor.php?QueryType=Protein&QueryName=AMHR2&Query_Pid=AMHR2',\n",
    "                       'http://gemdock.life.nctu.edu.tw/kidfammap/show_inhibitor.php?QueryType=Protein&QueryName=ARAF&Query_Pid=ARAF',\n",
    "                       'http://gemdock.life.nctu.edu.tw/kidfammap/show_inhibitor.php?QueryType=Protein&QueryName=BMPR1A&Query_Pid=BMPR1A',\n",
    "                       'http://gemdock.life.nctu.edu.tw/kidfammap/show_inhibitor.php?QueryType=Protein&QueryName=IRAK1&Query_Pid=IRAK1',\n",
    "                       'http://gemdock.life.nctu.edu.tw/kidfammap/show_inhibitor.php?QueryType=Protein&QueryName=KIAA1804&Query_Pid=KIAA1804',\n",
    "                       'http://gemdock.life.nctu.edu.tw/kidfammap/show_inhibitor.php?QueryType=Protein&QueryName=KSR1&Query_Pid=KSR1',\n",
    "                       'http://gemdock.life.nctu.edu.tw/kidfammap/show_inhibitor.php?QueryType=Protein&QueryName=MAP3K10&Query_Pid=MAP3K10',\n",
    "                       'http://gemdock.life.nctu.edu.tw/kidfammap/show_inhibitor.php?QueryType=Protein&QueryName=MAP3K11&Query_Pid=MAP3K11',\n",
    "                       'http://gemdock.life.nctu.edu.tw/kidfammap/show_inhibitor.php?QueryType=Protein&QueryName=MAP3K12&Query_Pid=MAP3K12',\n",
    "                       'http://gemdock.life.nctu.edu.tw/kidfammap/show_inhibitor.php?QueryType=Protein&QueryName=MAP3K13&Query_Pid=MAP3K13',\n",
    "                       'http://gemdock.life.nctu.edu.tw/kidfammap/show_inhibitor.php?QueryType=Protein&QueryName=TGFBR2&Query_Pid=TGFBR2',\n",
    "                       'http://gemdock.life.nctu.edu.tw/kidfammap/show_inhibitor.php?QueryType=Protein&QueryName=ZAK&Query_Pid=ZAK']\n",
    "\n",
    "        # Go to the website at the above URLs and get a response object\n",
    "        # which contains the HTML code for that web page\n",
    "        # Define what to do with the response object\n",
    "        # i.e. send it to the parse method defined below\n",
    "        \n",
    "        for url in kinase_urls:  \n",
    "            yield scrapy.Request( url = url, callback = self.parse )      \n",
    " \n",
    "    def parse( self, response ):\n",
    "        \n",
    "        # Each inhibitor list web page has information we'd like to\n",
    "        # extract and place into a list \"inhibs\" \n",
    "        # (which we must initialise in the next cell rather than here)\n",
    "        # We also want to extract the UniProt ID and kinase ID\n",
    "        # in order to translate the latter to the former\n",
    "        # for cross-referencing in our database\n",
    "        # Define CSS or xpath locators to point to the required data \n",
    "        # and extract the text\n",
    "       \n",
    "        raw = response.css( 'div.result tbody > tr' ).extract()\n",
    "        uniprot = response.xpath( '//a[@target=\"_blank\"]/text()' ).extract()\n",
    "        kin = response.css( 'td.tdleft5::text' ).extract()\n",
    "        \n",
    "        # Save the data in a list \"fields\"\n",
    "        \n",
    "        fields = [ field for field in raw ]\n",
    "        \n",
    "        # For each kinase, append the information about its\n",
    "        # inhibitors to \"inhibs\"\n",
    "        \n",
    "        inhibs.append( fields )\n",
    "        kins.append( kin )\n",
    "        uniprots.append( uniprot )"
   ]
  },
  {
   "cell_type": "markdown",
   "metadata": {},
   "source": [
    "Run the spider: crawl KIDFamMap for inhibitors"
   ]
  },
  {
   "cell_type": "code",
   "execution_count": null,
   "metadata": {},
   "outputs": [],
   "source": [
    "inhibs = []\n",
    "kins = []\n",
    "uniprots = []\n",
    "\n",
    "# Run the spider\n",
    "\n",
    "process = CrawlerProcess()\n",
    "process.crawl( InhibitorSpider )\n",
    "process.start()\n",
    "\n",
    "# N.B. kernel needs to be cleared before repeating"
   ]
  },
  {
   "cell_type": "markdown",
   "metadata": {},
   "source": [
    "Clean up the data in \"inhibs\" and store in \"inhibitors\""
   ]
  },
  {
   "cell_type": "code",
   "execution_count": null,
   "metadata": {},
   "outputs": [],
   "source": [
    "inhibitors = []\n",
    "\n",
    "for i in inhibs: # for each kinase\n",
    "    for j in i: # for each kinase-inhibitor relationship\n",
    "        chemical = []\n",
    "        inh = j.split( \"</td>\" ) # Split row into individual fields\n",
    "        for k in inh: # for each field, remove unnecessary characters\n",
    "            field = k.replace( \"<tr>\", \"\" ) \n",
    "            field = field.replace( \"\\r\", \"\" )\n",
    "            field = field.replace( \"\\t\", \"\" )\n",
    "            field = field.replace( \"<td>\", \"\" )\n",
    "            field = field.replace( \"\\n\", \"\" )\n",
    "            chemical.append( field ) # Make a row of cleaned, separate fields\n",
    "        inhibitors.append( chemical ) # Add this row to \"inhibitors\""
   ]
  },
  {
   "cell_type": "markdown",
   "metadata": {},
   "source": [
    "Define column names, based on those on the KIDFamMap website"
   ]
  },
  {
   "cell_type": "code",
   "execution_count": null,
   "metadata": {},
   "outputs": [],
   "source": [
    "headers = [ \"Index\", \"Kinase\", \"Inhibitor\", \"Partial_Img_URL\",\n",
    "           \"Ki_nM\", \"IC50_nM\", \"Kd_nM\", \"EC50_nM\", \"POC\", \"Source\",\n",
    "           \"Link\", \"To_Remove\" ]"
   ]
  },
  {
   "cell_type": "markdown",
   "metadata": {},
   "source": [
    "Save the inhibitors information in a Pandas data frame"
   ]
  },
  {
   "cell_type": "code",
   "execution_count": null,
   "metadata": {},
   "outputs": [],
   "source": [
    "inhibitors_df = pd.DataFrame( inhibitors, columns = headers )"
   ]
  },
  {
   "cell_type": "markdown",
   "metadata": {},
   "source": [
    "Generate a dictionary of kinase names with their UniProt IDs"
   ]
  },
  {
   "cell_type": "code",
   "execution_count": null,
   "metadata": {},
   "outputs": [],
   "source": [
    "kinases = []\n",
    "\n",
    "for i in kins:\n",
    "    kin = str( i )\n",
    "    kin = kin.replace( \"[\", \"\" )\n",
    "    kin = kin.replace( \"]\", \"\" )\n",
    "    kin = kin.replace( \"\\\\r\", \"\" )\n",
    "    kin = kin.replace( \"\\\\t\", \"\" )\n",
    "    kin = kin.replace( \"<td>\", \"\" )\n",
    "    kin = kin.replace( \"\\\\n\", \"\" )\n",
    "    kin = kin.replace( \"(', ')\", \"\" )\n",
    "    kin = kin.replace( \"'\", \"\" )\n",
    "    kin = kin.replace( \" \", \"\" )\n",
    "    kin = kin.split( \",\" )\n",
    "    kinases.append( kin[ 0 ] ) \n",
    "\n",
    "uniprot_ids = []\n",
    "\n",
    "for i in uniprots:\n",
    "    up = str( i )\n",
    "    up = up.replace( \"[\", \"\" )\n",
    "    up = up.replace( \"]\", \"\" )\n",
    "    up = up.replace( \"\\\\r\", \"\" )\n",
    "    up = up.replace( \"\\\\t\", \"\" )\n",
    "    up = up.replace( \"<td>\", \"\" )\n",
    "    up = up.replace( \"\\\\n\", \"\" )\n",
    "    up = up.replace( \"(', ')\", \"\" )\n",
    "    up = up.replace( \"'\", \"\" )\n",
    "    up = up.replace( \" \", \"\" )\n",
    "    up = up.split( \",\" )\n",
    "    uniprot_ids.append( str( up[ 0 ] ) )"
   ]
  },
  {
   "cell_type": "code",
   "execution_count": null,
   "metadata": {},
   "outputs": [],
   "source": [
    "uniprot_dict = dict( list( zip( kinases, uniprot_ids ) ) )"
   ]
  },
  {
   "cell_type": "markdown",
   "metadata": {},
   "source": [
    "Translate the kinase IDs to UniProt IDs and store in column"
   ]
  },
  {
   "cell_type": "code",
   "execution_count": null,
   "metadata": {},
   "outputs": [],
   "source": [
    "UniProt_ID = []\n",
    "\n",
    "for n, i in enumerate( inhibitors_df.Kinase ):\n",
    "    if i in uniprot_dict.keys():\n",
    "        uni = uniprot_dict.get( i )\n",
    "        UniProt_ID.append( uni )\n",
    "    else:\n",
    "        UniProt_ID.append( float( 'NaN' ) )\n",
    "\n",
    "UniProt_ID = pd.Series( UniProt_ID )\n",
    "inhibitors_df = inhibitors_df.assign( UniProt_ID = UniProt_ID )"
   ]
  },
  {
   "cell_type": "markdown",
   "metadata": {},
   "source": [
    "Using information in the data frame, generate a column of URLs for the inhibitors' chemical structure images. Our web app can subsequently use these to display images."
   ]
  },
  {
   "cell_type": "code",
   "execution_count": null,
   "metadata": {},
   "outputs": [],
   "source": [
    "IMG_URL = []\n",
    "\n",
    "for n,i in enumerate( inhibitors_df.Partial_Img_URL ):\n",
    "    URL = 'http://gemdock.life.nctu.edu.tw/kidfammap/data/png/'\n",
    "    URL += str( inhibitors_df.Source[ n ] ) + \"/\"\n",
    "    URL += str( i ) + \".png\"\n",
    "    IMG_URL.append( URL )\n",
    "\n",
    "IMG_URL = pd.Series( IMG_URL )\n",
    "inhibitors_df = inhibitors_df.assign( IMG_URL = IMG_URL )"
   ]
  },
  {
   "cell_type": "markdown",
   "metadata": {},
   "source": [
    "Make \"kinase\" and \"inhibitor\" entries uppercase."
   ]
  },
  {
   "cell_type": "code",
   "execution_count": null,
   "metadata": {},
   "outputs": [],
   "source": [
    "uppercase_kinase = []\n",
    "uppercase_inhib = []\n",
    "\n",
    "for n,i in enumerate( inhibitors_df.Kinase ):\n",
    "    uppercase_kinase.append( str( i ).upper() )\n",
    "    uppercase_inhib.append( inhibitors_df.Inhibitor[ n ].upper() )\n",
    "\n",
    "uppercase_kinase = pd.Series( uppercase_kinase )\n",
    "uppercase_inhib = pd.Series( uppercase_inhib )\n",
    "\n",
    "inhibitors_df = inhibitors_df.assign( Kinase = uppercase_kinase )\n",
    "inhibitors_df = inhibitors_df.assign( Inhibitor = uppercase_inhib )"
   ]
  },
  {
   "cell_type": "markdown",
   "metadata": {},
   "source": [
    "Make a temporary column combining the inhibitor and kinase names, to check for duplicates"
   ]
  },
  {
   "cell_type": "code",
   "execution_count": null,
   "metadata": {},
   "outputs": [],
   "source": [
    "unique = []\n",
    "\n",
    "for n,i in enumerate( inhibitors_df.Inhibitor ):\n",
    "    uniq = str( i ) + \"_\" + str( inhibitors_df.Kinase[ n ] )\n",
    "    unique.append( uniq )\n",
    "\n",
    "unique = pd.Series( unique )\n",
    "inhibitors_df = inhibitors_df.assign( UNIQUE = unique )"
   ]
  },
  {
   "cell_type": "markdown",
   "metadata": {},
   "source": [
    "Drop any duplicate kinase-inhibitor pairs and reset the indices"
   ]
  },
  {
   "cell_type": "code",
   "execution_count": null,
   "metadata": {},
   "outputs": [],
   "source": [
    "inhibitors_df = inhibitors_df.drop_duplicates( subset = \"UNIQUE\" )\n",
    "inhibitors_df = inhibitors_df.reset_index( drop = True )"
   ]
  },
  {
   "cell_type": "markdown",
   "metadata": {},
   "source": [
    "Drop any rows without a UniProt ID"
   ]
  },
  {
   "cell_type": "code",
   "execution_count": null,
   "metadata": {},
   "outputs": [],
   "source": [
    "inhibitors_df = inhibitors_df.dropna( subset = [ \"UniProt_ID\" ] )\n",
    "inhibitors_df = inhibitors_df.reset_index( drop = True )"
   ]
  },
  {
   "cell_type": "markdown",
   "metadata": {},
   "source": [
    "Remove any columns not required for the web app"
   ]
  },
  {
   "cell_type": "code",
   "execution_count": null,
   "metadata": {},
   "outputs": [],
   "source": [
    "inhibitors_df = inhibitors_df.drop( [ \"Index\", \"To_Remove\", \"Partial_Img_URL\", \"Link\", \"UNIQUE\" ], axis = 1 )"
   ]
  },
  {
   "cell_type": "markdown",
   "metadata": {},
   "source": [
    "Make data frame of kinase-inhibitor pairs"
   ]
  },
  {
   "cell_type": "code",
   "execution_count": null,
   "metadata": {},
   "outputs": [],
   "source": [
    "inhib_kin_df = inhibitors_df[ [ 'Kinase', 'Inhibitor', 'UniProt_ID' ] ]"
   ]
  },
  {
   "cell_type": "markdown",
   "metadata": {},
   "source": [
    "Make data frame of inhibitors"
   ]
  },
  {
   "cell_type": "code",
   "execution_count": null,
   "metadata": {},
   "outputs": [],
   "source": [
    "inhibitors_df = inhibitors_df.drop_duplicates( subset = \"Inhibitor\" )\n",
    "inhibitors_df = inhibitors_df.drop( [ \"Kinase\" ], axis = 1 )\n",
    "inhibitors_df = inhibitors_df.reset_index( drop = True )"
   ]
  },
  {
   "cell_type": "markdown",
   "metadata": {},
   "source": [
    "Make a column of primary keys"
   ]
  },
  {
   "cell_type": "code",
   "execution_count": null,
   "metadata": {},
   "outputs": [],
   "source": [
    "prim_key = []\n",
    "\n",
    "count = 1\n",
    "\n",
    "for i in inhibitors_df.Inhibitor:\n",
    "    key = \"IN\" + \"{:07d}\".format( count )\n",
    "    prim_key.append( key )\n",
    "    count += 1\n",
    "\n",
    "prim_key = pd.Series( prim_key )\n",
    "\n",
    "inhibitors_df = inhibitors_df.assign( ID_IN = prim_key )"
   ]
  },
  {
   "cell_type": "code",
   "execution_count": null,
   "metadata": {},
   "outputs": [],
   "source": [
    "prim_key = []\n",
    "\n",
    "count = 1\n",
    "\n",
    "for i in inhib_kin_df.Inhibitor:\n",
    "    key = \"KI\" + \"{:07d}\".format( count )\n",
    "    prim_key.append( key )\n",
    "    count += 1\n",
    "\n",
    "prim_key = pd.Series( prim_key )\n",
    "\n",
    "inhib_kin_df = inhib_kin_df.assign( ID_KI = prim_key )"
   ]
  },
  {
   "cell_type": "markdown",
   "metadata": {},
   "source": [
    "Write to csv"
   ]
  },
  {
   "cell_type": "code",
   "execution_count": null,
   "metadata": {},
   "outputs": [],
   "source": [
    "inhib_kin_df.to_csv( \"inhib_kin.csv\", index = False )"
   ]
  },
  {
   "cell_type": "code",
   "execution_count": null,
   "metadata": {},
   "outputs": [],
   "source": [
    "inhibitors_df.to_csv( \"inhibitors.csv\", index = False )"
   ]
  }
 ],
 "metadata": {
  "kernelspec": {
   "display_name": "Python 3",
   "language": "python",
   "name": "python3"
  },
  "language_info": {
   "codemirror_mode": {
    "name": "ipython",
    "version": 3
   },
   "file_extension": ".py",
   "mimetype": "text/x-python",
   "name": "python",
   "nbconvert_exporter": "python",
   "pygments_lexer": "ipython3",
   "version": "3.7.4"
  }
 },
 "nbformat": 4,
 "nbformat_minor": 2
}
